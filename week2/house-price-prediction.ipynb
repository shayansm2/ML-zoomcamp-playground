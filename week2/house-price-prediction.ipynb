{
 "cells": [
  {
   "cell_type": "code",
   "execution_count": 1,
   "id": "initial_id",
   "metadata": {
    "collapsed": true,
    "ExecuteTime": {
     "end_time": "2023-09-26T15:45:40.891803Z",
     "start_time": "2023-09-26T15:45:40.877997Z"
    }
   },
   "outputs": [],
   "source": [
    "import numpy as np\n",
    "import pandas as pd\n",
    "\n",
    "from matplotlib import pyplot as plt\n",
    "import seaborn as sns\n",
    "%matplotlib inline"
   ]
  },
  {
   "cell_type": "code",
   "execution_count": 2,
   "outputs": [],
   "source": [
    "from week2.CategoricalFeatureEncoder import CategoricalFeatureEncoder\n",
    "from week2.LRFlow import LRFlow"
   ],
   "metadata": {
    "collapsed": false,
    "ExecuteTime": {
     "end_time": "2023-09-26T15:45:41.192375Z",
     "start_time": "2023-09-26T15:45:41.175289Z"
    }
   },
   "id": "8f4d4a262eab7dc8"
  },
  {
   "cell_type": "code",
   "execution_count": 3,
   "outputs": [
    {
     "data": {
      "text/plain": "       longitude  latitude  housing_median_age  total_rooms  total_bedrooms  \\\n0        -122.23     37.88                41.0        880.0           129.0   \n1        -122.22     37.86                21.0       7099.0          1106.0   \n2        -122.24     37.85                52.0       1467.0           190.0   \n3        -122.25     37.85                52.0       1274.0           235.0   \n4        -122.25     37.85                52.0       1627.0           280.0   \n...          ...       ...                 ...          ...             ...   \n20635    -121.09     39.48                25.0       1665.0           374.0   \n20636    -121.21     39.49                18.0        697.0           150.0   \n20637    -121.22     39.43                17.0       2254.0           485.0   \n20638    -121.32     39.43                18.0       1860.0           409.0   \n20639    -121.24     39.37                16.0       2785.0           616.0   \n\n       population  households  median_income  median_house_value  \\\n0           322.0       126.0         8.3252            452600.0   \n1          2401.0      1138.0         8.3014            358500.0   \n2           496.0       177.0         7.2574            352100.0   \n3           558.0       219.0         5.6431            341300.0   \n4           565.0       259.0         3.8462            342200.0   \n...           ...         ...            ...                 ...   \n20635       845.0       330.0         1.5603             78100.0   \n20636       356.0       114.0         2.5568             77100.0   \n20637      1007.0       433.0         1.7000             92300.0   \n20638       741.0       349.0         1.8672             84700.0   \n20639      1387.0       530.0         2.3886             89400.0   \n\n      ocean_proximity  \n0            NEAR BAY  \n1            NEAR BAY  \n2            NEAR BAY  \n3            NEAR BAY  \n4            NEAR BAY  \n...               ...  \n20635          INLAND  \n20636          INLAND  \n20637          INLAND  \n20638          INLAND  \n20639          INLAND  \n\n[20640 rows x 10 columns]",
      "text/html": "<div>\n<style scoped>\n    .dataframe tbody tr th:only-of-type {\n        vertical-align: middle;\n    }\n\n    .dataframe tbody tr th {\n        vertical-align: top;\n    }\n\n    .dataframe thead th {\n        text-align: right;\n    }\n</style>\n<table border=\"1\" class=\"dataframe\">\n  <thead>\n    <tr style=\"text-align: right;\">\n      <th></th>\n      <th>longitude</th>\n      <th>latitude</th>\n      <th>housing_median_age</th>\n      <th>total_rooms</th>\n      <th>total_bedrooms</th>\n      <th>population</th>\n      <th>households</th>\n      <th>median_income</th>\n      <th>median_house_value</th>\n      <th>ocean_proximity</th>\n    </tr>\n  </thead>\n  <tbody>\n    <tr>\n      <th>0</th>\n      <td>-122.23</td>\n      <td>37.88</td>\n      <td>41.0</td>\n      <td>880.0</td>\n      <td>129.0</td>\n      <td>322.0</td>\n      <td>126.0</td>\n      <td>8.3252</td>\n      <td>452600.0</td>\n      <td>NEAR BAY</td>\n    </tr>\n    <tr>\n      <th>1</th>\n      <td>-122.22</td>\n      <td>37.86</td>\n      <td>21.0</td>\n      <td>7099.0</td>\n      <td>1106.0</td>\n      <td>2401.0</td>\n      <td>1138.0</td>\n      <td>8.3014</td>\n      <td>358500.0</td>\n      <td>NEAR BAY</td>\n    </tr>\n    <tr>\n      <th>2</th>\n      <td>-122.24</td>\n      <td>37.85</td>\n      <td>52.0</td>\n      <td>1467.0</td>\n      <td>190.0</td>\n      <td>496.0</td>\n      <td>177.0</td>\n      <td>7.2574</td>\n      <td>352100.0</td>\n      <td>NEAR BAY</td>\n    </tr>\n    <tr>\n      <th>3</th>\n      <td>-122.25</td>\n      <td>37.85</td>\n      <td>52.0</td>\n      <td>1274.0</td>\n      <td>235.0</td>\n      <td>558.0</td>\n      <td>219.0</td>\n      <td>5.6431</td>\n      <td>341300.0</td>\n      <td>NEAR BAY</td>\n    </tr>\n    <tr>\n      <th>4</th>\n      <td>-122.25</td>\n      <td>37.85</td>\n      <td>52.0</td>\n      <td>1627.0</td>\n      <td>280.0</td>\n      <td>565.0</td>\n      <td>259.0</td>\n      <td>3.8462</td>\n      <td>342200.0</td>\n      <td>NEAR BAY</td>\n    </tr>\n    <tr>\n      <th>...</th>\n      <td>...</td>\n      <td>...</td>\n      <td>...</td>\n      <td>...</td>\n      <td>...</td>\n      <td>...</td>\n      <td>...</td>\n      <td>...</td>\n      <td>...</td>\n      <td>...</td>\n    </tr>\n    <tr>\n      <th>20635</th>\n      <td>-121.09</td>\n      <td>39.48</td>\n      <td>25.0</td>\n      <td>1665.0</td>\n      <td>374.0</td>\n      <td>845.0</td>\n      <td>330.0</td>\n      <td>1.5603</td>\n      <td>78100.0</td>\n      <td>INLAND</td>\n    </tr>\n    <tr>\n      <th>20636</th>\n      <td>-121.21</td>\n      <td>39.49</td>\n      <td>18.0</td>\n      <td>697.0</td>\n      <td>150.0</td>\n      <td>356.0</td>\n      <td>114.0</td>\n      <td>2.5568</td>\n      <td>77100.0</td>\n      <td>INLAND</td>\n    </tr>\n    <tr>\n      <th>20637</th>\n      <td>-121.22</td>\n      <td>39.43</td>\n      <td>17.0</td>\n      <td>2254.0</td>\n      <td>485.0</td>\n      <td>1007.0</td>\n      <td>433.0</td>\n      <td>1.7000</td>\n      <td>92300.0</td>\n      <td>INLAND</td>\n    </tr>\n    <tr>\n      <th>20638</th>\n      <td>-121.32</td>\n      <td>39.43</td>\n      <td>18.0</td>\n      <td>1860.0</td>\n      <td>409.0</td>\n      <td>741.0</td>\n      <td>349.0</td>\n      <td>1.8672</td>\n      <td>84700.0</td>\n      <td>INLAND</td>\n    </tr>\n    <tr>\n      <th>20639</th>\n      <td>-121.24</td>\n      <td>39.37</td>\n      <td>16.0</td>\n      <td>2785.0</td>\n      <td>616.0</td>\n      <td>1387.0</td>\n      <td>530.0</td>\n      <td>2.3886</td>\n      <td>89400.0</td>\n      <td>INLAND</td>\n    </tr>\n  </tbody>\n</table>\n<p>20640 rows × 10 columns</p>\n</div>"
     },
     "execution_count": 3,
     "metadata": {},
     "output_type": "execute_result"
    }
   ],
   "source": [
    "df = pd.read_csv('housing.csv')\n",
    "df"
   ],
   "metadata": {
    "collapsed": false,
    "ExecuteTime": {
     "end_time": "2023-09-26T15:45:41.547256Z",
     "start_time": "2023-09-26T15:45:41.507141Z"
    }
   },
   "id": "7a0429da33036388"
  },
  {
   "cell_type": "markdown",
   "source": [
    "# data understanding"
   ],
   "metadata": {
    "collapsed": false
   },
   "id": "d9556e26223a31a3"
  },
  {
   "cell_type": "code",
   "execution_count": 4,
   "outputs": [
    {
     "data": {
      "text/plain": "<Figure size 1000x400 with 2 Axes>",
      "image/png": "[encoded data removed]"
     },
     "metadata": {},
     "output_type": "display_data"
    }
   ],
   "source": [
    "fig, axs = plt.subplots(1, 2, figsize=(10, 4))\n",
    "\n",
    "# plot the histograms on separate subplots\n",
    "sns.histplot(df.median_house_value.values, ax=axs[0])\n",
    "sns.histplot(df.median_house_value.values, ax=axs[1], log_scale=True)\n",
    "\n",
    "# show the plot\n",
    "plt.show()"
   ],
   "metadata": {
    "collapsed": false,
    "ExecuteTime": {
     "end_time": "2023-09-26T15:45:43.002682Z",
     "start_time": "2023-09-26T15:45:42.676035Z"
    }
   },
   "id": "d97a64ad24625791"
  },
  {
   "cell_type": "markdown",
   "source": [
    "# data cleaning"
   ],
   "metadata": {
    "collapsed": false
   },
   "id": "a0970e5cf6b0c077"
  },
  {
   "cell_type": "code",
   "execution_count": 5,
   "outputs": [],
   "source": [
    "enum_ocean_proximity = df['ocean_proximity'].unique().tolist()"
   ],
   "metadata": {
    "collapsed": false,
    "ExecuteTime": {
     "end_time": "2023-09-26T15:45:45.296453Z",
     "start_time": "2023-09-26T15:45:45.290116Z"
    }
   },
   "id": "74b4c5fecb78ccc2"
  },
  {
   "cell_type": "code",
   "execution_count": 6,
   "outputs": [],
   "source": [
    "def get_input(df: pd.DataFrame):\n",
    "    x = df.copy()\n",
    "    x['ocean_proximity'] = x['ocean_proximity'].str.lower().str.replace(' ', '_')\n",
    "    x['total_bedrooms'].fillna(x['total_bedrooms'].mean(), inplace=True)\n",
    "    x, _ = CategoricalFeatureEncoder.one_hot_encode(x, 'ocean_proximity', enum_ocean_proximity)\n",
    "    x.drop(columns=['median_house_value', 'ocean_proximity'], inplace=True)\n",
    "    return x.values"
   ],
   "metadata": {
    "collapsed": false,
    "ExecuteTime": {
     "end_time": "2023-09-26T15:45:46.307019Z",
     "start_time": "2023-09-26T15:45:46.292456Z"
    }
   },
   "id": "b608b8981194e78e"
  },
  {
   "cell_type": "code",
   "execution_count": 9,
   "outputs": [
    {
     "name": "stdout",
     "output_type": "stream",
     "text": [
      "0.164\n"
     ]
    },
    {
     "data": {
      "text/plain": "<Figure size 640x480 with 1 Axes>",
      "image/png": "[encoded data removed]"
     },
     "metadata": {},
     "output_type": "display_data"
    }
   ],
   "source": [
    "flow = LRFlow(df)\n",
    "# flow.set_input_modifier(get_input)\n",
    "print(flow.get_validation_rmse())\n",
    "flow.plot_validation_predict_vs_actual()"
   ],
   "metadata": {
    "collapsed": false,
    "ExecuteTime": {
     "end_time": "2023-09-26T15:45:57.727850Z",
     "start_time": "2023-09-26T15:45:57.532409Z"
    }
   },
   "id": "5971b27180959a31"
  },
  {
   "cell_type": "code",
   "execution_count": 11,
   "outputs": [
    {
     "data": {
      "text/plain": "array([[-1.1712e+02,  3.2560e+01,  2.0000e+01, ...,  2.9286e+00,\n         2.5770e+05,  0.0000e+00],\n       [-1.2096e+02,  4.1120e+01,  2.9000e+01, ...,  2.5000e+00,\n         5.9200e+04,  0.0000e+00],\n       [-1.2162e+02,  3.9090e+01,  2.1000e+01, ...,  3.8534e+00,\n         9.9700e+04,  0.0000e+00],\n       ...,\n       [-1.2257e+02,  3.8110e+01,  2.4000e+01, ...,  3.1981e+00,\n         2.1530e+05,  0.0000e+00],\n       [-1.2228e+02,  3.8220e+01,  4.2000e+01, ...,  7.5197e+00,\n         2.7500e+05,  0.0000e+00],\n       [-1.1801e+02,  3.3930e+01,  3.4000e+01, ...,  3.2750e+00,\n         1.8990e+05,  0.0000e+00]])"
     },
     "execution_count": 11,
     "metadata": {},
     "output_type": "execute_result"
    }
   ],
   "source": [
    "flow.input_modifier(flow.df_validation)"
   ],
   "metadata": {
    "collapsed": false,
    "ExecuteTime": {
     "end_time": "2023-09-26T15:47:24.360043Z",
     "start_time": "2023-09-26T15:47:24.347276Z"
    }
   },
   "id": "ad5b59a925eda230"
  },
  {
   "cell_type": "code",
   "execution_count": 12,
   "outputs": [
    {
     "data": {
      "text/plain": "       longitude  latitude  housing_median_age  total_rooms  total_bedrooms  \\\n14790    -117.12     32.56                20.0       2524.0           682.0   \n3346     -120.96     41.12                29.0        779.0           136.0   \n19699    -121.62     39.09                21.0       2693.0           481.0   \n17146    -122.19     37.44                38.0       3383.0           456.0   \n5562     -118.28     33.91                41.0        620.0           133.0   \n...          ...       ...                 ...          ...             ...   \n18383    -121.80     37.19                45.0       1797.0           303.0   \n20498    -118.70     34.29                25.0       1678.0           252.0   \n9274     -122.57     38.11                24.0       2863.0           734.0   \n9939     -122.28     38.22                42.0        106.0            18.0   \n7087     -118.01     33.93                34.0       2424.0           468.0   \n\n       population  households  median_income  median_house_value  \\\n14790      1819.0       560.0         2.9286            257700.0   \n3346        364.0       123.0         2.5000             59200.0   \n19699      1337.0       435.0         3.8534             99700.0   \n17146      1203.0       465.0         9.3198            500001.0   \n5562        642.0       162.0         2.6546            159600.0   \n...           ...         ...            ...                 ...   \n18383       870.0       281.0         4.5417            434500.0   \n20498       862.0       268.0         6.1834            229800.0   \n9274       1583.0       682.0         3.1981            215300.0   \n9939         40.0        25.0         7.5197            275000.0   \n7087       1293.0       444.0         3.2750            189900.0   \n\n      ocean_proximity  \n14790      near_ocean  \n3346           inland  \n19699          inland  \n17146      near_ocean  \n5562        <1h_ocean  \n...               ...  \n18383       <1h_ocean  \n20498       <1h_ocean  \n9274         near_bay  \n9939         near_bay  \n7087        <1h_ocean  \n\n[4128 rows x 10 columns]",
      "text/html": "<div>\n<style scoped>\n    .dataframe tbody tr th:only-of-type {\n        vertical-align: middle;\n    }\n\n    .dataframe tbody tr th {\n        vertical-align: top;\n    }\n\n    .dataframe thead th {\n        text-align: right;\n    }\n</style>\n<table border=\"1\" class=\"dataframe\">\n  <thead>\n    <tr style=\"text-align: right;\">\n      <th></th>\n      <th>longitude</th>\n      <th>latitude</th>\n      <th>housing_median_age</th>\n      <th>total_rooms</th>\n      <th>total_bedrooms</th>\n      <th>population</th>\n      <th>households</th>\n      <th>median_income</th>\n      <th>median_house_value</th>\n      <th>ocean_proximity</th>\n    </tr>\n  </thead>\n  <tbody>\n    <tr>\n      <th>14790</th>\n      <td>-117.12</td>\n      <td>32.56</td>\n      <td>20.0</td>\n      <td>2524.0</td>\n      <td>682.0</td>\n      <td>1819.0</td>\n      <td>560.0</td>\n      <td>2.9286</td>\n      <td>257700.0</td>\n      <td>near_ocean</td>\n    </tr>\n    <tr>\n      <th>3346</th>\n      <td>-120.96</td>\n      <td>41.12</td>\n      <td>29.0</td>\n      <td>779.0</td>\n      <td>136.0</td>\n      <td>364.0</td>\n      <td>123.0</td>\n      <td>2.5000</td>\n      <td>59200.0</td>\n      <td>inland</td>\n    </tr>\n    <tr>\n      <th>19699</th>\n      <td>-121.62</td>\n      <td>39.09</td>\n      <td>21.0</td>\n      <td>2693.0</td>\n      <td>481.0</td>\n      <td>1337.0</td>\n      <td>435.0</td>\n      <td>3.8534</td>\n      <td>99700.0</td>\n      <td>inland</td>\n    </tr>\n    <tr>\n      <th>17146</th>\n      <td>-122.19</td>\n      <td>37.44</td>\n      <td>38.0</td>\n      <td>3383.0</td>\n      <td>456.0</td>\n      <td>1203.0</td>\n      <td>465.0</td>\n      <td>9.3198</td>\n      <td>500001.0</td>\n      <td>near_ocean</td>\n    </tr>\n    <tr>\n      <th>5562</th>\n      <td>-118.28</td>\n      <td>33.91</td>\n      <td>41.0</td>\n      <td>620.0</td>\n      <td>133.0</td>\n      <td>642.0</td>\n      <td>162.0</td>\n      <td>2.6546</td>\n      <td>159600.0</td>\n      <td>&lt;1h_ocean</td>\n    </tr>\n    <tr>\n      <th>...</th>\n      <td>...</td>\n      <td>...</td>\n      <td>...</td>\n      <td>...</td>\n      <td>...</td>\n      <td>...</td>\n      <td>...</td>\n      <td>...</td>\n      <td>...</td>\n      <td>...</td>\n    </tr>\n    <tr>\n      <th>18383</th>\n      <td>-121.80</td>\n      <td>37.19</td>\n      <td>45.0</td>\n      <td>1797.0</td>\n      <td>303.0</td>\n      <td>870.0</td>\n      <td>281.0</td>\n      <td>4.5417</td>\n      <td>434500.0</td>\n      <td>&lt;1h_ocean</td>\n    </tr>\n    <tr>\n      <th>20498</th>\n      <td>-118.70</td>\n      <td>34.29</td>\n      <td>25.0</td>\n      <td>1678.0</td>\n      <td>252.0</td>\n      <td>862.0</td>\n      <td>268.0</td>\n      <td>6.1834</td>\n      <td>229800.0</td>\n      <td>&lt;1h_ocean</td>\n    </tr>\n    <tr>\n      <th>9274</th>\n      <td>-122.57</td>\n      <td>38.11</td>\n      <td>24.0</td>\n      <td>2863.0</td>\n      <td>734.0</td>\n      <td>1583.0</td>\n      <td>682.0</td>\n      <td>3.1981</td>\n      <td>215300.0</td>\n      <td>near_bay</td>\n    </tr>\n    <tr>\n      <th>9939</th>\n      <td>-122.28</td>\n      <td>38.22</td>\n      <td>42.0</td>\n      <td>106.0</td>\n      <td>18.0</td>\n      <td>40.0</td>\n      <td>25.0</td>\n      <td>7.5197</td>\n      <td>275000.0</td>\n      <td>near_bay</td>\n    </tr>\n    <tr>\n      <th>7087</th>\n      <td>-118.01</td>\n      <td>33.93</td>\n      <td>34.0</td>\n      <td>2424.0</td>\n      <td>468.0</td>\n      <td>1293.0</td>\n      <td>444.0</td>\n      <td>3.2750</td>\n      <td>189900.0</td>\n      <td>&lt;1h_ocean</td>\n    </tr>\n  </tbody>\n</table>\n<p>4128 rows × 10 columns</p>\n</div>"
     },
     "execution_count": 12,
     "metadata": {},
     "output_type": "execute_result"
    }
   ],
   "source": [
    "flow.df_validation"
   ],
   "metadata": {
    "collapsed": false,
    "ExecuteTime": {
     "end_time": "2023-09-26T15:47:39.958999Z",
     "start_time": "2023-09-26T15:47:39.951129Z"
    }
   },
   "id": "ba80001ab10f9813"
  },
  {
   "cell_type": "code",
   "execution_count": 42,
   "outputs": [],
   "source": [
    "def get_input_by_frequency_of_categorical_features(df: pd.DataFrame, n: int):\n",
    "    x = df.copy()\n",
    "    x['ocean_proximity'] = x['ocean_proximity'].str.lower().str.replace(' ', '_')\n",
    "    x['total_bedrooms'].fillna(x['total_bedrooms'].mean(), inplace=True)\n",
    "    x, _ = CategoricalFeatureEncoder.one_hot_encode(x, 'ocean_proximity', enum_ocean_proximity, n)\n",
    "    x.drop(columns=['median_house_value', 'ocean_proximity'], inplace=True)\n",
    "    return x.values"
   ],
   "metadata": {
    "collapsed": false,
    "ExecuteTime": {
     "start_time": "2023-09-26T15:19:51.607073Z"
    }
   },
   "id": "859b3462a63e9c32"
  },
  {
   "cell_type": "code",
   "execution_count": null,
   "outputs": [],
   "source": [
    "# remove lat and long\n",
    "# why get_input is worse than default_input_modifier ?"
   ],
   "metadata": {
    "collapsed": false
   },
   "id": "62946c6fb229d1dd"
  }
 ],
 "metadata": {
  "kernelspec": {
   "display_name": "Python 3",
   "language": "python",
   "name": "python3"
  },
  "language_info": {
   "codemirror_mode": {
    "name": "ipython",
    "version": 2
   },
   "file_extension": ".py",
   "mimetype": "text/x-python",
   "name": "python",
   "nbconvert_exporter": "python",
   "pygments_lexer": "ipython2",
   "version": "2.7.6"
  }
 },
 "nbformat": 4,
 "nbformat_minor": 5
}
