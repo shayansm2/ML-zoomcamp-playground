{
 "cells": [
  {
   "cell_type": "code",
   "execution_count": 1,
   "id": "initial_id",
   "metadata": {
    "collapsed": true,
    "ExecuteTime": {
     "end_time": "2023-09-24T08:03:18.900795Z",
     "start_time": "2023-09-24T08:03:18.878050Z"
    }
   },
   "outputs": [],
   "source": [
    "import numpy as np\n",
    "import pandas as pd\n",
    "\n",
    "from matplotlib import pyplot as plt\n",
    "import seaborn as sns\n",
    "%matplotlib inline"
   ]
  },
  {
   "cell_type": "code",
   "execution_count": 2,
   "outputs": [
    {
     "data": {
      "text/plain": "       longitude  latitude  housing_median_age  total_rooms  total_bedrooms  \\\n0        -122.23     37.88                41.0        880.0           129.0   \n1        -122.22     37.86                21.0       7099.0          1106.0   \n2        -122.24     37.85                52.0       1467.0           190.0   \n3        -122.25     37.85                52.0       1274.0           235.0   \n4        -122.25     37.85                52.0       1627.0           280.0   \n...          ...       ...                 ...          ...             ...   \n20635    -121.09     39.48                25.0       1665.0           374.0   \n20636    -121.21     39.49                18.0        697.0           150.0   \n20637    -121.22     39.43                17.0       2254.0           485.0   \n20638    -121.32     39.43                18.0       1860.0           409.0   \n20639    -121.24     39.37                16.0       2785.0           616.0   \n\n       population  households  median_income  median_house_value  \\\n0           322.0       126.0         8.3252            452600.0   \n1          2401.0      1138.0         8.3014            358500.0   \n2           496.0       177.0         7.2574            352100.0   \n3           558.0       219.0         5.6431            341300.0   \n4           565.0       259.0         3.8462            342200.0   \n...           ...         ...            ...                 ...   \n20635       845.0       330.0         1.5603             78100.0   \n20636       356.0       114.0         2.5568             77100.0   \n20637      1007.0       433.0         1.7000             92300.0   \n20638       741.0       349.0         1.8672             84700.0   \n20639      1387.0       530.0         2.3886             89400.0   \n\n      ocean_proximity  \n0            NEAR BAY  \n1            NEAR BAY  \n2            NEAR BAY  \n3            NEAR BAY  \n4            NEAR BAY  \n...               ...  \n20635          INLAND  \n20636          INLAND  \n20637          INLAND  \n20638          INLAND  \n20639          INLAND  \n\n[20640 rows x 10 columns]",
      "text/html": "<div>\n<style scoped>\n    .dataframe tbody tr th:only-of-type {\n        vertical-align: middle;\n    }\n\n    .dataframe tbody tr th {\n        vertical-align: top;\n    }\n\n    .dataframe thead th {\n        text-align: right;\n    }\n</style>\n<table border=\"1\" class=\"dataframe\">\n  <thead>\n    <tr style=\"text-align: right;\">\n      <th></th>\n      <th>longitude</th>\n      <th>latitude</th>\n      <th>housing_median_age</th>\n      <th>total_rooms</th>\n      <th>total_bedrooms</th>\n      <th>population</th>\n      <th>households</th>\n      <th>median_income</th>\n      <th>median_house_value</th>\n      <th>ocean_proximity</th>\n    </tr>\n  </thead>\n  <tbody>\n    <tr>\n      <th>0</th>\n      <td>-122.23</td>\n      <td>37.88</td>\n      <td>41.0</td>\n      <td>880.0</td>\n      <td>129.0</td>\n      <td>322.0</td>\n      <td>126.0</td>\n      <td>8.3252</td>\n      <td>452600.0</td>\n      <td>NEAR BAY</td>\n    </tr>\n    <tr>\n      <th>1</th>\n      <td>-122.22</td>\n      <td>37.86</td>\n      <td>21.0</td>\n      <td>7099.0</td>\n      <td>1106.0</td>\n      <td>2401.0</td>\n      <td>1138.0</td>\n      <td>8.3014</td>\n      <td>358500.0</td>\n      <td>NEAR BAY</td>\n    </tr>\n    <tr>\n      <th>2</th>\n      <td>-122.24</td>\n      <td>37.85</td>\n      <td>52.0</td>\n      <td>1467.0</td>\n      <td>190.0</td>\n      <td>496.0</td>\n      <td>177.0</td>\n      <td>7.2574</td>\n      <td>352100.0</td>\n      <td>NEAR BAY</td>\n    </tr>\n    <tr>\n      <th>3</th>\n      <td>-122.25</td>\n      <td>37.85</td>\n      <td>52.0</td>\n      <td>1274.0</td>\n      <td>235.0</td>\n      <td>558.0</td>\n      <td>219.0</td>\n      <td>5.6431</td>\n      <td>341300.0</td>\n      <td>NEAR BAY</td>\n    </tr>\n    <tr>\n      <th>4</th>\n      <td>-122.25</td>\n      <td>37.85</td>\n      <td>52.0</td>\n      <td>1627.0</td>\n      <td>280.0</td>\n      <td>565.0</td>\n      <td>259.0</td>\n      <td>3.8462</td>\n      <td>342200.0</td>\n      <td>NEAR BAY</td>\n    </tr>\n    <tr>\n      <th>...</th>\n      <td>...</td>\n      <td>...</td>\n      <td>...</td>\n      <td>...</td>\n      <td>...</td>\n      <td>...</td>\n      <td>...</td>\n      <td>...</td>\n      <td>...</td>\n      <td>...</td>\n    </tr>\n    <tr>\n      <th>20635</th>\n      <td>-121.09</td>\n      <td>39.48</td>\n      <td>25.0</td>\n      <td>1665.0</td>\n      <td>374.0</td>\n      <td>845.0</td>\n      <td>330.0</td>\n      <td>1.5603</td>\n      <td>78100.0</td>\n      <td>INLAND</td>\n    </tr>\n    <tr>\n      <th>20636</th>\n      <td>-121.21</td>\n      <td>39.49</td>\n      <td>18.0</td>\n      <td>697.0</td>\n      <td>150.0</td>\n      <td>356.0</td>\n      <td>114.0</td>\n      <td>2.5568</td>\n      <td>77100.0</td>\n      <td>INLAND</td>\n    </tr>\n    <tr>\n      <th>20637</th>\n      <td>-121.22</td>\n      <td>39.43</td>\n      <td>17.0</td>\n      <td>2254.0</td>\n      <td>485.0</td>\n      <td>1007.0</td>\n      <td>433.0</td>\n      <td>1.7000</td>\n      <td>92300.0</td>\n      <td>INLAND</td>\n    </tr>\n    <tr>\n      <th>20638</th>\n      <td>-121.32</td>\n      <td>39.43</td>\n      <td>18.0</td>\n      <td>1860.0</td>\n      <td>409.0</td>\n      <td>741.0</td>\n      <td>349.0</td>\n      <td>1.8672</td>\n      <td>84700.0</td>\n      <td>INLAND</td>\n    </tr>\n    <tr>\n      <th>20639</th>\n      <td>-121.24</td>\n      <td>39.37</td>\n      <td>16.0</td>\n      <td>2785.0</td>\n      <td>616.0</td>\n      <td>1387.0</td>\n      <td>530.0</td>\n      <td>2.3886</td>\n      <td>89400.0</td>\n      <td>INLAND</td>\n    </tr>\n  </tbody>\n</table>\n<p>20640 rows × 10 columns</p>\n</div>"
     },
     "execution_count": 2,
     "metadata": {},
     "output_type": "execute_result"
    }
   ],
   "source": [
    "df = pd.read_csv('housing.csv')\n",
    "df"
   ],
   "metadata": {
    "collapsed": false,
    "ExecuteTime": {
     "end_time": "2023-09-24T08:03:34.615098Z",
     "start_time": "2023-09-24T08:03:34.575090Z"
    }
   },
   "id": "2e52cebe7a0b16ac"
  },
  {
   "cell_type": "code",
   "execution_count": 3,
   "outputs": [
    {
     "data": {
      "text/plain": "<Axes: ylabel='Count'>"
     },
     "execution_count": 3,
     "metadata": {},
     "output_type": "execute_result"
    },
    {
     "data": {
      "text/plain": "<Figure size 640x480 with 1 Axes>",
      "image/png": "[encoded data removed]"
     },
     "metadata": {},
     "output_type": "display_data"
    }
   ],
   "source": [
    "sns.histplot(df.median_house_value.values)"
   ],
   "metadata": {
    "collapsed": false,
    "ExecuteTime": {
     "end_time": "2023-09-24T08:03:36.357210Z",
     "start_time": "2023-09-24T08:03:36.087401Z"
    }
   },
   "id": "b3d87a7b014a1e6"
  },
  {
   "cell_type": "code",
   "execution_count": 4,
   "outputs": [
    {
     "data": {
      "text/plain": "array(['NEAR BAY', '<1H OCEAN', 'INLAND', 'NEAR OCEAN', 'ISLAND'],\n      dtype=object)"
     },
     "execution_count": 4,
     "metadata": {},
     "output_type": "execute_result"
    }
   ],
   "source": [
    "df.ocean_proximity.unique()"
   ],
   "metadata": {
    "collapsed": false,
    "ExecuteTime": {
     "end_time": "2023-09-24T08:03:38.763323Z",
     "start_time": "2023-09-24T08:03:38.758760Z"
    }
   },
   "id": "9ed6735ce8df51b6"
  },
  {
   "cell_type": "code",
   "execution_count": 5,
   "outputs": [],
   "source": [
    "df = df[(df['ocean_proximity'] == '<1H OCEAN') | (df['ocean_proximity'] == 'INLAND')]"
   ],
   "metadata": {
    "collapsed": false,
    "ExecuteTime": {
     "end_time": "2023-09-24T08:03:40.542326Z",
     "start_time": "2023-09-24T08:03:40.532521Z"
    }
   },
   "id": "594d79553d2310e5"
  },
  {
   "cell_type": "code",
   "execution_count": 6,
   "outputs": [
    {
     "data": {
      "text/plain": "<Figure size 1000x400 with 2 Axes>",
      "image/png": "[encoded data removed]"
     },
     "metadata": {},
     "output_type": "display_data"
    }
   ],
   "source": [
    "fig, axs = plt.subplots(1, 2, figsize=(10, 4))\n",
    "\n",
    "# plot the histograms on separate subplots\n",
    "sns.histplot(df.median_house_value.values, ax=axs[0])\n",
    "sns.histplot(np.log1p(df.median_house_value.values), ax=axs[1])\n",
    "\n",
    "# show the plot\n",
    "plt.show()"
   ],
   "metadata": {
    "collapsed": false,
    "ExecuteTime": {
     "end_time": "2023-09-24T08:03:41.695768Z",
     "start_time": "2023-09-24T08:03:41.501824Z"
    }
   },
   "id": "549f2cc2f31ef6b8"
  },
  {
   "cell_type": "code",
   "execution_count": 7,
   "outputs": [],
   "source": [
    "numerical_columns = ['latitude', 'longitude', 'housing_median_age', 'total_rooms', 'total_bedrooms', 'population', 'households', 'median_income', 'median_house_value']"
   ],
   "metadata": {
    "collapsed": false,
    "ExecuteTime": {
     "end_time": "2023-09-24T08:03:43.754101Z",
     "start_time": "2023-09-24T08:03:43.750568Z"
    }
   },
   "id": "67ee802b10af9d10"
  },
  {
   "cell_type": "code",
   "execution_count": 8,
   "outputs": [],
   "source": [
    "df = df[numerical_columns]"
   ],
   "metadata": {
    "collapsed": false,
    "ExecuteTime": {
     "end_time": "2023-09-24T08:03:44.508426Z",
     "start_time": "2023-09-24T08:03:44.494980Z"
    }
   },
   "id": "291f37fcc51363f7"
  },
  {
   "cell_type": "code",
   "execution_count": 9,
   "outputs": [
    {
     "data": {
      "text/plain": "       latitude  longitude  housing_median_age  total_rooms  total_bedrooms  \\\n701       37.64    -121.97                32.0       1283.0           194.0   \n830       37.61    -121.99                 9.0       3666.0           711.0   \n859       37.57    -121.97                21.0       4342.0           783.0   \n860       37.58    -121.96                15.0       3575.0           597.0   \n861       37.58    -121.98                20.0       4126.0          1031.0   \n...         ...        ...                 ...          ...             ...   \n20635     39.48    -121.09                25.0       1665.0           374.0   \n20636     39.49    -121.21                18.0        697.0           150.0   \n20637     39.43    -121.22                17.0       2254.0           485.0   \n20638     39.43    -121.32                18.0       1860.0           409.0   \n20639     39.37    -121.24                16.0       2785.0           616.0   \n\n       population  households  median_income  median_house_value  \n701         485.0       171.0         6.0574            431000.0  \n830        2341.0       703.0         4.6458            217000.0  \n859        2172.0       789.0         4.6146            247600.0  \n860        1777.0       559.0         5.7192            283500.0  \n861        2079.0       975.0         3.6832            216900.0  \n...           ...         ...            ...                 ...  \n20635       845.0       330.0         1.5603             78100.0  \n20636       356.0       114.0         2.5568             77100.0  \n20637      1007.0       433.0         1.7000             92300.0  \n20638       741.0       349.0         1.8672             84700.0  \n20639      1387.0       530.0         2.3886             89400.0  \n\n[15687 rows x 9 columns]",
      "text/html": "<div>\n<style scoped>\n    .dataframe tbody tr th:only-of-type {\n        vertical-align: middle;\n    }\n\n    .dataframe tbody tr th {\n        vertical-align: top;\n    }\n\n    .dataframe thead th {\n        text-align: right;\n    }\n</style>\n<table border=\"1\" class=\"dataframe\">\n  <thead>\n    <tr style=\"text-align: right;\">\n      <th></th>\n      <th>latitude</th>\n      <th>longitude</th>\n      <th>housing_median_age</th>\n      <th>total_rooms</th>\n      <th>total_bedrooms</th>\n      <th>population</th>\n      <th>households</th>\n      <th>median_income</th>\n      <th>median_house_value</th>\n    </tr>\n  </thead>\n  <tbody>\n    <tr>\n      <th>701</th>\n      <td>37.64</td>\n      <td>-121.97</td>\n      <td>32.0</td>\n      <td>1283.0</td>\n      <td>194.0</td>\n      <td>485.0</td>\n      <td>171.0</td>\n      <td>6.0574</td>\n      <td>431000.0</td>\n    </tr>\n    <tr>\n      <th>830</th>\n      <td>37.61</td>\n      <td>-121.99</td>\n      <td>9.0</td>\n      <td>3666.0</td>\n      <td>711.0</td>\n      <td>2341.0</td>\n      <td>703.0</td>\n      <td>4.6458</td>\n      <td>217000.0</td>\n    </tr>\n    <tr>\n      <th>859</th>\n      <td>37.57</td>\n      <td>-121.97</td>\n      <td>21.0</td>\n      <td>4342.0</td>\n      <td>783.0</td>\n      <td>2172.0</td>\n      <td>789.0</td>\n      <td>4.6146</td>\n      <td>247600.0</td>\n    </tr>\n    <tr>\n      <th>860</th>\n      <td>37.58</td>\n      <td>-121.96</td>\n      <td>15.0</td>\n      <td>3575.0</td>\n      <td>597.0</td>\n      <td>1777.0</td>\n      <td>559.0</td>\n      <td>5.7192</td>\n      <td>283500.0</td>\n    </tr>\n    <tr>\n      <th>861</th>\n      <td>37.58</td>\n      <td>-121.98</td>\n      <td>20.0</td>\n      <td>4126.0</td>\n      <td>1031.0</td>\n      <td>2079.0</td>\n      <td>975.0</td>\n      <td>3.6832</td>\n      <td>216900.0</td>\n    </tr>\n    <tr>\n      <th>...</th>\n      <td>...</td>\n      <td>...</td>\n      <td>...</td>\n      <td>...</td>\n      <td>...</td>\n      <td>...</td>\n      <td>...</td>\n      <td>...</td>\n      <td>...</td>\n    </tr>\n    <tr>\n      <th>20635</th>\n      <td>39.48</td>\n      <td>-121.09</td>\n      <td>25.0</td>\n      <td>1665.0</td>\n      <td>374.0</td>\n      <td>845.0</td>\n      <td>330.0</td>\n      <td>1.5603</td>\n      <td>78100.0</td>\n    </tr>\n    <tr>\n      <th>20636</th>\n      <td>39.49</td>\n      <td>-121.21</td>\n      <td>18.0</td>\n      <td>697.0</td>\n      <td>150.0</td>\n      <td>356.0</td>\n      <td>114.0</td>\n      <td>2.5568</td>\n      <td>77100.0</td>\n    </tr>\n    <tr>\n      <th>20637</th>\n      <td>39.43</td>\n      <td>-121.22</td>\n      <td>17.0</td>\n      <td>2254.0</td>\n      <td>485.0</td>\n      <td>1007.0</td>\n      <td>433.0</td>\n      <td>1.7000</td>\n      <td>92300.0</td>\n    </tr>\n    <tr>\n      <th>20638</th>\n      <td>39.43</td>\n      <td>-121.32</td>\n      <td>18.0</td>\n      <td>1860.0</td>\n      <td>409.0</td>\n      <td>741.0</td>\n      <td>349.0</td>\n      <td>1.8672</td>\n      <td>84700.0</td>\n    </tr>\n    <tr>\n      <th>20639</th>\n      <td>39.37</td>\n      <td>-121.24</td>\n      <td>16.0</td>\n      <td>2785.0</td>\n      <td>616.0</td>\n      <td>1387.0</td>\n      <td>530.0</td>\n      <td>2.3886</td>\n      <td>89400.0</td>\n    </tr>\n  </tbody>\n</table>\n<p>15687 rows × 9 columns</p>\n</div>"
     },
     "execution_count": 9,
     "metadata": {},
     "output_type": "execute_result"
    }
   ],
   "source": [
    "df"
   ],
   "metadata": {
    "collapsed": false,
    "ExecuteTime": {
     "end_time": "2023-09-24T08:03:45.378061Z",
     "start_time": "2023-09-24T08:03:45.373931Z"
    }
   },
   "id": "aaaf3aa6e5faccdc"
  },
  {
   "cell_type": "markdown",
   "source": [
    "## Question 1:"
   ],
   "metadata": {
    "collapsed": false
   },
   "id": "8e2c925e37df2f28"
  },
  {
   "cell_type": "code",
   "execution_count": 10,
   "outputs": [
    {
     "data": {
      "text/plain": "latitude                0\nlongitude               0\nhousing_median_age      0\ntotal_rooms             0\ntotal_bedrooms        157\npopulation              0\nhouseholds              0\nmedian_income           0\nmedian_house_value      0\ndtype: int64"
     },
     "execution_count": 10,
     "metadata": {},
     "output_type": "execute_result"
    }
   ],
   "source": [
    "df.isnull().sum()"
   ],
   "metadata": {
    "collapsed": false,
    "ExecuteTime": {
     "end_time": "2023-09-24T08:03:48.087163Z",
     "start_time": "2023-09-24T08:03:48.075643Z"
    }
   },
   "id": "d1f7e1638a57fca4"
  },
  {
   "cell_type": "code",
   "execution_count": 11,
   "outputs": [
    {
     "name": "stdout",
     "output_type": "stream",
     "text": [
      "q1: total_bedrooms\n"
     ]
    }
   ],
   "source": [
    "print('q1: total_bedrooms')"
   ],
   "metadata": {
    "collapsed": false,
    "ExecuteTime": {
     "end_time": "2023-09-24T08:03:49.572426Z",
     "start_time": "2023-09-24T08:03:49.562859Z"
    }
   },
   "id": "2a5bc0a15dc80c93"
  },
  {
   "cell_type": "markdown",
   "source": [
    "## Question 2:"
   ],
   "metadata": {
    "collapsed": false
   },
   "id": "3eb4a503a7454e82"
  },
  {
   "cell_type": "code",
   "execution_count": 12,
   "outputs": [
    {
     "data": {
      "text/plain": "           latitude     longitude  housing_median_age   total_rooms  \\\ncount  15687.000000  15687.000000        15687.000000  15687.000000   \nmean      35.467307   -119.217442           27.188118   2665.677312   \nstd        2.066387      1.780380           12.057128   2257.672743   \nmin       32.610000   -124.140000            1.000000      2.000000   \n25%       33.940000   -121.070000           17.000000   1441.000000   \n50%       34.160000   -118.370000           27.000000   2118.000000   \n75%       37.340000   -117.990000           36.000000   3172.000000   \nmax       41.950000   -114.310000           52.000000  39320.000000   \n\n       total_bedrooms    population    households  median_income  \\\ncount    15530.000000  15687.000000  15687.000000   15687.000000   \nmean       541.244688   1466.317205    500.916491       3.804019   \nstd        435.650018   1180.389908    392.759399       1.857158   \nmin          2.000000      3.000000      2.000000       0.499900   \n25%        295.000000    802.000000    278.000000       2.520800   \n50%        432.000000   1195.000000    406.000000       3.468800   \n75%        645.000000   1777.000000    602.000000       4.686200   \nmax       6445.000000  35682.000000   6082.000000      15.000100   \n\n       median_house_value  \ncount        15687.000000  \nmean        191943.020017  \nstd         108801.077620  \nmin          14999.000000  \n25%         111300.000000  \n50%         166900.000000  \n75%         241100.000000  \nmax         500001.000000  ",
      "text/html": "<div>\n<style scoped>\n    .dataframe tbody tr th:only-of-type {\n        vertical-align: middle;\n    }\n\n    .dataframe tbody tr th {\n        vertical-align: top;\n    }\n\n    .dataframe thead th {\n        text-align: right;\n    }\n</style>\n<table border=\"1\" class=\"dataframe\">\n  <thead>\n    <tr style=\"text-align: right;\">\n      <th></th>\n      <th>latitude</th>\n      <th>longitude</th>\n      <th>housing_median_age</th>\n      <th>total_rooms</th>\n      <th>total_bedrooms</th>\n      <th>population</th>\n      <th>households</th>\n      <th>median_income</th>\n      <th>median_house_value</th>\n    </tr>\n  </thead>\n  <tbody>\n    <tr>\n      <th>count</th>\n      <td>15687.000000</td>\n      <td>15687.000000</td>\n      <td>15687.000000</td>\n      <td>15687.000000</td>\n      <td>15530.000000</td>\n      <td>15687.000000</td>\n      <td>15687.000000</td>\n      <td>15687.000000</td>\n      <td>15687.000000</td>\n    </tr>\n    <tr>\n      <th>mean</th>\n      <td>35.467307</td>\n      <td>-119.217442</td>\n      <td>27.188118</td>\n      <td>2665.677312</td>\n      <td>541.244688</td>\n      <td>1466.317205</td>\n      <td>500.916491</td>\n      <td>3.804019</td>\n      <td>191943.020017</td>\n    </tr>\n    <tr>\n      <th>std</th>\n      <td>2.066387</td>\n      <td>1.780380</td>\n      <td>12.057128</td>\n      <td>2257.672743</td>\n      <td>435.650018</td>\n      <td>1180.389908</td>\n      <td>392.759399</td>\n      <td>1.857158</td>\n      <td>108801.077620</td>\n    </tr>\n    <tr>\n      <th>min</th>\n      <td>32.610000</td>\n      <td>-124.140000</td>\n      <td>1.000000</td>\n      <td>2.000000</td>\n      <td>2.000000</td>\n      <td>3.000000</td>\n      <td>2.000000</td>\n      <td>0.499900</td>\n      <td>14999.000000</td>\n    </tr>\n    <tr>\n      <th>25%</th>\n      <td>33.940000</td>\n      <td>-121.070000</td>\n      <td>17.000000</td>\n      <td>1441.000000</td>\n      <td>295.000000</td>\n      <td>802.000000</td>\n      <td>278.000000</td>\n      <td>2.520800</td>\n      <td>111300.000000</td>\n    </tr>\n    <tr>\n      <th>50%</th>\n      <td>34.160000</td>\n      <td>-118.370000</td>\n      <td>27.000000</td>\n      <td>2118.000000</td>\n      <td>432.000000</td>\n      <td>1195.000000</td>\n      <td>406.000000</td>\n      <td>3.468800</td>\n      <td>166900.000000</td>\n    </tr>\n    <tr>\n      <th>75%</th>\n      <td>37.340000</td>\n      <td>-117.990000</td>\n      <td>36.000000</td>\n      <td>3172.000000</td>\n      <td>645.000000</td>\n      <td>1777.000000</td>\n      <td>602.000000</td>\n      <td>4.686200</td>\n      <td>241100.000000</td>\n    </tr>\n    <tr>\n      <th>max</th>\n      <td>41.950000</td>\n      <td>-114.310000</td>\n      <td>52.000000</td>\n      <td>39320.000000</td>\n      <td>6445.000000</td>\n      <td>35682.000000</td>\n      <td>6082.000000</td>\n      <td>15.000100</td>\n      <td>500001.000000</td>\n    </tr>\n  </tbody>\n</table>\n</div>"
     },
     "execution_count": 12,
     "metadata": {},
     "output_type": "execute_result"
    }
   ],
   "source": [
    "df.describe()"
   ],
   "metadata": {
    "collapsed": false,
    "ExecuteTime": {
     "end_time": "2023-09-24T08:03:51.572419Z",
     "start_time": "2023-09-24T08:03:51.541323Z"
    }
   },
   "id": "1246c4efd8ad95ed"
  },
  {
   "cell_type": "code",
   "execution_count": 13,
   "outputs": [
    {
     "name": "stdout",
     "output_type": "stream",
     "text": [
      "q2: 1466.3172053292535\n"
     ]
    }
   ],
   "source": [
    "print('q2:', df.describe()['population'].loc['mean'])"
   ],
   "metadata": {
    "collapsed": false,
    "ExecuteTime": {
     "end_time": "2023-09-24T08:03:52.588099Z",
     "start_time": "2023-09-24T08:03:52.569633Z"
    }
   },
   "id": "fcde8c5e71e12094"
  },
  {
   "cell_type": "code",
   "execution_count": 31,
   "outputs": [],
   "source": [
    "def get_train_validation_test_data(df: pd.DataFrame, seed: int = 42):\n",
    "    n = len(df)\n",
    "    test_ratio = 0.2\n",
    "    validation_ratio = 0.2\n",
    "    \n",
    "    n_validation = int(validation_ratio * n)\n",
    "    n_test = int(test_ratio * n)\n",
    "    n_train = n - (n_validation + n_test)\n",
    "    \n",
    "    np.random.seed(seed)\n",
    "    idx = np.arange(n)\n",
    "    np.random.shuffle(idx)\n",
    "    \n",
    "    df_shuffled = df.iloc[idx]\n",
    "    \n",
    "    df_train: pd.DataFrame = df_shuffled.iloc[:n_train].copy()\n",
    "    df_validation: pd.DataFrame = df_shuffled.iloc[n_train:n_train + n_validation].copy()\n",
    "    df_test: pd.DataFrame = df_shuffled.iloc[n_train + n_validation:].copy()\n",
    "    \n",
    "    y_train = np.log1p(df_train.median_house_value.values)\n",
    "    y_validation = np.log1p(df_validation.median_house_value.values)\n",
    "    y_test = np.log1p(df_test.median_house_value.values)\n",
    "    \n",
    "    df_train.drop(columns=['median_house_value'], inplace=True)\n",
    "    df_validation.drop(columns=['median_house_value'], inplace=True)\n",
    "    df_test.drop(columns=['median_house_value'], inplace=True)\n",
    "    \n",
    "    return [df_train, df_validation, df_test, y_train, y_validation, y_test]"
   ],
   "metadata": {
    "collapsed": false,
    "ExecuteTime": {
     "end_time": "2023-09-24T08:09:39.454620Z",
     "start_time": "2023-09-24T08:09:39.443449Z"
    }
   },
   "id": "157bc7ae8992387e"
  },
  {
   "cell_type": "code",
   "execution_count": 32,
   "outputs": [],
   "source": [
    "df_train, df_validation, df_test, y_train, y_validation, y_test = get_train_validation_test_data(df)"
   ],
   "metadata": {
    "collapsed": false,
    "ExecuteTime": {
     "end_time": "2023-09-24T08:09:41.599589Z",
     "start_time": "2023-09-24T08:09:41.592361Z"
    }
   },
   "id": "3f9765375bacb266"
  },
  {
   "cell_type": "markdown",
   "source": [
    "## Question 3:"
   ],
   "metadata": {
    "collapsed": false
   },
   "id": "ab0953a0cfb2f596"
  },
  {
   "cell_type": "code",
   "execution_count": 16,
   "outputs": [],
   "source": [
    "from week2.LinearRegressionModel import LinearRegressionModel"
   ],
   "metadata": {
    "collapsed": false,
    "ExecuteTime": {
     "end_time": "2023-09-24T08:03:57.413054Z",
     "start_time": "2023-09-24T08:03:57.405198Z"
    }
   },
   "id": "99a2552db936249e"
  },
  {
   "cell_type": "markdown",
   "source": [
    "### zero solution"
   ],
   "metadata": {
    "collapsed": false
   },
   "id": "aee6b87f0c930e85"
  },
  {
   "cell_type": "code",
   "execution_count": 17,
   "outputs": [],
   "source": [
    "def zero_nan_data_prep(df: pd.DataFrame):\n",
    "    new_df = df.copy()\n",
    "    new_df['total_bedrooms'].fillna(0, inplace=True)\n",
    "    return new_df.values"
   ],
   "metadata": {
    "collapsed": false,
    "ExecuteTime": {
     "end_time": "2023-09-24T08:03:59.054989Z",
     "start_time": "2023-09-24T08:03:59.039220Z"
    }
   },
   "id": "760f949acb67c942"
  },
  {
   "cell_type": "code",
   "execution_count": 18,
   "outputs": [],
   "source": [
    "model = LinearRegressionModel(len(df_train.columns))\n",
    "x = zero_nan_data_prep(df_train)\n",
    "model.train(x, y_train)"
   ],
   "metadata": {
    "collapsed": false,
    "ExecuteTime": {
     "end_time": "2023-09-24T08:03:59.800505Z",
     "start_time": "2023-09-24T08:03:59.782785Z"
    }
   },
   "id": "60d89508c99aeab0"
  },
  {
   "cell_type": "code",
   "execution_count": 19,
   "outputs": [],
   "source": [
    "x_validation = zero_nan_data_prep(df_validation)\n",
    "y_predict_1 = model.predict(x_validation)"
   ],
   "metadata": {
    "collapsed": false,
    "ExecuteTime": {
     "end_time": "2023-09-24T08:04:00.802967Z",
     "start_time": "2023-09-24T08:04:00.766715Z"
    }
   },
   "id": "eb04420be6e59ebc"
  },
  {
   "cell_type": "markdown",
   "source": [
    "### mean solution"
   ],
   "metadata": {
    "collapsed": false
   },
   "id": "676398b019c39dd9"
  },
  {
   "cell_type": "code",
   "execution_count": 20,
   "outputs": [],
   "source": [
    "def mean_nan_data_prep(df: pd.DataFrame):\n",
    "    new_df = df.copy()\n",
    "    new_df['total_bedrooms'].fillna(new_df['total_bedrooms'].mean(), inplace=True)\n",
    "    return new_df.values"
   ],
   "metadata": {
    "collapsed": false,
    "ExecuteTime": {
     "end_time": "2023-09-24T08:04:02.246361Z",
     "start_time": "2023-09-24T08:04:02.235359Z"
    }
   },
   "id": "dc009c3bd87a3117"
  },
  {
   "cell_type": "code",
   "execution_count": 21,
   "outputs": [],
   "source": [
    "x = mean_nan_data_prep(df_train)\n",
    "model.train(x, y_train)"
   ],
   "metadata": {
    "collapsed": false,
    "ExecuteTime": {
     "end_time": "2023-09-24T08:04:03.023266Z",
     "start_time": "2023-09-24T08:04:02.943381Z"
    }
   },
   "id": "e8775254d86b72ba"
  },
  {
   "cell_type": "code",
   "execution_count": 22,
   "outputs": [],
   "source": [
    "x_validation = mean_nan_data_prep(df_validation)\n",
    "y_predict_2 = model.predict(x_validation)"
   ],
   "metadata": {
    "collapsed": false,
    "ExecuteTime": {
     "end_time": "2023-09-24T08:04:03.676711Z",
     "start_time": "2023-09-24T08:04:03.644927Z"
    }
   },
   "id": "5eb51bcae08c4805"
  },
  {
   "cell_type": "code",
   "execution_count": 23,
   "outputs": [
    {
     "name": "stdout",
     "output_type": "stream",
     "text": [
      "zero_solution:  0.34\n",
      "mean_solution:  0.34\n",
      "q3: Both are equally good\n"
     ]
    }
   ],
   "source": [
    "print('zero_solution: ', round(model.rmse(y_validation, y_predict_1), 2))\n",
    "print('mean_solution: ', round(model.rmse(y_validation, y_predict_2), 2))\n",
    "print('q3: Both are equally good')"
   ],
   "metadata": {
    "collapsed": false,
    "ExecuteTime": {
     "end_time": "2023-09-24T08:04:04.980539Z",
     "start_time": "2023-09-24T08:04:04.968184Z"
    }
   },
   "id": "dba3ceae87d38dc1"
  },
  {
   "cell_type": "code",
   "execution_count": 24,
   "outputs": [
    {
     "data": {
      "text/plain": "<matplotlib.legend.Legend at 0x1490ee710>"
     },
     "execution_count": 24,
     "metadata": {},
     "output_type": "execute_result"
    },
    {
     "data": {
      "text/plain": "<Figure size 640x480 with 1 Axes>",
      "image/png": "[encoded data removed]"
     },
     "metadata": {},
     "output_type": "display_data"
    }
   ],
   "source": [
    "sns.histplot(y_validation, label='target')\n",
    "sns.histplot(y_predict_1, label='null-zero prediction')\n",
    "sns.histplot(y_predict_2, label='null-mean prediction')\n",
    "plt.legend()"
   ],
   "metadata": {
    "collapsed": false,
    "ExecuteTime": {
     "end_time": "2023-09-24T08:04:06.265020Z",
     "start_time": "2023-09-24T08:04:06.067208Z"
    }
   },
   "id": "fc6e0b5b7e8a1ced"
  },
  {
   "cell_type": "markdown",
   "source": [
    "## Question 4:"
   ],
   "metadata": {
    "collapsed": false
   },
   "id": "6f8999c1d51130a4"
  },
  {
   "cell_type": "code",
   "execution_count": 25,
   "outputs": [
    {
     "name": "stdout",
     "output_type": "stream",
     "text": [
      "r: 0 \t rmse: 0.34\n",
      "r: 1e-06 \t rmse: 0.34\n",
      "r: 0.0001 \t rmse: 0.34\n",
      "r: 0.001 \t rmse: 0.34\n",
      "r: 0.01 \t rmse: 0.34\n",
      "r: 0.1 \t rmse: 0.34\n",
      "r: 1 \t rmse: 0.34\n",
      "r: 5 \t rmse: 0.35\n",
      "r: 10 \t rmse: 0.35\n"
     ]
    }
   ],
   "source": [
    "from week2.RidgeRegressionModel import RidgeRegressionModel\n",
    "\n",
    "reg_factors = [0, 0.000001, 0.0001, 0.001, 0.01, 0.1, 1, 5, 10]\n",
    "for r in reg_factors:\n",
    "    model = RidgeRegressionModel(len(df_train.columns), r)\n",
    "    x_train = zero_nan_data_prep(df_train)\n",
    "    model.train(x_train, y_train)\n",
    "    x_validation = zero_nan_data_prep(df_validation)\n",
    "    y_predict = model.predict(x_validation)\n",
    "    rmse = round(model.rmse(y_validation, y_predict), 2)\n",
    "    print(f'r: {r} \\t rmse: {rmse}')"
   ],
   "metadata": {
    "collapsed": false,
    "ExecuteTime": {
     "end_time": "2023-09-24T08:04:09.619415Z",
     "start_time": "2023-09-24T08:04:09.552113Z"
    }
   },
   "id": "5036fe66a0e283d"
  },
  {
   "cell_type": "code",
   "execution_count": 26,
   "outputs": [
    {
     "name": "stdout",
     "output_type": "stream",
     "text": [
      "q4: 0\n"
     ]
    }
   ],
   "source": [
    "print('q4: 0')"
   ],
   "metadata": {
    "collapsed": false,
    "ExecuteTime": {
     "end_time": "2023-09-24T08:04:10.932027Z",
     "start_time": "2023-09-24T08:04:10.923168Z"
    }
   },
   "id": "89cd4a52d812faa3"
  },
  {
   "cell_type": "markdown",
   "source": [
    "## Question 5:"
   ],
   "metadata": {
    "collapsed": false
   },
   "id": "535e6e1ea065cafd"
  },
  {
   "cell_type": "code",
   "execution_count": 33,
   "outputs": [],
   "source": [
    "rmse_scores = []\n",
    "for seed in [0, 1, 2, 3, 4, 5, 6, 7, 8, 9]:\n",
    "    df_train, df_validation, df_test, y_train, y_validation, y_test = get_train_validation_test_data(df, seed)\n",
    "    x_train = zero_nan_data_prep(df_train)\n",
    "    model = LinearRegressionModel(len(x_train[0]))\n",
    "    model.train(x_train, y_train)\n",
    "    x_validation = zero_nan_data_prep(df_validation)\n",
    "    y_predication = model.predict(x_validation)\n",
    "    rmse = model.rmse(y_validation, y_predication)\n",
    "    rmse_scores.append(rmse)"
   ],
   "metadata": {
    "collapsed": false,
    "ExecuteTime": {
     "end_time": "2023-09-24T08:09:48.135262Z",
     "start_time": "2023-09-24T08:09:48.085163Z"
    }
   },
   "id": "ffea2a7f68d12da0"
  },
  {
   "cell_type": "code",
   "execution_count": 36,
   "outputs": [
    {
     "name": "stdout",
     "output_type": "stream",
     "text": [
      "q5: 0.005\n"
     ]
    }
   ],
   "source": [
    "print('q5:', round(np.std(rmse_scores), 3))"
   ],
   "metadata": {
    "collapsed": false,
    "ExecuteTime": {
     "end_time": "2023-09-24T08:10:24.868708Z",
     "start_time": "2023-09-24T08:10:24.851895Z"
    }
   },
   "id": "60746a8d4c0501e8"
  },
  {
   "cell_type": "markdown",
   "source": [
    "## Question 6:"
   ],
   "metadata": {
    "collapsed": false
   },
   "id": "d05bdbee3e056170"
  },
  {
   "cell_type": "code",
   "execution_count": 45,
   "outputs": [
    {
     "name": "stdout",
     "output_type": "stream",
     "text": [
      "q6: 0.33\n"
     ]
    }
   ],
   "source": [
    "df_train, df_validation, df_test, y_train, y_validation, y_test = get_train_validation_test_data(df, 9)\n",
    "df_train = pd.concat([df_train, df_validation])\n",
    "y_train = np.concatenate((y_train, y_validation))\n",
    "x_train = zero_nan_data_prep(df_train)\n",
    "model = RidgeRegressionModel(len(x_train[0]), 0.001)\n",
    "model.train(x_train, y_train)\n",
    "x_test = zero_nan_data_prep(df_test)\n",
    "y_predict = model.predict(x_test)\n",
    "print('q6:', round(model.rmse(y_test, y_predict), 2))"
   ],
   "metadata": {
    "collapsed": false,
    "ExecuteTime": {
     "end_time": "2023-09-24T08:29:09.690044Z",
     "start_time": "2023-09-24T08:29:09.635018Z"
    }
   },
   "id": "8455a0ade502adac"
  }
 ],
 "metadata": {
  "kernelspec": {
   "display_name": "Python 3",
   "language": "python",
   "name": "python3"
  },
  "language_info": {
   "codemirror_mode": {
    "name": "ipython",
    "version": 2
   },
   "file_extension": ".py",
   "mimetype": "text/x-python",
   "name": "python",
   "nbconvert_exporter": "python",
   "pygments_lexer": "ipython2",
   "version": "2.7.6"
  }
 },
 "nbformat": 4,
 "nbformat_minor": 5
}
