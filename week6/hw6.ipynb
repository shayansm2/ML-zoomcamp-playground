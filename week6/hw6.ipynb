{
 "cells": [
  {
   "cell_type": "code",
   "execution_count": 14,
   "id": "initial_id",
   "metadata": {
    "collapsed": true,
    "ExecuteTime": {
     "end_time": "2023-10-18T14:45:41.743270Z",
     "start_time": "2023-10-18T14:45:41.735007Z"
    }
   },
   "outputs": [],
   "source": [
    "import numpy as np\n",
    "import pandas as pd\n",
    "\n",
    "from matplotlib import pyplot as plt\n",
    "import seaborn as sns\n",
    "%matplotlib inline"
   ]
  },
  {
   "cell_type": "code",
   "execution_count": 15,
   "outputs": [],
   "source": [
    "seed = 1\n",
    "df = pd.read_csv('../week2/housing.csv')\n",
    "df = df[(df['ocean_proximity'] == '<1H OCEAN') | (df['ocean_proximity'] == 'INLAND')]\n",
    "df.fillna(0, inplace=True)\n",
    "df['median_house_value_log'] = np.log1p(df['median_house_value'])"
   ],
   "metadata": {
    "collapsed": false,
    "ExecuteTime": {
     "end_time": "2023-10-18T14:45:42.088959Z",
     "start_time": "2023-10-18T14:45:42.057572Z"
    }
   },
   "id": "ebc2e0f5531d7c95"
  },
  {
   "cell_type": "code",
   "execution_count": 16,
   "outputs": [],
   "source": [
    "from sklearn.model_selection import train_test_split\n",
    "\n",
    "df_train_val, df_test = train_test_split(df, random_state=seed, test_size=0.2)\n",
    "df_train, df_val = train_test_split(df_train_val, random_state=seed, test_size=0.25)\n",
    "\n",
    "y_train = df_train['median_house_value_log']\n",
    "y_val = df_val['median_house_value_log']\n",
    "y_test = df_test['median_house_value_log']\n",
    "\n",
    "del df_train['median_house_value_log']\n",
    "del df_val['median_house_value_log']\n",
    "del df_test['median_house_value_log']\n",
    "del df_train['median_house_value']\n",
    "del df_val['median_house_value']\n",
    "del df_test['median_house_value']"
   ],
   "metadata": {
    "collapsed": false,
    "ExecuteTime": {
     "end_time": "2023-10-18T14:45:42.420190Z",
     "start_time": "2023-10-18T14:45:42.408681Z"
    }
   },
   "id": "5924f53f10e20856"
  },
  {
   "cell_type": "code",
   "execution_count": 17,
   "outputs": [],
   "source": [
    "from sklearn.feature_extraction import DictVectorizer\n",
    "\n",
    "\n",
    "def get_vectorizer(df: pd.DataFrame):\n",
    "    copy = df.copy()\n",
    "    copy = copy.to_dict(orient='records')\n",
    "    dv = DictVectorizer(sparse=True)\n",
    "    dv.fit(copy)\n",
    "    return dv\n",
    "\n",
    "\n",
    "def get_input(df: pd.DataFrame, dv: DictVectorizer):\n",
    "    copy = df.copy()\n",
    "    copy = copy.to_dict(orient='records')\n",
    "    return dv.transform(copy)"
   ],
   "metadata": {
    "collapsed": false,
    "ExecuteTime": {
     "end_time": "2023-10-18T14:45:42.818386Z",
     "start_time": "2023-10-18T14:45:42.809050Z"
    }
   },
   "id": "217e8da7157566aa"
  },
  {
   "cell_type": "markdown",
   "source": [
    "# Question 1"
   ],
   "metadata": {
    "collapsed": false
   },
   "id": "f5fe463ac7bf4a6a"
  },
  {
   "cell_type": "code",
   "execution_count": 18,
   "outputs": [],
   "source": [
    "from sklearn.tree import DecisionTreeRegressor\n",
    "from sklearn.ensemble import RandomForestRegressor\n",
    "import abc\n",
    "\n",
    "\n",
    "class ModelInterface:\n",
    "    @abc.abstractmethod\n",
    "    def fit(self, x, y):\n",
    "        pass\n",
    "\n",
    "    @abc.abstractmethod\n",
    "    def predict(self, x):\n",
    "        pass\n",
    "\n",
    "\n",
    "class InputPreparator(object):\n",
    "    def __init__(self, df: pd.DataFrame):\n",
    "        self.dv = get_vectorizer(df)\n",
    "\n",
    "    def get_input(self, df: pd.DataFrame):\n",
    "        return get_input(df, self.dv)\n",
    "\n",
    "    def get_feature_names(self):\n",
    "        return self.dv.feature_names_\n",
    "\n",
    "\n",
    "class DecisionTreeRegressorModel(DecisionTreeRegressor, ModelInterface):\n",
    "    pass\n",
    "\n",
    "\n",
    "class RandomForestRegressorModel(RandomForestRegressor, ModelInterface):\n",
    "    pass"
   ],
   "metadata": {
    "collapsed": false,
    "ExecuteTime": {
     "end_time": "2023-10-18T14:45:44.102716Z",
     "start_time": "2023-10-18T14:45:44.088610Z"
    }
   },
   "id": "688b8325e452cc94"
  },
  {
   "cell_type": "code",
   "execution_count": 19,
   "outputs": [],
   "source": [
    "def train_procedure(model: ModelInterface, df, y) -> (ModelInterface, InputPreparator):\n",
    "    input_prep = InputPreparator(df)\n",
    "    x = input_prep.get_input(df)\n",
    "    model.fit(x, y)\n",
    "    return model, input_prep"
   ],
   "metadata": {
    "collapsed": false,
    "ExecuteTime": {
     "end_time": "2023-10-18T14:45:45.946703Z",
     "start_time": "2023-10-18T14:45:45.933525Z"
    }
   },
   "id": "ee98738f7b4d5d2f"
  },
  {
   "cell_type": "code",
   "execution_count": 20,
   "outputs": [
    {
     "name": "stdout",
     "output_type": "stream",
     "text": [
      "|--- ocean_proximity=<1H OCEAN <= 0.50\n",
      "|   |--- value: [11.61]\n",
      "|--- ocean_proximity=<1H OCEAN >  0.50\n",
      "|   |--- value: [12.30]\n"
     ]
    }
   ],
   "source": [
    "from sklearn.tree import export_text\n",
    "\n",
    "model = DecisionTreeRegressorModel(max_depth=1)\n",
    "model, input_prep = train_procedure(model, df_train, y_train)\n",
    "tree_text = export_text(model, feature_names=input_prep.get_feature_names())\n",
    "print(tree_text)"
   ],
   "metadata": {
    "collapsed": false,
    "ExecuteTime": {
     "end_time": "2023-10-18T14:45:47.358635Z",
     "start_time": "2023-10-18T14:45:47.263963Z"
    }
   },
   "id": "83737ba6d7a11cf4"
  },
  {
   "cell_type": "code",
   "execution_count": 21,
   "outputs": [
    {
     "name": "stdout",
     "output_type": "stream",
     "text": [
      "q1: ocean_proximity\n"
     ]
    }
   ],
   "source": [
    "print('q1: ocean_proximity')"
   ],
   "metadata": {
    "collapsed": false,
    "ExecuteTime": {
     "end_time": "2023-10-18T14:45:57.899183Z",
     "start_time": "2023-10-18T14:45:57.894146Z"
    }
   },
   "id": "4b0c3e984bea118a"
  },
  {
   "cell_type": "markdown",
   "source": [
    "# Question 2"
   ],
   "metadata": {
    "collapsed": false
   },
   "id": "483702d70483ab58"
  },
  {
   "cell_type": "code",
   "execution_count": 22,
   "outputs": [
    {
     "name": "stdout",
     "output_type": "stream",
     "text": [
      "q2:  0.05999847525676806\n"
     ]
    }
   ],
   "source": [
    "from sklearn.metrics import mean_squared_error\n",
    "\n",
    "model = RandomForestRegressorModel(n_estimators=10, random_state=seed, n_jobs=-1)\n",
    "model, input_prep = train_procedure(model, df_train, y_train)\n",
    "x_val = input_prep.get_input(df_val)\n",
    "y_pred = model.predict(x_val)\n",
    "print('q2: ', mean_squared_error(y_val, y_pred))"
   ],
   "metadata": {
    "collapsed": false,
    "ExecuteTime": {
     "end_time": "2023-10-18T14:47:29.111205Z",
     "start_time": "2023-10-18T14:47:28.676792Z"
    }
   },
   "id": "f311c32dbd7098ea"
  },
  {
   "cell_type": "markdown",
   "source": [
    "# Question 3"
   ],
   "metadata": {
    "collapsed": false
   },
   "id": "a1dd6902e9166443"
  },
  {
   "cell_type": "code",
   "execution_count": 37,
   "outputs": [
    {
     "name": "stdout",
     "output_type": "stream",
     "text": [
      "number of estimators: 10 \t RMSE: 0.06\n",
      "number of estimators: 20 \t RMSE: 0.0571\n",
      "number of estimators: 30 \t RMSE: 0.0561\n",
      "number of estimators: 40 \t RMSE: 0.0552\n",
      "number of estimators: 50 \t RMSE: 0.055\n",
      "number of estimators: 60 \t RMSE: 0.0548\n",
      "number of estimators: 70 \t RMSE: 0.0548\n",
      "number of estimators: 80 \t RMSE: 0.0549\n",
      "number of estimators: 90 \t RMSE: 0.0549\n",
      "number of estimators: 100 \t RMSE: 0.0548\n",
      "number of estimators: 110 \t RMSE: 0.0548\n",
      "number of estimators: 120 \t RMSE: 0.0547\n",
      "number of estimators: 130 \t RMSE: 0.0546\n",
      "number of estimators: 140 \t RMSE: 0.0545\n",
      "number of estimators: 150 \t RMSE: 0.0545\n",
      "number of estimators: 160 \t RMSE: 0.0544\n",
      "number of estimators: 170 \t RMSE: 0.0544\n",
      "number of estimators: 180 \t RMSE: 0.0545\n",
      "number of estimators: 190 \t RMSE: 0.0546\n",
      "number of estimators: 200 \t RMSE: 0.0545\n"
     ]
    },
    {
     "data": {
      "text/plain": "[<matplotlib.lines.Line2D at 0x14ad70af0>]"
     },
     "execution_count": 37,
     "metadata": {},
     "output_type": "execute_result"
    },
    {
     "data": {
      "text/plain": "<Figure size 640x480 with 1 Axes>",
      "image/png": "[encoded data removed]"
     },
     "metadata": {},
     "output_type": "display_data"
    }
   ],
   "source": [
    "xs, ys = [], []\n",
    "for n_estimators in range(10, 210, 10):\n",
    "    model = RandomForestRegressorModel(n_estimators=n_estimators, random_state=seed, n_jobs=-1)\n",
    "    model, input_prep = train_procedure(model, df_train, y_train)\n",
    "    x_val = input_prep.get_input(df_val)\n",
    "    y_pred = model.predict(x_val)\n",
    "    rmse = round(mean_squared_error(y_val, y_pred), 4)\n",
    "\n",
    "    print(f'number of estimators: {n_estimators} \\t RMSE: {rmse}')\n",
    "    xs.append(n_estimators)\n",
    "    ys.append(rmse)\n",
    "\n",
    "plt.plot(xs, ys)"
   ],
   "metadata": {
    "collapsed": false,
    "ExecuteTime": {
     "end_time": "2023-10-19T05:26:18.968311Z",
     "start_time": "2023-10-19T05:25:23.947493Z"
    }
   },
   "id": "c217901167a7f0e4"
  },
  {
   "cell_type": "code",
   "execution_count": 38,
   "outputs": [
    {
     "name": "stdout",
     "output_type": "stream",
     "text": [
      "q3: 160\n"
     ]
    }
   ],
   "source": [
    "print('q3: 160')"
   ],
   "metadata": {
    "collapsed": false,
    "ExecuteTime": {
     "end_time": "2023-10-19T05:27:59.591103Z",
     "start_time": "2023-10-19T05:27:59.583980Z"
    }
   },
   "id": "143c260225110e04"
  },
  {
   "cell_type": "markdown",
   "source": [
    "## Question 4"
   ],
   "metadata": {
    "collapsed": false
   },
   "id": "c09bbb44f3a78985"
  },
  {
   "cell_type": "code",
   "execution_count": 36,
   "outputs": [
    {
     "name": "stdout",
     "output_type": "stream",
     "text": [
      "maximum depth: 10 \t number of estimators: 10 \t RMSE: 0.063\n",
      "maximum depth: 10 \t number of estimators: 20 \t RMSE: 0.0613\n",
      "maximum depth: 10 \t number of estimators: 30 \t RMSE: 0.0607\n",
      "maximum depth: 10 \t number of estimators: 40 \t RMSE: 0.0601\n",
      "maximum depth: 10 \t number of estimators: 50 \t RMSE: 0.0603\n",
      "maximum depth: 10 \t number of estimators: 60 \t RMSE: 0.0602\n",
      "maximum depth: 10 \t number of estimators: 70 \t RMSE: 0.0602\n",
      "maximum depth: 10 \t number of estimators: 80 \t RMSE: 0.0604\n",
      "maximum depth: 10 \t number of estimators: 90 \t RMSE: 0.0603\n",
      "maximum depth: 10 \t number of estimators: 100 \t RMSE: 0.0603\n",
      "maximum depth: 10 \t number of estimators: 110 \t RMSE: 0.0602\n",
      "maximum depth: 10 \t number of estimators: 120 \t RMSE: 0.0601\n",
      "maximum depth: 10 \t number of estimators: 130 \t RMSE: 0.06\n",
      "maximum depth: 10 \t number of estimators: 140 \t RMSE: 0.0599\n",
      "maximum depth: 10 \t number of estimators: 150 \t RMSE: 0.0599\n",
      "maximum depth: 10 \t number of estimators: 160 \t RMSE: 0.0598\n",
      "maximum depth: 10 \t number of estimators: 170 \t RMSE: 0.0598\n",
      "maximum depth: 10 \t number of estimators: 180 \t RMSE: 0.0599\n",
      "maximum depth: 10 \t number of estimators: 190 \t RMSE: 0.0599\n",
      "maximum depth: 10 \t number of estimators: 200 \t RMSE: 0.0599\n",
      "maximum depth: 15 \t number of estimators: 10 \t RMSE: 0.0603\n",
      "maximum depth: 15 \t number of estimators: 20 \t RMSE: 0.0574\n",
      "maximum depth: 15 \t number of estimators: 30 \t RMSE: 0.0565\n",
      "maximum depth: 15 \t number of estimators: 40 \t RMSE: 0.0558\n",
      "maximum depth: 15 \t number of estimators: 50 \t RMSE: 0.0557\n",
      "maximum depth: 15 \t number of estimators: 60 \t RMSE: 0.0556\n",
      "maximum depth: 15 \t number of estimators: 70 \t RMSE: 0.0556\n",
      "maximum depth: 15 \t number of estimators: 80 \t RMSE: 0.0556\n",
      "maximum depth: 15 \t number of estimators: 90 \t RMSE: 0.0554\n",
      "maximum depth: 15 \t number of estimators: 100 \t RMSE: 0.0554\n",
      "maximum depth: 15 \t number of estimators: 110 \t RMSE: 0.0553\n",
      "maximum depth: 15 \t number of estimators: 120 \t RMSE: 0.0552\n",
      "maximum depth: 15 \t number of estimators: 130 \t RMSE: 0.0551\n",
      "maximum depth: 15 \t number of estimators: 140 \t RMSE: 0.055\n",
      "maximum depth: 15 \t number of estimators: 150 \t RMSE: 0.0549\n",
      "maximum depth: 15 \t number of estimators: 160 \t RMSE: 0.0548\n",
      "maximum depth: 15 \t number of estimators: 170 \t RMSE: 0.0549\n",
      "maximum depth: 15 \t number of estimators: 180 \t RMSE: 0.0549\n",
      "maximum depth: 15 \t number of estimators: 190 \t RMSE: 0.055\n",
      "maximum depth: 15 \t number of estimators: 200 \t RMSE: 0.055\n",
      "maximum depth: 20 \t number of estimators: 10 \t RMSE: 0.0596\n",
      "maximum depth: 20 \t number of estimators: 20 \t RMSE: 0.0565\n",
      "maximum depth: 20 \t number of estimators: 30 \t RMSE: 0.0557\n",
      "maximum depth: 20 \t number of estimators: 40 \t RMSE: 0.0551\n",
      "maximum depth: 20 \t number of estimators: 50 \t RMSE: 0.055\n",
      "maximum depth: 20 \t number of estimators: 60 \t RMSE: 0.0548\n",
      "maximum depth: 20 \t number of estimators: 70 \t RMSE: 0.0548\n",
      "maximum depth: 20 \t number of estimators: 80 \t RMSE: 0.0549\n",
      "maximum depth: 20 \t number of estimators: 90 \t RMSE: 0.0549\n",
      "maximum depth: 20 \t number of estimators: 100 \t RMSE: 0.0548\n",
      "maximum depth: 20 \t number of estimators: 110 \t RMSE: 0.0548\n",
      "maximum depth: 20 \t number of estimators: 120 \t RMSE: 0.0547\n",
      "maximum depth: 20 \t number of estimators: 130 \t RMSE: 0.0546\n",
      "maximum depth: 20 \t number of estimators: 140 \t RMSE: 0.0546\n",
      "maximum depth: 20 \t number of estimators: 150 \t RMSE: 0.0545\n",
      "maximum depth: 20 \t number of estimators: 160 \t RMSE: 0.0545\n",
      "maximum depth: 20 \t number of estimators: 170 \t RMSE: 0.0545\n",
      "maximum depth: 20 \t number of estimators: 180 \t RMSE: 0.0546\n",
      "maximum depth: 20 \t number of estimators: 190 \t RMSE: 0.0547\n",
      "maximum depth: 20 \t number of estimators: 200 \t RMSE: 0.0546\n",
      "maximum depth: 25 \t number of estimators: 10 \t RMSE: 0.0599\n",
      "maximum depth: 25 \t number of estimators: 20 \t RMSE: 0.0571\n",
      "maximum depth: 25 \t number of estimators: 30 \t RMSE: 0.0561\n",
      "maximum depth: 25 \t number of estimators: 40 \t RMSE: 0.0554\n",
      "maximum depth: 25 \t number of estimators: 50 \t RMSE: 0.0552\n",
      "maximum depth: 25 \t number of estimators: 60 \t RMSE: 0.0551\n",
      "maximum depth: 25 \t number of estimators: 70 \t RMSE: 0.055\n",
      "maximum depth: 25 \t number of estimators: 80 \t RMSE: 0.0551\n",
      "maximum depth: 25 \t number of estimators: 90 \t RMSE: 0.055\n",
      "maximum depth: 25 \t number of estimators: 100 \t RMSE: 0.055\n",
      "maximum depth: 25 \t number of estimators: 110 \t RMSE: 0.055\n",
      "maximum depth: 25 \t number of estimators: 120 \t RMSE: 0.0549\n",
      "maximum depth: 25 \t number of estimators: 130 \t RMSE: 0.0548\n",
      "maximum depth: 25 \t number of estimators: 140 \t RMSE: 0.0546\n",
      "maximum depth: 25 \t number of estimators: 150 \t RMSE: 0.0546\n",
      "maximum depth: 25 \t number of estimators: 160 \t RMSE: 0.0545\n",
      "maximum depth: 25 \t number of estimators: 170 \t RMSE: 0.0545\n",
      "maximum depth: 25 \t number of estimators: 180 \t RMSE: 0.0546\n",
      "maximum depth: 25 \t number of estimators: 190 \t RMSE: 0.0547\n",
      "maximum depth: 25 \t number of estimators: 200 \t RMSE: 0.0547\n"
     ]
    },
    {
     "data": {
      "text/plain": "<matplotlib.legend.Legend at 0x14ad9b6a0>"
     },
     "execution_count": 36,
     "metadata": {},
     "output_type": "execute_result"
    },
    {
     "data": {
      "text/plain": "<Figure size 640x480 with 1 Axes>",
      "image/png": "[encoded data removed]"
     },
     "metadata": {},
     "output_type": "display_data"
    }
   ],
   "source": [
    "for max_depth in [10, 15, 20, 25]:\n",
    "    xs, ys = [], []\n",
    "    for n_estimators in range(10, 210, 10):\n",
    "        model = RandomForestRegressorModel(\n",
    "            n_estimators=n_estimators, random_state=seed, max_depth=max_depth, n_jobs=-1)\n",
    "        model, input_prep = train_procedure(model, df_train, y_train)\n",
    "        x_val = input_prep.get_input(df_val)\n",
    "        y_pred = model.predict(x_val)\n",
    "        rmse = round(mean_squared_error(y_val, y_pred), 4)\n",
    "\n",
    "        print(f'maximum depth: {max_depth} \\t number of estimators: {n_estimators} \\t RMSE: {rmse}')\n",
    "        xs.append(n_estimators)\n",
    "        ys.append(rmse)\n",
    "\n",
    "    plt.plot(xs, ys, label=f'max_depth:{max_depth}')\n",
    "plt.legend()"
   ],
   "metadata": {
    "collapsed": false,
    "ExecuteTime": {
     "start_time": "2023-10-19T05:22:12.760425Z"
    }
   },
   "id": "c5f1c586f3aae6a8"
  },
  {
   "cell_type": "code",
   "execution_count": 39,
   "outputs": [
    {
     "name": "stdout",
     "output_type": "stream",
     "text": [
      "q4: 20\n"
     ]
    }
   ],
   "source": [
    "print('q4: 20')"
   ],
   "metadata": {
    "collapsed": false,
    "ExecuteTime": {
     "end_time": "2023-10-19T06:46:11.399814Z",
     "start_time": "2023-10-19T06:46:11.390243Z"
    }
   },
   "id": "99516bcacbccb73a"
  },
  {
   "cell_type": "markdown",
   "source": [
    "## Question 5"
   ],
   "metadata": {
    "collapsed": false
   },
   "id": "e2b380eda0191826"
  },
  {
   "cell_type": "code",
   "execution_count": 52,
   "outputs": [
    {
     "data": {
      "text/plain": "                                  0\nhouseholds                 0.015527\nhousing_median_age         0.030003\nlatitude                   0.101855\nlongitude                  0.086367\nmedian_income              0.335563\nocean_proximity=<1H OCEAN  0.292473\nocean_proximity=INLAND     0.073806\npopulation                 0.027353\ntotal_bedrooms             0.015328\ntotal_rooms                0.021723",
      "text/html": "<div>\n<style scoped>\n    .dataframe tbody tr th:only-of-type {\n        vertical-align: middle;\n    }\n\n    .dataframe tbody tr th {\n        vertical-align: top;\n    }\n\n    .dataframe thead th {\n        text-align: right;\n    }\n</style>\n<table border=\"1\" class=\"dataframe\">\n  <thead>\n    <tr style=\"text-align: right;\">\n      <th></th>\n      <th>0</th>\n    </tr>\n  </thead>\n  <tbody>\n    <tr>\n      <th>households</th>\n      <td>0.015527</td>\n    </tr>\n    <tr>\n      <th>housing_median_age</th>\n      <td>0.030003</td>\n    </tr>\n    <tr>\n      <th>latitude</th>\n      <td>0.101855</td>\n    </tr>\n    <tr>\n      <th>longitude</th>\n      <td>0.086367</td>\n    </tr>\n    <tr>\n      <th>median_income</th>\n      <td>0.335563</td>\n    </tr>\n    <tr>\n      <th>ocean_proximity=&lt;1H OCEAN</th>\n      <td>0.292473</td>\n    </tr>\n    <tr>\n      <th>ocean_proximity=INLAND</th>\n      <td>0.073806</td>\n    </tr>\n    <tr>\n      <th>population</th>\n      <td>0.027353</td>\n    </tr>\n    <tr>\n      <th>total_bedrooms</th>\n      <td>0.015328</td>\n    </tr>\n    <tr>\n      <th>total_rooms</th>\n      <td>0.021723</td>\n    </tr>\n  </tbody>\n</table>\n</div>"
     },
     "execution_count": 52,
     "metadata": {},
     "output_type": "execute_result"
    }
   ],
   "source": [
    "model = RandomForestRegressorModel(n_estimators=10, max_depth=20, random_state=seed, n_jobs=-1)\n",
    "model, input_prep = train_procedure(model, df_train, y_train)\n",
    "pd.DataFrame(index=input_prep.get_feature_names(), data=model.feature_importances_)"
   ],
   "metadata": {
    "collapsed": false,
    "ExecuteTime": {
     "end_time": "2023-10-19T06:52:15.065265Z",
     "start_time": "2023-10-19T06:52:14.637590Z"
    }
   },
   "id": "7c6bf736ad8f5025"
  },
  {
   "cell_type": "code",
   "execution_count": 53,
   "outputs": [
    {
     "name": "stdout",
     "output_type": "stream",
     "text": [
      "q5: median_income\n"
     ]
    }
   ],
   "source": [
    "print('q5: median_income')"
   ],
   "metadata": {
    "collapsed": false,
    "ExecuteTime": {
     "end_time": "2023-10-19T06:53:04.614586Z",
     "start_time": "2023-10-19T06:53:04.593152Z"
    }
   },
   "id": "4ac747862dbcc307"
  },
  {
   "cell_type": "markdown",
   "source": [
    "## Question 6"
   ],
   "metadata": {
    "collapsed": false
   },
   "id": "320c76654ae52023"
  },
  {
   "cell_type": "code",
   "execution_count": 89,
   "outputs": [],
   "source": [
    "import xgboost as xgb\n",
    "\n",
    "dv = get_vectorizer(df_train)\n",
    "\n",
    "x_train = get_input(df_train, dv)\n",
    "x_val = get_input(df_val, dv)\n",
    "\n",
    "feature_names = list(map(lambda x: x.replace('<', 'less_that'), dv.feature_names_))\n",
    "d_train = xgb.DMatrix(x_train, label=y_train, feature_names=feature_names)\n",
    "d_val = xgb.DMatrix(x_val, label=y_val, feature_names=feature_names)"
   ],
   "metadata": {
    "collapsed": false,
    "ExecuteTime": {
     "end_time": "2023-10-19T07:11:35.100008Z",
     "start_time": "2023-10-19T07:11:35.005894Z"
    }
   },
   "id": "7e38cb7f2e3a76d7"
  },
  {
   "cell_type": "code",
   "execution_count": 90,
   "outputs": [
    {
     "name": "stdout",
     "output_type": "stream",
     "text": [
      "[0]\ttrain-rmse:8.07362\tvalidation-rmse:8.07348\n",
      "[10]\ttrain-rmse:0.33195\tvalidation-rmse:0.34802\n",
      "[20]\ttrain-rmse:0.20036\tvalidation-rmse:0.24508\n",
      "[30]\ttrain-rmse:0.18204\tvalidation-rmse:0.23833\n",
      "[40]\ttrain-rmse:0.16422\tvalidation-rmse:0.23379\n",
      "[50]\ttrain-rmse:0.15210\tvalidation-rmse:0.23262\n",
      "[60]\ttrain-rmse:0.14218\tvalidation-rmse:0.23160\n",
      "[70]\ttrain-rmse:0.13471\tvalidation-rmse:0.23108\n",
      "[80]\ttrain-rmse:0.12835\tvalidation-rmse:0.23045\n",
      "[90]\ttrain-rmse:0.12174\tvalidation-rmse:0.22957\n",
      "[99]\ttrain-rmse:0.11656\tvalidation-rmse:0.22897\n"
     ]
    }
   ],
   "source": [
    "watchlist = [(d_train, 'train'), (d_val, 'validation')]\n",
    "xgb_params = {\n",
    "    'eta': 0.3,\n",
    "    'max_depth': 6,\n",
    "    'min_child_weight': 1,\n",
    "\n",
    "    'objective': 'reg:squarederror',\n",
    "    'nthread': 8,\n",
    "\n",
    "    'seed': 1,\n",
    "    'verbosity': 1,\n",
    "}\n",
    "\n",
    "model = xgb.train(\n",
    "    xgb_params,\n",
    "    d_train,\n",
    "    num_boost_round= 100,\n",
    "    evals=watchlist,\n",
    "    verbose_eval=10\n",
    ")"
   ],
   "metadata": {
    "collapsed": false,
    "ExecuteTime": {
     "end_time": "2023-10-19T07:15:16.333740Z",
     "start_time": "2023-10-19T07:15:15.867012Z"
    }
   },
   "id": "3d742ece0f31d4b"
  },
  {
   "cell_type": "code",
   "execution_count": 91,
   "outputs": [
    {
     "data": {
      "text/plain": "[(<xgboost.core.DMatrix at 0x14cd05630>, 'train'),\n (<xgboost.core.DMatrix at 0x14ccff6a0>, 'validation')]"
     },
     "execution_count": 91,
     "metadata": {},
     "output_type": "execute_result"
    }
   ],
   "source": [
    "# todo"
   ],
   "metadata": {
    "collapsed": false,
    "ExecuteTime": {
     "end_time": "2023-10-19T07:16:57.475975Z",
     "start_time": "2023-10-19T07:16:57.447474Z"
    }
   },
   "id": "d790dbe3dbda2dc9"
  },
  {
   "cell_type": "code",
   "execution_count": null,
   "outputs": [],
   "source": [],
   "metadata": {
    "collapsed": false
   },
   "id": "1fb094421f8c235e"
  }
 ],
 "metadata": {
  "kernelspec": {
   "display_name": "Python 3",
   "language": "python",
   "name": "python3"
  },
  "language_info": {
   "codemirror_mode": {
    "name": "ipython",
    "version": 2
   },
   "file_extension": ".py",
   "mimetype": "text/x-python",
   "name": "python",
   "nbconvert_exporter": "python",
   "pygments_lexer": "ipython2",
   "version": "2.7.6"
  }
 },
 "nbformat": 4,
 "nbformat_minor": 5
}
