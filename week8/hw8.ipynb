{
 "cells": [
  {
   "cell_type": "code",
   "execution_count": 13,
   "id": "initial_id",
   "metadata": {
    "collapsed": true,
    "ExecuteTime": {
     "end_time": "2023-12-07T21:14:54.375096Z",
     "start_time": "2023-12-07T21:14:54.365706Z"
    }
   },
   "outputs": [],
   "source": [
    "from tensorflow import keras\n",
    "import numpy as np"
   ]
  },
  {
   "cell_type": "code",
   "execution_count": 2,
   "outputs": [],
   "source": [
    "input_layer = keras.layers.Input(shape=(150, 150, 3))\n",
    "convolutional = keras.layers.Conv2D(filters=32, kernel_size=(3, 3), activation='relu')(input_layer)\n",
    "max_pooling = keras.layers.MaxPool2D(pool_size=(2, 2))(convolutional)\n",
    "flatten = keras.layers.Flatten()(max_pooling)\n",
    "inner_dense = keras.layers.Dense(64, activation='relu')(flatten)\n",
    "output_layer = keras.layers.Dense(1, activation='sigmoid')(inner_dense)\n",
    "\n",
    "model = keras.Model(input_layer, output_layer)"
   ],
   "metadata": {
    "collapsed": false,
    "ExecuteTime": {
     "end_time": "2023-12-07T21:12:30.593372Z",
     "start_time": "2023-12-07T21:12:30.532926Z"
    }
   },
   "id": "faa3d29c23391a30"
  },
  {
   "cell_type": "code",
   "execution_count": 3,
   "outputs": [
    {
     "name": "stdout",
     "output_type": "stream",
     "text": [
      "Model: \"model\"\n",
      "_________________________________________________________________\n",
      " Layer (type)                Output Shape              Param #   \n",
      "=================================================================\n",
      " input_1 (InputLayer)        [(None, 150, 150, 3)]     0         \n",
      "                                                                 \n",
      " conv2d (Conv2D)             (None, 148, 148, 32)      896       \n",
      "                                                                 \n",
      " max_pooling2d (MaxPooling2  (None, 74, 74, 32)        0         \n",
      " D)                                                              \n",
      "                                                                 \n",
      " flatten (Flatten)           (None, 175232)            0         \n",
      "                                                                 \n",
      " dense (Dense)               (None, 64)                11214912  \n",
      "                                                                 \n",
      " dense_1 (Dense)             (None, 1)                 65        \n",
      "                                                                 \n",
      "=================================================================\n",
      "Total params: 11215873 (42.79 MB)\n",
      "Trainable params: 11215873 (42.79 MB)\n",
      "Non-trainable params: 0 (0.00 Byte)\n",
      "_________________________________________________________________\n"
     ]
    }
   ],
   "source": [
    "model.summary()"
   ],
   "metadata": {
    "collapsed": false,
    "ExecuteTime": {
     "end_time": "2023-12-07T21:12:30.615345Z",
     "start_time": "2023-12-07T21:12:30.594358Z"
    }
   },
   "id": "bbc77ead259dc047"
  },
  {
   "cell_type": "code",
   "execution_count": 4,
   "outputs": [
    {
     "name": "stderr",
     "output_type": "stream",
     "text": [
      "WARNING:absl:At this time, the v2.11+ optimizer `tf.keras.optimizers.SGD` runs slowly on M1/M2 Macs, please use the legacy Keras optimizer instead, located at `tf.keras.optimizers.legacy.SGD`.\n",
      "WARNING:absl:`lr` is deprecated in Keras optimizer, please use `learning_rate` or use the legacy optimizer, e.g.,tf.keras.optimizers.legacy.SGD.\n"
     ]
    }
   ],
   "source": [
    "optimizer = keras.optimizers.SGD(lr=0.002, momentum=0.8)\n",
    "loss_function = keras.losses.BinaryCrossentropy()\n",
    "metrics = ['accuracy']\n",
    "\n",
    "model.compile(optimizer=optimizer, loss=loss_function, metrics=metrics)"
   ],
   "metadata": {
    "collapsed": false,
    "ExecuteTime": {
     "end_time": "2023-12-07T21:12:30.615736Z",
     "start_time": "2023-12-07T21:12:30.604426Z"
    }
   },
   "id": "97ff8715cb3c6fa1"
  },
  {
   "cell_type": "code",
   "execution_count": 5,
   "outputs": [
    {
     "name": "stdout",
     "output_type": "stream",
     "text": [
      "Found 3677 images belonging to 2 classes.\n",
      "Found 918 images belonging to 2 classes.\n"
     ]
    }
   ],
   "source": [
    "from keras.preprocessing.image import ImageDataGenerator\n",
    "\n",
    "data_gen = ImageDataGenerator(rescale=1. / 255)\n",
    "train_data = data_gen.flow_from_directory('./data/train', target_size=(150, 150), batch_size=20, shuffle=True, class_mode='binary')\n",
    "test_data = data_gen.flow_from_directory('./data/test', target_size=(150, 150), batch_size=20, shuffle=True, class_mode='binary')"
   ],
   "metadata": {
    "collapsed": false,
    "ExecuteTime": {
     "end_time": "2023-12-07T21:12:32.168783Z",
     "start_time": "2023-12-07T21:12:32.012540Z"
    }
   },
   "id": "b3757abca0e05ef7"
  },
  {
   "cell_type": "markdown",
   "source": [
    "we have 3677 images, each image size is 150*150 therefore the shape of one image is (150, 150, 3)"
   ],
   "metadata": {
    "collapsed": false
   },
   "id": "77fdb6031bd9071"
  },
  {
   "cell_type": "code",
   "execution_count": 6,
   "outputs": [
    {
     "data": {
      "text/plain": "(150, 150, 3)"
     },
     "execution_count": 6,
     "metadata": {},
     "output_type": "execute_result"
    }
   ],
   "source": [
    "train_data.image_shape"
   ],
   "metadata": {
    "collapsed": false,
    "ExecuteTime": {
     "end_time": "2023-12-07T21:12:42.666665Z",
     "start_time": "2023-12-07T21:12:42.643974Z"
    }
   },
   "id": "9bea87932401c007"
  },
  {
   "cell_type": "markdown",
   "source": [
    "batch size is 20 therefore we will have 3677/20 = 184 batches"
   ],
   "metadata": {
    "collapsed": false
   },
   "id": "24939da821cea6a"
  },
  {
   "cell_type": "code",
   "execution_count": 7,
   "outputs": [
    {
     "data": {
      "text/plain": "184"
     },
     "execution_count": 7,
     "metadata": {},
     "output_type": "execute_result"
    }
   ],
   "source": [
    "len(train_data)"
   ],
   "metadata": {
    "collapsed": false,
    "ExecuteTime": {
     "end_time": "2023-12-07T21:12:43.857384Z",
     "start_time": "2023-12-07T21:12:43.829734Z"
    }
   },
   "id": "9075af8d97de2c8f"
  },
  {
   "cell_type": "markdown",
   "source": [
    "each batch consists of image (x) and its label (y)\n",
    "therefore it will have two data in it, x and y"
   ],
   "metadata": {
    "collapsed": false
   },
   "id": "5c55833a8bf8e2b2"
  },
  {
   "cell_type": "code",
   "execution_count": 8,
   "outputs": [
    {
     "data": {
      "text/plain": "2"
     },
     "execution_count": 8,
     "metadata": {},
     "output_type": "execute_result"
    }
   ],
   "source": [
    "len(train_data[0])"
   ],
   "metadata": {
    "collapsed": false,
    "ExecuteTime": {
     "end_time": "2023-12-07T21:12:45.089422Z",
     "start_time": "2023-12-07T21:12:45.042014Z"
    }
   },
   "id": "3fb9206eebb109c7"
  },
  {
   "cell_type": "code",
   "execution_count": 9,
   "outputs": [
    {
     "name": "stdout",
     "output_type": "stream",
     "text": [
      "Epoch 1/10\n",
      "184/184 [==============================] - 9s 48ms/step - loss: 0.6606 - accuracy: 0.5980 - val_loss: 0.6204 - val_accuracy: 0.6558\n",
      "Epoch 2/10\n",
      "184/184 [==============================] - 9s 48ms/step - loss: 0.6075 - accuracy: 0.6717 - val_loss: 0.6659 - val_accuracy: 0.5479\n",
      "Epoch 3/10\n",
      "184/184 [==============================] - 9s 47ms/step - loss: 0.5374 - accuracy: 0.7354 - val_loss: 0.5243 - val_accuracy: 0.7527\n",
      "Epoch 4/10\n",
      "184/184 [==============================] - 9s 46ms/step - loss: 0.4797 - accuracy: 0.7751 - val_loss: 0.5483 - val_accuracy: 0.7462\n",
      "Epoch 5/10\n",
      "184/184 [==============================] - 8s 46ms/step - loss: 0.4125 - accuracy: 0.8208 - val_loss: 0.5214 - val_accuracy: 0.7734\n",
      "Epoch 6/10\n",
      "184/184 [==============================] - 8s 45ms/step - loss: 0.3271 - accuracy: 0.8692 - val_loss: 0.5713 - val_accuracy: 0.7353\n",
      "Epoch 7/10\n",
      "184/184 [==============================] - 8s 46ms/step - loss: 0.2145 - accuracy: 0.9228 - val_loss: 0.6521 - val_accuracy: 0.7505\n",
      "Epoch 8/10\n",
      "184/184 [==============================] - 8s 45ms/step - loss: 0.1445 - accuracy: 0.9535 - val_loss: 0.8063 - val_accuracy: 0.6895\n",
      "Epoch 9/10\n",
      "184/184 [==============================] - 8s 46ms/step - loss: 0.1098 - accuracy: 0.9674 - val_loss: 0.8271 - val_accuracy: 0.7375\n",
      "Epoch 10/10\n",
      "184/184 [==============================] - 8s 46ms/step - loss: 0.0634 - accuracy: 0.9856 - val_loss: 0.9527 - val_accuracy: 0.7429\n"
     ]
    }
   ],
   "source": [
    "history = model.fit(train_data, epochs=10, validation_data=test_data)"
   ],
   "metadata": {
    "collapsed": false,
    "ExecuteTime": {
     "end_time": "2023-12-07T21:14:11.488531Z",
     "start_time": "2023-12-07T21:12:45.980418Z"
    }
   },
   "id": "5d1e5f1837122231"
  },
  {
   "cell_type": "code",
   "execution_count": 21,
   "outputs": [
    {
     "data": {
      "text/plain": "0.9986401796340942"
     },
     "execution_count": 21,
     "metadata": {},
     "output_type": "execute_result"
    }
   ],
   "source": [
    "np.median(history.history['accuracy'])"
   ],
   "metadata": {
    "collapsed": false,
    "ExecuteTime": {
     "end_time": "2023-12-07T21:20:21.974902Z",
     "start_time": "2023-12-07T21:20:21.957635Z"
    }
   },
   "id": "d554ba17a7d2a12f"
  },
  {
   "cell_type": "code",
   "execution_count": 15,
   "outputs": [
    {
     "data": {
      "text/plain": "0.2047529459950159"
     },
     "execution_count": 15,
     "metadata": {},
     "output_type": "execute_result"
    }
   ],
   "source": [
    "np.std(history.history['loss'])"
   ],
   "metadata": {
    "collapsed": false,
    "ExecuteTime": {
     "end_time": "2023-12-07T21:15:33.056864Z",
     "start_time": "2023-12-07T21:15:33.027123Z"
    }
   },
   "id": "4db57405b0f5830f"
  },
  {
   "cell_type": "code",
   "execution_count": 16,
   "outputs": [
    {
     "name": "stdout",
     "output_type": "stream",
     "text": [
      "Found 3677 images belonging to 2 classes.\n"
     ]
    }
   ],
   "source": [
    "train_data_gen = ImageDataGenerator(\n",
    "    rescale=1. / 255,\n",
    "    rotation_range=50,\n",
    "    width_shift_range=0.1,\n",
    "    height_shift_range=0.1,\n",
    "    zoom_range=0.1,\n",
    "    horizontal_flip=True,\n",
    "    fill_mode='nearest'\n",
    ")\n",
    "\n",
    "new_train_data = data_gen.flow_from_directory('./data/train', target_size=(150, 150), batch_size=20, shuffle=True, class_mode='binary')"
   ],
   "metadata": {
    "collapsed": false,
    "ExecuteTime": {
     "end_time": "2023-12-07T21:17:46.203425Z",
     "start_time": "2023-12-07T21:17:46.104801Z"
    }
   },
   "id": "87ca0ea90f76ca3"
  },
  {
   "cell_type": "code",
   "execution_count": 17,
   "outputs": [
    {
     "name": "stdout",
     "output_type": "stream",
     "text": [
      "Epoch 1/10\n",
      "184/184 [==============================] - 9s 46ms/step - loss: 0.0417 - accuracy: 0.9921 - val_loss: 0.9610 - val_accuracy: 0.7168\n",
      "Epoch 2/10\n",
      "184/184 [==============================] - 8s 45ms/step - loss: 0.0596 - accuracy: 0.9872 - val_loss: 1.3478 - val_accuracy: 0.6830\n",
      "Epoch 3/10\n",
      "184/184 [==============================] - 8s 45ms/step - loss: 0.0377 - accuracy: 0.9932 - val_loss: 1.1676 - val_accuracy: 0.7200\n",
      "Epoch 4/10\n",
      "184/184 [==============================] - 9s 47ms/step - loss: 0.0240 - accuracy: 0.9986 - val_loss: 1.2111 - val_accuracy: 0.7364\n",
      "Epoch 5/10\n",
      "184/184 [==============================] - 9s 47ms/step - loss: 0.0139 - accuracy: 0.9986 - val_loss: 1.0577 - val_accuracy: 0.7320\n",
      "Epoch 6/10\n",
      "184/184 [==============================] - 8s 44ms/step - loss: 0.0186 - accuracy: 0.9986 - val_loss: 1.2842 - val_accuracy: 0.7200\n",
      "Epoch 7/10\n",
      "184/184 [==============================] - 8s 45ms/step - loss: 0.0191 - accuracy: 0.9986 - val_loss: 1.2673 - val_accuracy: 0.7440\n",
      "Epoch 8/10\n",
      "184/184 [==============================] - 9s 47ms/step - loss: 0.0138 - accuracy: 0.9986 - val_loss: 1.3166 - val_accuracy: 0.7364\n",
      "Epoch 9/10\n",
      "184/184 [==============================] - 8s 44ms/step - loss: 0.0161 - accuracy: 0.9989 - val_loss: 1.1187 - val_accuracy: 0.7473\n",
      "Epoch 10/10\n",
      "184/184 [==============================] - 9s 47ms/step - loss: 0.0166 - accuracy: 0.9984 - val_loss: 1.1949 - val_accuracy: 0.7298\n"
     ]
    }
   ],
   "source": [
    "history = model.fit(new_train_data, epochs=10, validation_data=test_data)"
   ],
   "metadata": {
    "collapsed": false,
    "ExecuteTime": {
     "end_time": "2023-12-07T21:19:35.134001Z",
     "start_time": "2023-12-07T21:18:10.424057Z"
    }
   },
   "id": "27030356211bcc03"
  },
  {
   "cell_type": "code",
   "execution_count": 20,
   "outputs": [
    {
     "data": {
      "text/plain": "1.19269802570343"
     },
     "execution_count": 20,
     "metadata": {},
     "output_type": "execute_result"
    }
   ],
   "source": [
    "np.mean(history.history['val_loss'])"
   ],
   "metadata": {
    "collapsed": false,
    "ExecuteTime": {
     "end_time": "2023-12-07T21:20:07.476791Z",
     "start_time": "2023-12-07T21:20:07.468781Z"
    }
   },
   "id": "6cccfd505846e597"
  },
  {
   "cell_type": "code",
   "execution_count": 25,
   "outputs": [
    {
     "data": {
      "text/plain": "0.7355119824409485"
     },
     "execution_count": 25,
     "metadata": {},
     "output_type": "execute_result"
    }
   ],
   "source": [
    "np.average(history.history['val_accuracy'][5:])"
   ],
   "metadata": {
    "collapsed": false,
    "ExecuteTime": {
     "end_time": "2023-12-07T21:21:12.195032Z",
     "start_time": "2023-12-07T21:21:12.187668Z"
    }
   },
   "id": "b451e35b140a912e"
  },
  {
   "cell_type": "code",
   "execution_count": null,
   "outputs": [],
   "source": [],
   "metadata": {
    "collapsed": false
   },
   "id": "f6b67a90003641e9"
  }
 ],
 "metadata": {
  "kernelspec": {
   "display_name": "Python 3",
   "language": "python",
   "name": "python3"
  },
  "language_info": {
   "codemirror_mode": {
    "name": "ipython",
    "version": 2
   },
   "file_extension": ".py",
   "mimetype": "text/x-python",
   "name": "python",
   "nbconvert_exporter": "python",
   "pygments_lexer": "ipython2",
   "version": "2.7.6"
  }
 },
 "nbformat": 4,
 "nbformat_minor": 5
}
