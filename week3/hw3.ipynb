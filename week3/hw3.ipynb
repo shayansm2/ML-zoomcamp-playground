{
 "cells": [
  {
   "cell_type": "code",
   "execution_count": 1,
   "id": "initial_id",
   "metadata": {
    "collapsed": true,
    "ExecuteTime": {
     "end_time": "2023-09-30T18:04:28.388793Z",
     "start_time": "2023-09-30T18:04:28.371254Z"
    }
   },
   "outputs": [],
   "source": [
    "import numpy as np\n",
    "import pandas as pd\n",
    "\n",
    "from matplotlib import pyplot as plt\n",
    "import seaborn as sns\n",
    "%matplotlib inline"
   ]
  },
  {
   "cell_type": "code",
   "execution_count": 2,
   "outputs": [],
   "source": [
    "df = pd.read_csv('data.csv')"
   ],
   "metadata": {
    "collapsed": false,
    "ExecuteTime": {
     "end_time": "2023-09-30T18:04:29.122996Z",
     "start_time": "2023-09-30T18:04:29.104053Z"
    }
   },
   "id": "55621f2e552ba123"
  },
  {
   "cell_type": "code",
   "execution_count": 3,
   "outputs": [
    {
     "data": {
      "text/plain": "          Make       Model  Year  Engine HP  Engine Cylinders  \\\n0          BMW  1 Series M  2011      335.0               6.0   \n1          BMW    1 Series  2011      300.0               6.0   \n2          BMW    1 Series  2011      300.0               6.0   \n3          BMW    1 Series  2011      230.0               6.0   \n4          BMW    1 Series  2011      230.0               6.0   \n...        ...         ...   ...        ...               ...   \n11909    Acura         ZDX  2012      300.0               6.0   \n11910    Acura         ZDX  2012      300.0               6.0   \n11911    Acura         ZDX  2012      300.0               6.0   \n11912    Acura         ZDX  2013      300.0               6.0   \n11913  Lincoln      Zephyr  2006      221.0               6.0   \n\n       Engine Cylinders  Vehicle Style  highway MPG  city mpg   MSRP  \\\n0                   6.0          Coupe           26        19  46135   \n1                   6.0    Convertible           28        19  40650   \n2                   6.0          Coupe           28        20  36350   \n3                   6.0          Coupe           28        18  29450   \n4                   6.0    Convertible           28        18  34500   \n...                 ...            ...          ...       ...    ...   \n11909               6.0  4dr Hatchback           23        16  46120   \n11910               6.0  4dr Hatchback           23        16  56670   \n11911               6.0  4dr Hatchback           23        16  50620   \n11912               6.0  4dr Hatchback           23        16  50920   \n11913               6.0          Sedan           26        17  28995   \n\n      Transmission Type  \n0                MANUAL  \n1                MANUAL  \n2                MANUAL  \n3                MANUAL  \n4                MANUAL  \n...                 ...  \n11909         AUTOMATIC  \n11910         AUTOMATIC  \n11911         AUTOMATIC  \n11912         AUTOMATIC  \n11913         AUTOMATIC  \n\n[11914 rows x 11 columns]",
      "text/html": "<div>\n<style scoped>\n    .dataframe tbody tr th:only-of-type {\n        vertical-align: middle;\n    }\n\n    .dataframe tbody tr th {\n        vertical-align: top;\n    }\n\n    .dataframe thead th {\n        text-align: right;\n    }\n</style>\n<table border=\"1\" class=\"dataframe\">\n  <thead>\n    <tr style=\"text-align: right;\">\n      <th></th>\n      <th>Make</th>\n      <th>Model</th>\n      <th>Year</th>\n      <th>Engine HP</th>\n      <th>Engine Cylinders</th>\n      <th>Engine Cylinders</th>\n      <th>Vehicle Style</th>\n      <th>highway MPG</th>\n      <th>city mpg</th>\n      <th>MSRP</th>\n      <th>Transmission Type</th>\n    </tr>\n  </thead>\n  <tbody>\n    <tr>\n      <th>0</th>\n      <td>BMW</td>\n      <td>1 Series M</td>\n      <td>2011</td>\n      <td>335.0</td>\n      <td>6.0</td>\n      <td>6.0</td>\n      <td>Coupe</td>\n      <td>26</td>\n      <td>19</td>\n      <td>46135</td>\n      <td>MANUAL</td>\n    </tr>\n    <tr>\n      <th>1</th>\n      <td>BMW</td>\n      <td>1 Series</td>\n      <td>2011</td>\n      <td>300.0</td>\n      <td>6.0</td>\n      <td>6.0</td>\n      <td>Convertible</td>\n      <td>28</td>\n      <td>19</td>\n      <td>40650</td>\n      <td>MANUAL</td>\n    </tr>\n    <tr>\n      <th>2</th>\n      <td>BMW</td>\n      <td>1 Series</td>\n      <td>2011</td>\n      <td>300.0</td>\n      <td>6.0</td>\n      <td>6.0</td>\n      <td>Coupe</td>\n      <td>28</td>\n      <td>20</td>\n      <td>36350</td>\n      <td>MANUAL</td>\n    </tr>\n    <tr>\n      <th>3</th>\n      <td>BMW</td>\n      <td>1 Series</td>\n      <td>2011</td>\n      <td>230.0</td>\n      <td>6.0</td>\n      <td>6.0</td>\n      <td>Coupe</td>\n      <td>28</td>\n      <td>18</td>\n      <td>29450</td>\n      <td>MANUAL</td>\n    </tr>\n    <tr>\n      <th>4</th>\n      <td>BMW</td>\n      <td>1 Series</td>\n      <td>2011</td>\n      <td>230.0</td>\n      <td>6.0</td>\n      <td>6.0</td>\n      <td>Convertible</td>\n      <td>28</td>\n      <td>18</td>\n      <td>34500</td>\n      <td>MANUAL</td>\n    </tr>\n    <tr>\n      <th>...</th>\n      <td>...</td>\n      <td>...</td>\n      <td>...</td>\n      <td>...</td>\n      <td>...</td>\n      <td>...</td>\n      <td>...</td>\n      <td>...</td>\n      <td>...</td>\n      <td>...</td>\n      <td>...</td>\n    </tr>\n    <tr>\n      <th>11909</th>\n      <td>Acura</td>\n      <td>ZDX</td>\n      <td>2012</td>\n      <td>300.0</td>\n      <td>6.0</td>\n      <td>6.0</td>\n      <td>4dr Hatchback</td>\n      <td>23</td>\n      <td>16</td>\n      <td>46120</td>\n      <td>AUTOMATIC</td>\n    </tr>\n    <tr>\n      <th>11910</th>\n      <td>Acura</td>\n      <td>ZDX</td>\n      <td>2012</td>\n      <td>300.0</td>\n      <td>6.0</td>\n      <td>6.0</td>\n      <td>4dr Hatchback</td>\n      <td>23</td>\n      <td>16</td>\n      <td>56670</td>\n      <td>AUTOMATIC</td>\n    </tr>\n    <tr>\n      <th>11911</th>\n      <td>Acura</td>\n      <td>ZDX</td>\n      <td>2012</td>\n      <td>300.0</td>\n      <td>6.0</td>\n      <td>6.0</td>\n      <td>4dr Hatchback</td>\n      <td>23</td>\n      <td>16</td>\n      <td>50620</td>\n      <td>AUTOMATIC</td>\n    </tr>\n    <tr>\n      <th>11912</th>\n      <td>Acura</td>\n      <td>ZDX</td>\n      <td>2013</td>\n      <td>300.0</td>\n      <td>6.0</td>\n      <td>6.0</td>\n      <td>4dr Hatchback</td>\n      <td>23</td>\n      <td>16</td>\n      <td>50920</td>\n      <td>AUTOMATIC</td>\n    </tr>\n    <tr>\n      <th>11913</th>\n      <td>Lincoln</td>\n      <td>Zephyr</td>\n      <td>2006</td>\n      <td>221.0</td>\n      <td>6.0</td>\n      <td>6.0</td>\n      <td>Sedan</td>\n      <td>26</td>\n      <td>17</td>\n      <td>28995</td>\n      <td>AUTOMATIC</td>\n    </tr>\n  </tbody>\n</table>\n<p>11914 rows × 11 columns</p>\n</div>"
     },
     "execution_count": 3,
     "metadata": {},
     "output_type": "execute_result"
    }
   ],
   "source": [
    "columns = ['Make', 'Model', 'Year', 'Engine HP', 'Engine Cylinders', 'Engine Cylinders', 'Vehicle Style', 'highway MPG', 'city mpg', 'MSRP', 'Transmission Type']\n",
    "df = df[columns]\n",
    "df"
   ],
   "metadata": {
    "collapsed": false,
    "ExecuteTime": {
     "end_time": "2023-09-30T18:04:29.680935Z",
     "start_time": "2023-09-30T18:04:29.669558Z"
    }
   },
   "id": "c341cd739fa6351f"
  },
  {
   "cell_type": "code",
   "execution_count": 4,
   "outputs": [],
   "source": [
    "df.columns = df.columns.str.replace(' ', '_').str.lower()\n",
    "df.fillna(0)\n",
    "df = df.rename(columns={'msrp': 'price'})"
   ],
   "metadata": {
    "collapsed": false,
    "ExecuteTime": {
     "end_time": "2023-09-30T18:04:30.514489Z",
     "start_time": "2023-09-30T18:04:30.507046Z"
    }
   },
   "id": "bd885905038fa02c"
  },
  {
   "cell_type": "markdown",
   "source": [
    "# Question 1"
   ],
   "metadata": {
    "collapsed": false
   },
   "id": "67fda452b5d22831"
  },
  {
   "cell_type": "code",
   "execution_count": 5,
   "outputs": [
    {
     "name": "stdout",
     "output_type": "stream",
     "text": [
      "q1: AUTOMATIC\n"
     ]
    }
   ],
   "source": [
    "# df.groupby('transmission_type').count()\n",
    "print('q1:', df['transmission_type'].value_counts().idxmax())"
   ],
   "metadata": {
    "collapsed": false,
    "ExecuteTime": {
     "end_time": "2023-09-30T18:04:31.467792Z",
     "start_time": "2023-09-30T18:04:31.465795Z"
    }
   },
   "id": "d817f7be7a122205"
  },
  {
   "cell_type": "markdown",
   "source": [
    "# Question 2"
   ],
   "metadata": {
    "collapsed": false
   },
   "id": "d6eaa84b51b01a3a"
  },
  {
   "cell_type": "code",
   "execution_count": 6,
   "outputs": [
    {
     "data": {
      "text/plain": "                            0            1         2         3            4\nmake                      BMW          BMW       BMW       BMW          BMW\nmodel              1 Series M     1 Series  1 Series  1 Series     1 Series\nyear                     2011         2011      2011      2011         2011\nengine_hp               335.0        300.0     300.0     230.0        230.0\nengine_cylinders          6.0          6.0       6.0       6.0          6.0\nengine_cylinders          6.0          6.0       6.0       6.0          6.0\nvehicle_style           Coupe  Convertible     Coupe     Coupe  Convertible\nhighway_mpg                26           28        28        28           28\ncity_mpg                   19           19        20        18           18\nprice                   46135        40650     36350     29450        34500\ntransmission_type      MANUAL       MANUAL    MANUAL    MANUAL       MANUAL",
      "text/html": "<div>\n<style scoped>\n    .dataframe tbody tr th:only-of-type {\n        vertical-align: middle;\n    }\n\n    .dataframe tbody tr th {\n        vertical-align: top;\n    }\n\n    .dataframe thead th {\n        text-align: right;\n    }\n</style>\n<table border=\"1\" class=\"dataframe\">\n  <thead>\n    <tr style=\"text-align: right;\">\n      <th></th>\n      <th>0</th>\n      <th>1</th>\n      <th>2</th>\n      <th>3</th>\n      <th>4</th>\n    </tr>\n  </thead>\n  <tbody>\n    <tr>\n      <th>make</th>\n      <td>BMW</td>\n      <td>BMW</td>\n      <td>BMW</td>\n      <td>BMW</td>\n      <td>BMW</td>\n    </tr>\n    <tr>\n      <th>model</th>\n      <td>1 Series M</td>\n      <td>1 Series</td>\n      <td>1 Series</td>\n      <td>1 Series</td>\n      <td>1 Series</td>\n    </tr>\n    <tr>\n      <th>year</th>\n      <td>2011</td>\n      <td>2011</td>\n      <td>2011</td>\n      <td>2011</td>\n      <td>2011</td>\n    </tr>\n    <tr>\n      <th>engine_hp</th>\n      <td>335.0</td>\n      <td>300.0</td>\n      <td>300.0</td>\n      <td>230.0</td>\n      <td>230.0</td>\n    </tr>\n    <tr>\n      <th>engine_cylinders</th>\n      <td>6.0</td>\n      <td>6.0</td>\n      <td>6.0</td>\n      <td>6.0</td>\n      <td>6.0</td>\n    </tr>\n    <tr>\n      <th>engine_cylinders</th>\n      <td>6.0</td>\n      <td>6.0</td>\n      <td>6.0</td>\n      <td>6.0</td>\n      <td>6.0</td>\n    </tr>\n    <tr>\n      <th>vehicle_style</th>\n      <td>Coupe</td>\n      <td>Convertible</td>\n      <td>Coupe</td>\n      <td>Coupe</td>\n      <td>Convertible</td>\n    </tr>\n    <tr>\n      <th>highway_mpg</th>\n      <td>26</td>\n      <td>28</td>\n      <td>28</td>\n      <td>28</td>\n      <td>28</td>\n    </tr>\n    <tr>\n      <th>city_mpg</th>\n      <td>19</td>\n      <td>19</td>\n      <td>20</td>\n      <td>18</td>\n      <td>18</td>\n    </tr>\n    <tr>\n      <th>price</th>\n      <td>46135</td>\n      <td>40650</td>\n      <td>36350</td>\n      <td>29450</td>\n      <td>34500</td>\n    </tr>\n    <tr>\n      <th>transmission_type</th>\n      <td>MANUAL</td>\n      <td>MANUAL</td>\n      <td>MANUAL</td>\n      <td>MANUAL</td>\n      <td>MANUAL</td>\n    </tr>\n  </tbody>\n</table>\n</div>"
     },
     "execution_count": 6,
     "metadata": {},
     "output_type": "execute_result"
    }
   ],
   "source": [
    "df.head(5).T"
   ],
   "metadata": {
    "collapsed": false,
    "ExecuteTime": {
     "end_time": "2023-09-30T18:04:32.749525Z",
     "start_time": "2023-09-30T18:04:32.741791Z"
    }
   },
   "id": "d0448f52d5cccb53"
  },
  {
   "cell_type": "code",
   "execution_count": 7,
   "outputs": [
    {
     "name": "stdout",
     "output_type": "stream",
     "text": [
      "<class 'pandas.core.frame.DataFrame'>\n",
      "RangeIndex: 11914 entries, 0 to 11913\n",
      "Data columns (total 11 columns):\n",
      " #   Column             Non-Null Count  Dtype  \n",
      "---  ------             --------------  -----  \n",
      " 0   make               11914 non-null  object \n",
      " 1   model              11914 non-null  object \n",
      " 2   year               11914 non-null  int64  \n",
      " 3   engine_hp          11845 non-null  float64\n",
      " 4   engine_cylinders   11884 non-null  float64\n",
      " 5   engine_cylinders   11884 non-null  float64\n",
      " 6   vehicle_style      11914 non-null  object \n",
      " 7   highway_mpg        11914 non-null  int64  \n",
      " 8   city_mpg           11914 non-null  int64  \n",
      " 9   price              11914 non-null  int64  \n",
      " 10  transmission_type  11914 non-null  object \n",
      "dtypes: float64(3), int64(4), object(4)\n",
      "memory usage: 1024.0+ KB\n"
     ]
    }
   ],
   "source": [
    "df.info()"
   ],
   "metadata": {
    "collapsed": false,
    "ExecuteTime": {
     "end_time": "2023-09-30T18:04:33.179321Z",
     "start_time": "2023-09-30T18:04:33.176773Z"
    }
   },
   "id": "e5df36913c852563"
  },
  {
   "cell_type": "code",
   "execution_count": 8,
   "outputs": [],
   "source": [
    "numerical_columns = ['engine_hp', 'engine_cylinders', 'engine_cylinders', 'highway_mpg', 'city_mpg', 'year']\n",
    "categorical_columns = ['make', 'model', 'vehicle_style', 'transmission_type']"
   ],
   "metadata": {
    "collapsed": false,
    "ExecuteTime": {
     "end_time": "2023-09-30T18:04:33.646067Z",
     "start_time": "2023-09-30T18:04:33.637882Z"
    }
   },
   "id": "3df2e7b16650a8a7"
  },
  {
   "cell_type": "code",
   "execution_count": 9,
   "outputs": [
    {
     "data": {
      "text/plain": "engine_hp           0.662008\nengine_cylinders    0.531312\nengine_cylinders    0.531312\nengine_cylinders    0.531312\nengine_cylinders    0.531312\nyear                0.227590\ncity_mpg           -0.157676\nhighway_mpg        -0.160043\ndtype: float64"
     },
     "execution_count": 9,
     "metadata": {},
     "output_type": "execute_result"
    }
   ],
   "source": [
    "df[numerical_columns].corrwith(df.price).sort_values(ascending=False)"
   ],
   "metadata": {
    "collapsed": false,
    "ExecuteTime": {
     "end_time": "2023-09-30T18:04:34.211209Z",
     "start_time": "2023-09-30T18:04:34.199690Z"
    }
   },
   "id": "b10d48c9ebc9523a"
  },
  {
   "cell_type": "code",
   "execution_count": 10,
   "outputs": [
    {
     "name": "stdout",
     "output_type": "stream",
     "text": [
      "q2: engine_hp and engine_cylinders\n"
     ]
    }
   ],
   "source": [
    "print('q2: engine_hp and engine_cylinders')"
   ],
   "metadata": {
    "collapsed": false,
    "ExecuteTime": {
     "end_time": "2023-09-30T18:04:34.825666Z",
     "start_time": "2023-09-30T18:04:34.822535Z"
    }
   },
   "id": "fd6dd881ea928799"
  },
  {
   "cell_type": "markdown",
   "source": [
    "# Question 3"
   ],
   "metadata": {
    "collapsed": false
   },
   "id": "92d60d27e289608d"
  },
  {
   "cell_type": "code",
   "execution_count": 11,
   "outputs": [],
   "source": [
    "average = df.price.mean()\n",
    "df['above_average'] = df['price'] >average"
   ],
   "metadata": {
    "collapsed": false,
    "ExecuteTime": {
     "end_time": "2023-09-30T18:04:36.045647Z",
     "start_time": "2023-09-30T18:04:36.040307Z"
    }
   },
   "id": "bf074c5eeb053042"
  },
  {
   "cell_type": "code",
   "execution_count": 12,
   "outputs": [],
   "source": [
    "from sklearn.model_selection import train_test_split\n",
    "seed = 42"
   ],
   "metadata": {
    "collapsed": false,
    "ExecuteTime": {
     "end_time": "2023-09-30T18:04:36.589850Z",
     "start_time": "2023-09-30T18:04:36.496578Z"
    }
   },
   "id": "4fc6a7488a8a56e8"
  },
  {
   "cell_type": "code",
   "execution_count": 13,
   "outputs": [],
   "source": [
    "df_train_valid, df_test = train_test_split(df, test_size=0.2, random_state=seed)\n",
    "df_train, df_valid = train_test_split(df_train_valid, test_size=0.25, random_state=seed)\n",
    "\n",
    "y_train = df_train.above_average\n",
    "y_valid = df_valid.above_average\n",
    "y_test = df_test.above_average\n",
    "\n",
    "df_train.drop(columns=['above_average', 'price'], inplace = True)\n",
    "df_valid.drop(columns=['above_average', 'price'], inplace = True)\n",
    "df_test.drop(columns=['above_average', 'price'], inplace = True)"
   ],
   "metadata": {
    "collapsed": false,
    "ExecuteTime": {
     "end_time": "2023-09-30T18:04:37.265899Z",
     "start_time": "2023-09-30T18:04:37.260477Z"
    }
   },
   "id": "a02c5a96775e8580"
  },
  {
   "cell_type": "code",
   "execution_count": 14,
   "outputs": [],
   "source": [
    "from sklearn.metrics import mutual_info_score"
   ],
   "metadata": {
    "collapsed": false,
    "ExecuteTime": {
     "end_time": "2023-09-30T18:04:37.913873Z",
     "start_time": "2023-09-30T18:04:37.903579Z"
    }
   },
   "id": "4edc16bd1bbb1cd0"
  },
  {
   "cell_type": "code",
   "execution_count": 15,
   "outputs": [],
   "source": [
    "def calculate_mutual_info(x, y):\n",
    "    return mutual_info_score(x, y)\n",
    "\n",
    "df_train_mi = df_train[categorical_columns].apply(lambda x: calculate_mutual_info(x, y_train))"
   ],
   "metadata": {
    "collapsed": false,
    "ExecuteTime": {
     "end_time": "2023-09-30T18:04:38.773498Z",
     "start_time": "2023-09-30T18:04:38.751416Z"
    }
   },
   "id": "202edf3d9f49ac70"
  },
  {
   "cell_type": "code",
   "execution_count": 16,
   "outputs": [
    {
     "name": "stdout",
     "output_type": "stream",
     "text": [
      "q3:  transmission_type\n"
     ]
    }
   ],
   "source": [
    "print('q3: ', df_train_mi.idxmin())"
   ],
   "metadata": {
    "collapsed": false,
    "ExecuteTime": {
     "end_time": "2023-09-30T18:04:39.424906Z",
     "start_time": "2023-09-30T18:04:39.421340Z"
    }
   },
   "id": "d4d867e8a0552563"
  },
  {
   "cell_type": "code",
   "execution_count": null,
   "outputs": [],
   "source": [],
   "metadata": {
    "collapsed": false
   },
   "id": "82b1b0d8c98bbdda"
  }
 ],
 "metadata": {
  "kernelspec": {
   "display_name": "Python 3",
   "language": "python",
   "name": "python3"
  },
  "language_info": {
   "codemirror_mode": {
    "name": "ipython",
    "version": 2
   },
   "file_extension": ".py",
   "mimetype": "text/x-python",
   "name": "python",
   "nbconvert_exporter": "python",
   "pygments_lexer": "ipython2",
   "version": "2.7.6"
  }
 },
 "nbformat": 4,
 "nbformat_minor": 5
}
