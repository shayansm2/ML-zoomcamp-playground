{
 "cells": [
  {
   "cell_type": "code",
   "execution_count": 1,
   "id": "initial_id",
   "metadata": {
    "collapsed": true,
    "ExecuteTime": {
     "end_time": "2023-10-01T20:13:17.807638Z",
     "start_time": "2023-10-01T20:13:17.794745Z"
    }
   },
   "outputs": [],
   "source": [
    "import numpy as np\n",
    "import pandas as pd\n",
    "\n",
    "from matplotlib import pyplot as plt\n",
    "import seaborn as sns\n",
    "%matplotlib inline"
   ]
  },
  {
   "cell_type": "code",
   "execution_count": 2,
   "outputs": [],
   "source": [
    "import warnings\n",
    "\n",
    "warnings.filterwarnings('ignore')\n",
    "\n",
    "seed = 42"
   ],
   "metadata": {
    "collapsed": false,
    "ExecuteTime": {
     "end_time": "2023-10-01T20:13:18.499993Z",
     "start_time": "2023-10-01T20:13:18.496825Z"
    }
   },
   "id": "a73fd48355f43ad8"
  },
  {
   "cell_type": "code",
   "execution_count": 3,
   "outputs": [],
   "source": [
    "df = pd.read_csv('data.csv')"
   ],
   "metadata": {
    "collapsed": false,
    "ExecuteTime": {
     "end_time": "2023-10-01T20:13:19.405601Z",
     "start_time": "2023-10-01T20:13:19.379493Z"
    }
   },
   "id": "55621f2e552ba123"
  },
  {
   "cell_type": "code",
   "execution_count": 4,
   "outputs": [
    {
     "data": {
      "text/plain": "          Make       Model  Year  Engine HP  Engine Cylinders  Vehicle Style  \\\n0          BMW  1 Series M  2011      335.0               6.0          Coupe   \n1          BMW    1 Series  2011      300.0               6.0    Convertible   \n2          BMW    1 Series  2011      300.0               6.0          Coupe   \n3          BMW    1 Series  2011      230.0               6.0          Coupe   \n4          BMW    1 Series  2011      230.0               6.0    Convertible   \n...        ...         ...   ...        ...               ...            ...   \n11909    Acura         ZDX  2012      300.0               6.0  4dr Hatchback   \n11910    Acura         ZDX  2012      300.0               6.0  4dr Hatchback   \n11911    Acura         ZDX  2012      300.0               6.0  4dr Hatchback   \n11912    Acura         ZDX  2013      300.0               6.0  4dr Hatchback   \n11913  Lincoln      Zephyr  2006      221.0               6.0          Sedan   \n\n       highway MPG  city mpg   MSRP Transmission Type  \n0               26        19  46135            MANUAL  \n1               28        19  40650            MANUAL  \n2               28        20  36350            MANUAL  \n3               28        18  29450            MANUAL  \n4               28        18  34500            MANUAL  \n...            ...       ...    ...               ...  \n11909           23        16  46120         AUTOMATIC  \n11910           23        16  56670         AUTOMATIC  \n11911           23        16  50620         AUTOMATIC  \n11912           23        16  50920         AUTOMATIC  \n11913           26        17  28995         AUTOMATIC  \n\n[11914 rows x 10 columns]",
      "text/html": "<div>\n<style scoped>\n    .dataframe tbody tr th:only-of-type {\n        vertical-align: middle;\n    }\n\n    .dataframe tbody tr th {\n        vertical-align: top;\n    }\n\n    .dataframe thead th {\n        text-align: right;\n    }\n</style>\n<table border=\"1\" class=\"dataframe\">\n  <thead>\n    <tr style=\"text-align: right;\">\n      <th></th>\n      <th>Make</th>\n      <th>Model</th>\n      <th>Year</th>\n      <th>Engine HP</th>\n      <th>Engine Cylinders</th>\n      <th>Vehicle Style</th>\n      <th>highway MPG</th>\n      <th>city mpg</th>\n      <th>MSRP</th>\n      <th>Transmission Type</th>\n    </tr>\n  </thead>\n  <tbody>\n    <tr>\n      <th>0</th>\n      <td>BMW</td>\n      <td>1 Series M</td>\n      <td>2011</td>\n      <td>335.0</td>\n      <td>6.0</td>\n      <td>Coupe</td>\n      <td>26</td>\n      <td>19</td>\n      <td>46135</td>\n      <td>MANUAL</td>\n    </tr>\n    <tr>\n      <th>1</th>\n      <td>BMW</td>\n      <td>1 Series</td>\n      <td>2011</td>\n      <td>300.0</td>\n      <td>6.0</td>\n      <td>Convertible</td>\n      <td>28</td>\n      <td>19</td>\n      <td>40650</td>\n      <td>MANUAL</td>\n    </tr>\n    <tr>\n      <th>2</th>\n      <td>BMW</td>\n      <td>1 Series</td>\n      <td>2011</td>\n      <td>300.0</td>\n      <td>6.0</td>\n      <td>Coupe</td>\n      <td>28</td>\n      <td>20</td>\n      <td>36350</td>\n      <td>MANUAL</td>\n    </tr>\n    <tr>\n      <th>3</th>\n      <td>BMW</td>\n      <td>1 Series</td>\n      <td>2011</td>\n      <td>230.0</td>\n      <td>6.0</td>\n      <td>Coupe</td>\n      <td>28</td>\n      <td>18</td>\n      <td>29450</td>\n      <td>MANUAL</td>\n    </tr>\n    <tr>\n      <th>4</th>\n      <td>BMW</td>\n      <td>1 Series</td>\n      <td>2011</td>\n      <td>230.0</td>\n      <td>6.0</td>\n      <td>Convertible</td>\n      <td>28</td>\n      <td>18</td>\n      <td>34500</td>\n      <td>MANUAL</td>\n    </tr>\n    <tr>\n      <th>...</th>\n      <td>...</td>\n      <td>...</td>\n      <td>...</td>\n      <td>...</td>\n      <td>...</td>\n      <td>...</td>\n      <td>...</td>\n      <td>...</td>\n      <td>...</td>\n      <td>...</td>\n    </tr>\n    <tr>\n      <th>11909</th>\n      <td>Acura</td>\n      <td>ZDX</td>\n      <td>2012</td>\n      <td>300.0</td>\n      <td>6.0</td>\n      <td>4dr Hatchback</td>\n      <td>23</td>\n      <td>16</td>\n      <td>46120</td>\n      <td>AUTOMATIC</td>\n    </tr>\n    <tr>\n      <th>11910</th>\n      <td>Acura</td>\n      <td>ZDX</td>\n      <td>2012</td>\n      <td>300.0</td>\n      <td>6.0</td>\n      <td>4dr Hatchback</td>\n      <td>23</td>\n      <td>16</td>\n      <td>56670</td>\n      <td>AUTOMATIC</td>\n    </tr>\n    <tr>\n      <th>11911</th>\n      <td>Acura</td>\n      <td>ZDX</td>\n      <td>2012</td>\n      <td>300.0</td>\n      <td>6.0</td>\n      <td>4dr Hatchback</td>\n      <td>23</td>\n      <td>16</td>\n      <td>50620</td>\n      <td>AUTOMATIC</td>\n    </tr>\n    <tr>\n      <th>11912</th>\n      <td>Acura</td>\n      <td>ZDX</td>\n      <td>2013</td>\n      <td>300.0</td>\n      <td>6.0</td>\n      <td>4dr Hatchback</td>\n      <td>23</td>\n      <td>16</td>\n      <td>50920</td>\n      <td>AUTOMATIC</td>\n    </tr>\n    <tr>\n      <th>11913</th>\n      <td>Lincoln</td>\n      <td>Zephyr</td>\n      <td>2006</td>\n      <td>221.0</td>\n      <td>6.0</td>\n      <td>Sedan</td>\n      <td>26</td>\n      <td>17</td>\n      <td>28995</td>\n      <td>AUTOMATIC</td>\n    </tr>\n  </tbody>\n</table>\n<p>11914 rows × 10 columns</p>\n</div>"
     },
     "execution_count": 4,
     "metadata": {},
     "output_type": "execute_result"
    }
   ],
   "source": [
    "columns = ['Make', 'Model', 'Year', 'Engine HP', 'Engine Cylinders', 'Vehicle Style', 'highway MPG',\n",
    "           'city mpg', 'MSRP', 'Transmission Type']\n",
    "df = df[columns]\n",
    "df"
   ],
   "metadata": {
    "collapsed": false,
    "ExecuteTime": {
     "end_time": "2023-10-01T20:13:19.899246Z",
     "start_time": "2023-10-01T20:13:19.877325Z"
    }
   },
   "id": "c341cd739fa6351f"
  },
  {
   "cell_type": "code",
   "execution_count": 5,
   "outputs": [],
   "source": [
    "df.columns = df.columns.str.replace(' ', '_').str.lower()\n",
    "df.fillna(0)\n",
    "df = df.rename(columns={'msrp': 'price'})"
   ],
   "metadata": {
    "collapsed": false,
    "ExecuteTime": {
     "end_time": "2023-10-01T20:13:20.710180Z",
     "start_time": "2023-10-01T20:13:20.702823Z"
    }
   },
   "id": "bd885905038fa02c"
  },
  {
   "cell_type": "markdown",
   "source": [
    "# Question 1"
   ],
   "metadata": {
    "collapsed": false
   },
   "id": "67fda452b5d22831"
  },
  {
   "cell_type": "code",
   "execution_count": 67,
   "outputs": [
    {
     "name": "stdout",
     "output_type": "stream",
     "text": [
      "q1: AUTOMATIC\n"
     ]
    }
   ],
   "source": [
    "# df.groupby('transmission_type').count()\n",
    "print('q1:', df['transmission_type'].value_counts().idxmax())"
   ],
   "metadata": {
    "collapsed": false,
    "ExecuteTime": {
     "end_time": "2023-10-01T18:30:24.524744Z",
     "start_time": "2023-10-01T18:30:24.519801Z"
    }
   },
   "id": "d817f7be7a122205"
  },
  {
   "cell_type": "markdown",
   "source": [
    "# Question 2"
   ],
   "metadata": {
    "collapsed": false
   },
   "id": "d6eaa84b51b01a3a"
  },
  {
   "cell_type": "code",
   "execution_count": 68,
   "outputs": [
    {
     "data": {
      "text/plain": "                            0            1         2         3            4\nmake                      BMW          BMW       BMW       BMW          BMW\nmodel              1 Series M     1 Series  1 Series  1 Series     1 Series\nyear                     2011         2011      2011      2011         2011\nengine_hp               335.0        300.0     300.0     230.0        230.0\nengine_cylinders          6.0          6.0       6.0       6.0          6.0\nvehicle_style           Coupe  Convertible     Coupe     Coupe  Convertible\nhighway_mpg                26           28        28        28           28\ncity_mpg                   19           19        20        18           18\nprice                   46135        40650     36350     29450        34500\ntransmission_type      MANUAL       MANUAL    MANUAL    MANUAL       MANUAL",
      "text/html": "<div>\n<style scoped>\n    .dataframe tbody tr th:only-of-type {\n        vertical-align: middle;\n    }\n\n    .dataframe tbody tr th {\n        vertical-align: top;\n    }\n\n    .dataframe thead th {\n        text-align: right;\n    }\n</style>\n<table border=\"1\" class=\"dataframe\">\n  <thead>\n    <tr style=\"text-align: right;\">\n      <th></th>\n      <th>0</th>\n      <th>1</th>\n      <th>2</th>\n      <th>3</th>\n      <th>4</th>\n    </tr>\n  </thead>\n  <tbody>\n    <tr>\n      <th>make</th>\n      <td>BMW</td>\n      <td>BMW</td>\n      <td>BMW</td>\n      <td>BMW</td>\n      <td>BMW</td>\n    </tr>\n    <tr>\n      <th>model</th>\n      <td>1 Series M</td>\n      <td>1 Series</td>\n      <td>1 Series</td>\n      <td>1 Series</td>\n      <td>1 Series</td>\n    </tr>\n    <tr>\n      <th>year</th>\n      <td>2011</td>\n      <td>2011</td>\n      <td>2011</td>\n      <td>2011</td>\n      <td>2011</td>\n    </tr>\n    <tr>\n      <th>engine_hp</th>\n      <td>335.0</td>\n      <td>300.0</td>\n      <td>300.0</td>\n      <td>230.0</td>\n      <td>230.0</td>\n    </tr>\n    <tr>\n      <th>engine_cylinders</th>\n      <td>6.0</td>\n      <td>6.0</td>\n      <td>6.0</td>\n      <td>6.0</td>\n      <td>6.0</td>\n    </tr>\n    <tr>\n      <th>vehicle_style</th>\n      <td>Coupe</td>\n      <td>Convertible</td>\n      <td>Coupe</td>\n      <td>Coupe</td>\n      <td>Convertible</td>\n    </tr>\n    <tr>\n      <th>highway_mpg</th>\n      <td>26</td>\n      <td>28</td>\n      <td>28</td>\n      <td>28</td>\n      <td>28</td>\n    </tr>\n    <tr>\n      <th>city_mpg</th>\n      <td>19</td>\n      <td>19</td>\n      <td>20</td>\n      <td>18</td>\n      <td>18</td>\n    </tr>\n    <tr>\n      <th>price</th>\n      <td>46135</td>\n      <td>40650</td>\n      <td>36350</td>\n      <td>29450</td>\n      <td>34500</td>\n    </tr>\n    <tr>\n      <th>transmission_type</th>\n      <td>MANUAL</td>\n      <td>MANUAL</td>\n      <td>MANUAL</td>\n      <td>MANUAL</td>\n      <td>MANUAL</td>\n    </tr>\n  </tbody>\n</table>\n</div>"
     },
     "execution_count": 68,
     "metadata": {},
     "output_type": "execute_result"
    }
   ],
   "source": [
    "df.head(5).T"
   ],
   "metadata": {
    "collapsed": false,
    "ExecuteTime": {
     "end_time": "2023-10-01T18:30:27.857202Z",
     "start_time": "2023-10-01T18:30:27.850431Z"
    }
   },
   "id": "d0448f52d5cccb53"
  },
  {
   "cell_type": "code",
   "execution_count": 69,
   "outputs": [
    {
     "name": "stdout",
     "output_type": "stream",
     "text": [
      "<class 'pandas.core.frame.DataFrame'>\n",
      "RangeIndex: 11914 entries, 0 to 11913\n",
      "Data columns (total 10 columns):\n",
      " #   Column             Non-Null Count  Dtype  \n",
      "---  ------             --------------  -----  \n",
      " 0   make               11914 non-null  object \n",
      " 1   model              11914 non-null  object \n",
      " 2   year               11914 non-null  int64  \n",
      " 3   engine_hp          11845 non-null  float64\n",
      " 4   engine_cylinders   11884 non-null  float64\n",
      " 5   vehicle_style      11914 non-null  object \n",
      " 6   highway_mpg        11914 non-null  int64  \n",
      " 7   city_mpg           11914 non-null  int64  \n",
      " 8   price              11914 non-null  int64  \n",
      " 9   transmission_type  11914 non-null  object \n",
      "dtypes: float64(2), int64(4), object(4)\n",
      "memory usage: 930.9+ KB\n"
     ]
    }
   ],
   "source": [
    "df.info()"
   ],
   "metadata": {
    "collapsed": false,
    "ExecuteTime": {
     "end_time": "2023-10-01T18:30:28.625785Z",
     "start_time": "2023-10-01T18:30:28.603554Z"
    }
   },
   "id": "e5df36913c852563"
  },
  {
   "cell_type": "code",
   "execution_count": 71,
   "outputs": [],
   "source": [
    "numerical_columns = ['engine_hp', 'engine_cylinders', 'highway_mpg', 'city_mpg', 'year']\n",
    "categorical_columns = ['make', 'model', 'vehicle_style', 'transmission_type']"
   ],
   "metadata": {
    "collapsed": false,
    "ExecuteTime": {
     "end_time": "2023-10-01T18:30:38.116186Z",
     "start_time": "2023-10-01T18:30:38.104272Z"
    }
   },
   "id": "3df2e7b16650a8a7"
  },
  {
   "cell_type": "code",
   "execution_count": 72,
   "outputs": [
    {
     "data": {
      "text/plain": "engine_hp           0.662008\nengine_cylinders    0.531312\nyear                0.227590\ncity_mpg           -0.157676\nhighway_mpg        -0.160043\ndtype: float64"
     },
     "execution_count": 72,
     "metadata": {},
     "output_type": "execute_result"
    }
   ],
   "source": [
    "df[numerical_columns].corrwith(df.price).sort_values(ascending=False)"
   ],
   "metadata": {
    "collapsed": false,
    "ExecuteTime": {
     "end_time": "2023-10-01T18:30:38.617595Z",
     "start_time": "2023-10-01T18:30:38.607619Z"
    }
   },
   "id": "b10d48c9ebc9523a"
  },
  {
   "cell_type": "code",
   "execution_count": 73,
   "outputs": [
    {
     "name": "stdout",
     "output_type": "stream",
     "text": [
      "q2: engine_hp and engine_cylinders\n"
     ]
    }
   ],
   "source": [
    "print('q2: engine_hp and engine_cylinders')"
   ],
   "metadata": {
    "collapsed": false,
    "ExecuteTime": {
     "end_time": "2023-10-01T18:30:39.327542Z",
     "start_time": "2023-10-01T18:30:39.321764Z"
    }
   },
   "id": "fd6dd881ea928799"
  },
  {
   "cell_type": "markdown",
   "source": [
    "# Question 3"
   ],
   "metadata": {
    "collapsed": false
   },
   "id": "92d60d27e289608d"
  },
  {
   "cell_type": "code",
   "execution_count": 9,
   "outputs": [],
   "source": [
    "average = df.price.mean()\n",
    "df['above_average'] = df['price'] > average"
   ],
   "metadata": {
    "collapsed": false,
    "ExecuteTime": {
     "end_time": "2023-10-01T20:14:05.350660Z",
     "start_time": "2023-10-01T20:14:05.334701Z"
    }
   },
   "id": "bf074c5eeb053042"
  },
  {
   "cell_type": "code",
   "execution_count": 76,
   "outputs": [],
   "source": [
    "from sklearn.model_selection import train_test_split\n",
    "\n",
    "df_train_valid, df_test = train_test_split(df, test_size=0.2, random_state=seed)\n",
    "df_train, df_valid = train_test_split(df_train_valid, test_size=0.25, random_state=seed)\n",
    "\n",
    "y_train = df_train.above_average\n",
    "y_valid = df_valid.above_average\n",
    "y_test = df_test.above_average\n",
    "\n",
    "df_train.drop(columns=['above_average', 'price'], inplace=True)\n",
    "df_valid.drop(columns=['above_average', 'price'], inplace=True)\n",
    "df_test.drop(columns=['above_average', 'price'], inplace=True)"
   ],
   "metadata": {
    "collapsed": false,
    "ExecuteTime": {
     "end_time": "2023-10-01T18:30:41.821685Z",
     "start_time": "2023-10-01T18:30:41.811406Z"
    }
   },
   "id": "a02c5a96775e8580"
  },
  {
   "cell_type": "code",
   "execution_count": 78,
   "outputs": [],
   "source": [
    "from sklearn.metrics import mutual_info_score\n",
    "\n",
    "\n",
    "def calculate_mutual_info(x, y):\n",
    "    return mutual_info_score(x, y)\n",
    "\n",
    "\n",
    "df_train_mi = df_train[categorical_columns].apply(lambda x: calculate_mutual_info(x, y_train))"
   ],
   "metadata": {
    "collapsed": false,
    "ExecuteTime": {
     "end_time": "2023-10-01T18:30:42.833760Z",
     "start_time": "2023-10-01T18:30:42.811759Z"
    }
   },
   "id": "202edf3d9f49ac70"
  },
  {
   "cell_type": "code",
   "execution_count": 79,
   "outputs": [
    {
     "name": "stdout",
     "output_type": "stream",
     "text": [
      "q3:  transmission_type\n"
     ]
    }
   ],
   "source": [
    "print('q3: ', df_train_mi.idxmin())"
   ],
   "metadata": {
    "collapsed": false,
    "ExecuteTime": {
     "end_time": "2023-10-01T18:30:43.752252Z",
     "start_time": "2023-10-01T18:30:43.746759Z"
    }
   },
   "id": "d4d867e8a0552563"
  },
  {
   "cell_type": "markdown",
   "source": [
    "# Question 4"
   ],
   "metadata": {
    "collapsed": false
   },
   "id": "7c4e805a14eec5e"
  },
  {
   "cell_type": "code",
   "execution_count": 14,
   "outputs": [],
   "source": [
    "from sklearn.feature_extraction import DictVectorizer\n",
    "\n",
    "\n",
    "def get_one_hot_encoder(df: pd.DataFrame) -> DictVectorizer:\n",
    "    dictionary = df.to_dict(orient='records')\n",
    "    vectorizer = DictVectorizer(sparse=False)\n",
    "    vectorizer.fit(dictionary)\n",
    "    return vectorizer\n",
    "\n",
    "\n",
    "def to_model_input(df: pd.DataFrame, encoder: DictVectorizer):\n",
    "    df_copy = df.copy()\n",
    "    df_copy.fillna(0, inplace=True)\n",
    "    dictionary = df_copy.to_dict(orient='records')\n",
    "    x = encoder.transform(dictionary)\n",
    "    return x\n",
    "\n",
    "\n",
    "def calc_accuracy(y_predict, y_actual) -> float:\n",
    "    return (y_predict == y_actual).mean()"
   ],
   "metadata": {
    "collapsed": false,
    "ExecuteTime": {
     "end_time": "2023-10-01T20:14:20.111600Z",
     "start_time": "2023-10-01T20:14:20.096889Z"
    }
   },
   "id": "5a2f499d2720ae93"
  },
  {
   "cell_type": "code",
   "execution_count": 81,
   "outputs": [
    {
     "name": "stdout",
     "output_type": "stream",
     "text": [
      "q4: 0.94\n"
     ]
    }
   ],
   "source": [
    "from sklearn.linear_model import LogisticRegression\n",
    "\n",
    "model = LogisticRegression(solver='liblinear', C=10, max_iter=1000, random_state=42)\n",
    "encoder = get_one_hot_encoder(df_train)\n",
    "x_train = to_model_input(df_train, encoder)\n",
    "model.fit(x_train, y_train)\n",
    "x_valid = to_model_input(df_valid, encoder)\n",
    "y_predict = model.predict(x_valid)\n",
    "accuracy = calc_accuracy(y_predict, y_valid)\n",
    "print('q4:', round(accuracy, 2))"
   ],
   "metadata": {
    "collapsed": false,
    "ExecuteTime": {
     "end_time": "2023-10-01T18:30:46.246563Z",
     "start_time": "2023-10-01T18:30:45.998927Z"
    }
   },
   "id": "aec21e4bc4a99de3"
  },
  {
   "cell_type": "markdown",
   "source": [
    "# Question 5"
   ],
   "metadata": {
    "collapsed": false
   },
   "id": "8f98eb5cf316ded"
  },
  {
   "cell_type": "code",
   "execution_count": 82,
   "outputs": [
    {
     "data": {
      "text/plain": "engine_hp           0.673478\nengine_cylinders    0.452054\nhighway_mpg        -0.127142\ncity_mpg           -0.155754\nyear                0.315195\ndtype: float64"
     },
     "execution_count": 82,
     "metadata": {},
     "output_type": "execute_result"
    }
   ],
   "source": [
    "df_train[numerical_columns].corrwith(y_train)"
   ],
   "metadata": {
    "collapsed": false,
    "ExecuteTime": {
     "end_time": "2023-10-01T18:30:47.523397Z",
     "start_time": "2023-10-01T18:30:47.505495Z"
    }
   },
   "id": "c8b67b414883c74b"
  },
  {
   "cell_type": "code",
   "execution_count": 83,
   "outputs": [
    {
     "data": {
      "text/plain": "make                 0.239769\nmodel                0.462344\nvehicle_style        0.084143\ntransmission_type    0.020958\ndtype: float64"
     },
     "execution_count": 83,
     "metadata": {},
     "output_type": "execute_result"
    }
   ],
   "source": [
    "df_train_mi"
   ],
   "metadata": {
    "collapsed": false,
    "ExecuteTime": {
     "end_time": "2023-10-01T18:30:48.546036Z",
     "start_time": "2023-10-01T18:30:48.523193Z"
    }
   },
   "id": "b62d6b8c38fd2b8"
  },
  {
   "cell_type": "code",
   "execution_count": 84,
   "outputs": [],
   "source": [
    "def get_accuracy_from_logistic_regression(df_train, df_valid):\n",
    "    model = LogisticRegression(solver='liblinear', C=10, max_iter=1000, random_state=seed)\n",
    "    encoder = get_one_hot_encoder(df_train)\n",
    "    x_train = to_model_input(df_train, encoder)\n",
    "    model.fit(x_train, y_train)\n",
    "    x_valid = to_model_input(df_valid, encoder)\n",
    "    y_predict = model.predict(x_valid)\n",
    "    return calc_accuracy(y_predict, y_valid)"
   ],
   "metadata": {
    "collapsed": false,
    "ExecuteTime": {
     "end_time": "2023-10-01T18:30:49.216899Z",
     "start_time": "2023-10-01T18:30:49.206757Z"
    }
   },
   "id": "a8d813526ad146dd"
  },
  {
   "cell_type": "code",
   "execution_count": 85,
   "outputs": [
    {
     "name": "stdout",
     "output_type": "stream",
     "text": [
      "accuracy of removing engine_hp: 0.924;\t 0.02056 less than prev model\n",
      "accuracy of removing engine_cylinders: 0.947;\t -0.00252 less than prev model\n",
      "accuracy of removing highway_mpg: 0.941;\t 0.00336 less than prev model\n",
      "accuracy of removing city_mpg: 0.932;\t 0.01217 less than prev model\n",
      "accuracy of removing year: 0.947;\t -0.00252 less than prev model\n",
      "accuracy of removing make: 0.944;\t 0.00042 less than prev model\n",
      "accuracy of removing model: 0.916;\t 0.02854 less than prev model\n",
      "accuracy of removing vehicle_style: 0.936;\t 0.00839 less than prev model\n",
      "accuracy of removing transmission_type: 0.947;\t -0.0021 less than prev model\n"
     ]
    }
   ],
   "source": [
    "for numerical_feature in numerical_columns:\n",
    "    new_numerical_columns = numerical_columns.copy()\n",
    "    new_numerical_columns.remove(numerical_feature)\n",
    "    new_columns = new_numerical_columns + categorical_columns\n",
    "    new_accuracy = get_accuracy_from_logistic_regression(df_train[new_columns], df_valid[new_columns])\n",
    "    print(\n",
    "        f'accuracy of removing {numerical_feature}: {round(new_accuracy, 3)};\\t {round(accuracy - new_accuracy, 5)} less than prev model')\n",
    "\n",
    "for categorical_feature in categorical_columns:\n",
    "    new_categorical_columns = categorical_columns.copy()\n",
    "    new_categorical_columns.remove(categorical_feature)\n",
    "    new_columns = numerical_columns + new_categorical_columns\n",
    "    new_accuracy = get_accuracy_from_logistic_regression(df_train[new_columns], df_valid[new_columns])\n",
    "    print(\n",
    "        f'accuracy of removing {categorical_feature}: {round(new_accuracy, 3)};\\t {round(accuracy - new_accuracy, 5)} less than prev model')"
   ],
   "metadata": {
    "collapsed": false,
    "ExecuteTime": {
     "end_time": "2023-10-01T18:30:51.346193Z",
     "start_time": "2023-10-01T18:30:49.964070Z"
    }
   },
   "id": "1323bada7c713243"
  },
  {
   "cell_type": "code",
   "execution_count": 87,
   "outputs": [
    {
     "name": "stdout",
     "output_type": "stream",
     "text": [
      "q5: transmission_type\n"
     ]
    }
   ],
   "source": [
    "print(\n",
    "    'q5: transmission_type')  # based on both removing features and recalculating accuracy and also based on mutual information"
   ],
   "metadata": {
    "collapsed": false,
    "ExecuteTime": {
     "end_time": "2023-10-01T18:33:45.716893Z",
     "start_time": "2023-10-01T18:33:45.700443Z"
    }
   },
   "id": "564181deb2128fdf"
  },
  {
   "cell_type": "markdown",
   "source": [
    "# Question 6"
   ],
   "metadata": {
    "collapsed": false
   },
   "id": "e37ef21a347703c4"
  },
  {
   "cell_type": "code",
   "execution_count": 6,
   "outputs": [
    {
     "data": {
      "text/plain": "<Figure size 1000x400 with 2 Axes>",
      "image/png": "[encoded data removed]"
     },
     "metadata": {},
     "output_type": "display_data"
    }
   ],
   "source": [
    "fig, axs = plt.subplots(1, 2, figsize=(10, 4))\n",
    "\n",
    "# plot the histograms on separate subplots\n",
    "sns.histplot(df.price.values, ax=axs[0])\n",
    "sns.histplot(df.price.values, ax=axs[1], log_scale=True)\n",
    "\n",
    "# show the plot\n",
    "plt.show()"
   ],
   "metadata": {
    "collapsed": false,
    "ExecuteTime": {
     "end_time": "2023-10-01T20:13:27.023751Z",
     "start_time": "2023-10-01T20:13:26.212130Z"
    }
   },
   "id": "f9e9e1c34147e553"
  },
  {
   "cell_type": "code",
   "execution_count": 10,
   "outputs": [],
   "source": [
    "from sklearn.model_selection import train_test_split\n",
    "\n",
    "df_train_valid, df_test = train_test_split(df, random_state=seed, test_size=0.2)\n",
    "df_train, df_valid = train_test_split(df_train_valid, random_state=seed, test_size=0.25)\n",
    "\n",
    "y_train = np.log1p(df_train.price)\n",
    "y_valid = np.log1p(df_valid.price)\n",
    "y_test = np.log1p(df_test.price)\n",
    "\n",
    "df_train.drop(columns=['above_average', 'price'], inplace=True)\n",
    "df_valid.drop(columns=['above_average', 'price'], inplace=True)\n",
    "df_test.drop(columns=['above_average', 'price'], inplace=True)"
   ],
   "metadata": {
    "collapsed": false,
    "ExecuteTime": {
     "end_time": "2023-10-01T20:14:08.806842Z",
     "start_time": "2023-10-01T20:14:08.796200Z"
    }
   },
   "id": "ad2bde10ed3c0648"
  },
  {
   "cell_type": "code",
   "execution_count": 11,
   "outputs": [],
   "source": [
    "from sklearn.linear_model import Ridge\n",
    "from sklearn.metrics import mean_squared_error\n",
    "\n",
    "\n",
    "def get_rmse_from_ridge_regression(alpha: float) -> float:\n",
    "    model = Ridge(solver='sag', alpha=alpha, random_state=seed)\n",
    "    encoder = get_one_hot_encoder(df_train)\n",
    "    x_train = to_model_input(df_train, encoder)\n",
    "    model.fit(x_train, y_train)\n",
    "    x_valid = to_model_input(df_valid, encoder)\n",
    "    y_predict = model.predict(x_valid)\n",
    "    return mean_squared_error(y_valid, y_predict)"
   ],
   "metadata": {
    "collapsed": false,
    "ExecuteTime": {
     "end_time": "2023-10-01T20:14:11.652253Z",
     "start_time": "2023-10-01T20:14:11.606642Z"
    }
   },
   "id": "d029815503348ee2"
  },
  {
   "cell_type": "code",
   "execution_count": 15,
   "outputs": [
    {
     "name": "stdout",
     "output_type": "stream",
     "text": [
      "alpha:0, \t rmse:0.237\n",
      "alpha:0.01, \t rmse:0.237\n",
      "alpha:0.1, \t rmse:0.237\n",
      "alpha:1, \t rmse:0.237\n",
      "alpha:10, \t rmse:0.237\n"
     ]
    }
   ],
   "source": [
    "for alpha in [0, 0.01, 0.1, 1, 10]:\n",
    "    rmse = get_rmse_from_ridge_regression(alpha)\n",
    "    print(f'alpha:{alpha}, \\t rmse:{round(rmse, 3)}')"
   ],
   "metadata": {
    "collapsed": false,
    "ExecuteTime": {
     "end_time": "2023-10-01T20:16:56.270884Z",
     "start_time": "2023-10-01T20:14:24.228709Z"
    }
   },
   "id": "a497ff054fc4a87d"
  }
 ],
 "metadata": {
  "kernelspec": {
   "display_name": "Python 3",
   "language": "python",
   "name": "python3"
  },
  "language_info": {
   "codemirror_mode": {
    "name": "ipython",
    "version": 2
   },
   "file_extension": ".py",
   "mimetype": "text/x-python",
   "name": "python",
   "nbconvert_exporter": "python",
   "pygments_lexer": "ipython2",
   "version": "2.7.6"
  }
 },
 "nbformat": 4,
 "nbformat_minor": 5
}
