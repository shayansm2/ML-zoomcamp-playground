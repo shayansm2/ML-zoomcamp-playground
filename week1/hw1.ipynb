{
 "cells": [
  {
   "cell_type": "code",
   "execution_count": 1,
   "id": "initial_id",
   "metadata": {
    "collapsed": true,
    "ExecuteTime": {
     "end_time": "2023-09-14T12:10:29.765822Z",
     "start_time": "2023-09-14T12:10:28.651563Z"
    }
   },
   "outputs": [],
   "source": [
    "import pandas as pd"
   ]
  },
  {
   "cell_type": "code",
   "execution_count": 2,
   "outputs": [
    {
     "name": "stdout",
     "output_type": "stream",
     "text": [
      "q1: 2.0.3\n"
     ]
    }
   ],
   "source": [
    "print('q1:', pd.__version__)"
   ],
   "metadata": {
    "collapsed": false,
    "ExecuteTime": {
     "end_time": "2023-09-14T12:10:29.770450Z",
     "start_time": "2023-09-14T12:10:29.766564Z"
    }
   },
   "id": "faeb6258ddcd811f"
  },
  {
   "cell_type": "markdown",
   "source": [
    "```bash\n",
    "wget https://raw.githubusercontent.com/alexeygrigorev/datasets/master/housing.csv\n",
    "```"
   ],
   "metadata": {
    "collapsed": false
   },
   "id": "6748c9583a9204e0"
  },
  {
   "cell_type": "code",
   "execution_count": 3,
   "outputs": [],
   "source": [
    "df = pd.read_csv('./housing.csv')"
   ],
   "metadata": {
    "collapsed": false,
    "ExecuteTime": {
     "end_time": "2023-09-14T12:10:30.873473Z",
     "start_time": "2023-09-14T12:10:30.848235Z"
    }
   },
   "id": "e98f364469780ed6"
  },
  {
   "cell_type": "code",
   "execution_count": 4,
   "outputs": [
    {
     "name": "stdout",
     "output_type": "stream",
     "text": [
      "q2: 20640\n"
     ]
    }
   ],
   "source": [
    "print('q2:', len(df))"
   ],
   "metadata": {
    "collapsed": false,
    "ExecuteTime": {
     "end_time": "2023-09-14T12:10:31.590389Z",
     "start_time": "2023-09-14T12:10:31.586226Z"
    }
   },
   "id": "28294ffaa72aa037"
  },
  {
   "cell_type": "code",
   "execution_count": 7,
   "outputs": [
    {
     "name": "stdout",
     "output_type": "stream",
     "text": [
      "q4: 5\n"
     ]
    }
   ],
   "source": [
    "print('q4:', df.ocean_proximity.nunique())"
   ],
   "metadata": {
    "collapsed": false,
    "ExecuteTime": {
     "end_time": "2023-09-14T12:11:11.520504Z",
     "start_time": "2023-09-14T12:11:11.508300Z"
    }
   },
   "id": "53bef3eb0501a89"
  },
  {
   "cell_type": "code",
   "execution_count": 15,
   "outputs": [
    {
     "name": "stdout",
     "output_type": "stream",
     "text": [
      "q5: 259212.31179039303\n"
     ]
    }
   ],
   "source": [
    "print('q5:',df[df['ocean_proximity'] == 'NEAR BAY'].median_house_value.mean())"
   ],
   "metadata": {
    "collapsed": false,
    "ExecuteTime": {
     "end_time": "2023-09-14T12:14:25.789482Z",
     "start_time": "2023-09-14T12:14:25.786182Z"
    }
   },
   "id": "6c7fdba7e1652b95"
  },
  {
   "cell_type": "code",
   "execution_count": null,
   "outputs": [],
   "source": [],
   "metadata": {
    "collapsed": false
   },
   "id": "4c1c16a555f66638"
  }
 ],
 "metadata": {
  "kernelspec": {
   "display_name": "Python 3",
   "language": "python",
   "name": "python3"
  },
  "language_info": {
   "codemirror_mode": {
    "name": "ipython",
    "version": 2
   },
   "file_extension": ".py",
   "mimetype": "text/x-python",
   "name": "python",
   "nbconvert_exporter": "python",
   "pygments_lexer": "ipython2",
   "version": "2.7.6"
  }
 },
 "nbformat": 4,
 "nbformat_minor": 5
}
