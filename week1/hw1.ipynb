{
 "cells": [
  {
   "cell_type": "code",
   "execution_count": 24,
   "id": "initial_id",
   "metadata": {
    "collapsed": true,
    "ExecuteTime": {
     "end_time": "2023-09-15T20:08:24.802777Z",
     "start_time": "2023-09-15T20:08:24.782720Z"
    }
   },
   "outputs": [],
   "source": [
    "import numpy as np\n",
    "import pandas as pd"
   ]
  },
  {
   "cell_type": "code",
   "execution_count": 2,
   "outputs": [
    {
     "name": "stdout",
     "output_type": "stream",
     "text": [
      "q1: 2.0.3\n"
     ]
    }
   ],
   "source": [
    "print('q1:', pd.__version__)"
   ],
   "metadata": {
    "collapsed": false,
    "ExecuteTime": {
     "end_time": "2023-09-15T19:55:28.826553Z",
     "start_time": "2023-09-15T19:55:28.774956Z"
    }
   },
   "id": "faeb6258ddcd811f"
  },
  {
   "cell_type": "markdown",
   "source": [
    "```bash\n",
    "wget https://raw.githubusercontent.com/alexeygrigorev/datasets/master/housing.csv\n",
    "```"
   ],
   "metadata": {
    "collapsed": false
   },
   "id": "6748c9583a9204e0"
  },
  {
   "cell_type": "code",
   "execution_count": 3,
   "outputs": [],
   "source": [
    "df = pd.read_csv('./housing.csv')"
   ],
   "metadata": {
    "collapsed": false,
    "ExecuteTime": {
     "end_time": "2023-09-15T19:55:30.505616Z",
     "start_time": "2023-09-15T19:55:30.479349Z"
    }
   },
   "id": "e98f364469780ed6"
  },
  {
   "cell_type": "code",
   "execution_count": 4,
   "outputs": [
    {
     "name": "stdout",
     "output_type": "stream",
     "text": [
      "q2: 20640\n"
     ]
    }
   ],
   "source": [
    "print('q2:', len(df))"
   ],
   "metadata": {
    "collapsed": false,
    "ExecuteTime": {
     "start_time": "2023-09-15T19:55:31.005948Z"
    }
   },
   "id": "28294ffaa72aa037"
  },
  {
   "cell_type": "code",
   "execution_count": 8,
   "outputs": [
    {
     "data": {
      "text/plain": "longitude               0\nlatitude                0\nhousing_median_age      0\ntotal_rooms             0\ntotal_bedrooms        207\npopulation              0\nhouseholds              0\nmedian_income           0\nmedian_house_value      0\nocean_proximity         0\ndtype: int64"
     },
     "execution_count": 8,
     "metadata": {},
     "output_type": "execute_result"
    }
   ],
   "source": [
    "df.isnull().sum()"
   ],
   "metadata": {
    "collapsed": false,
    "ExecuteTime": {
     "end_time": "2023-09-15T19:56:05.756670Z",
     "start_time": "2023-09-15T19:56:05.744381Z"
    }
   },
   "id": "3de8be4d09124be1"
  },
  {
   "cell_type": "code",
   "execution_count": 9,
   "outputs": [
    {
     "name": "stdout",
     "output_type": "stream",
     "text": [
      "q3:total_bedrooms\n"
     ]
    }
   ],
   "source": [
    "print('q3:total_bedrooms')"
   ],
   "metadata": {
    "collapsed": false,
    "ExecuteTime": {
     "end_time": "2023-09-15T19:56:27.014790Z",
     "start_time": "2023-09-15T19:56:27.004415Z"
    }
   },
   "id": "a77ede68198f74e0"
  },
  {
   "cell_type": "code",
   "execution_count": 10,
   "outputs": [
    {
     "name": "stdout",
     "output_type": "stream",
     "text": [
      "q4: 5\n"
     ]
    }
   ],
   "source": [
    "print('q4:', df.ocean_proximity.nunique())"
   ],
   "metadata": {
    "collapsed": false,
    "ExecuteTime": {
     "end_time": "2023-09-15T19:56:29.437186Z",
     "start_time": "2023-09-15T19:56:29.431097Z"
    }
   },
   "id": "53bef3eb0501a89"
  },
  {
   "cell_type": "code",
   "execution_count": 11,
   "outputs": [
    {
     "name": "stdout",
     "output_type": "stream",
     "text": [
      "q5: 259212.31179039303\n"
     ]
    }
   ],
   "source": [
    "print('q5:',df[df['ocean_proximity'] == 'NEAR BAY'].median_house_value.mean())"
   ],
   "metadata": {
    "collapsed": false,
    "ExecuteTime": {
     "end_time": "2023-09-15T19:56:30.942183Z",
     "start_time": "2023-09-15T19:56:30.933985Z"
    }
   },
   "id": "6c7fdba7e1652b95"
  },
  {
   "cell_type": "code",
   "execution_count": 13,
   "outputs": [
    {
     "data": {
      "text/plain": "537.871"
     },
     "execution_count": 13,
     "metadata": {},
     "output_type": "execute_result"
    }
   ],
   "source": [
    "df.total_bedrooms.mean().round(3)"
   ],
   "metadata": {
    "collapsed": false,
    "ExecuteTime": {
     "end_time": "2023-09-15T19:59:49.856520Z",
     "start_time": "2023-09-15T19:59:49.850888Z"
    }
   },
   "id": "4c1c16a555f66638"
  },
  {
   "cell_type": "code",
   "execution_count": 14,
   "outputs": [],
   "source": [
    "df['total_bedrooms'] = df['total_bedrooms'].fillna(df.total_bedrooms.mean().round(3))"
   ],
   "metadata": {
    "collapsed": false,
    "ExecuteTime": {
     "end_time": "2023-09-15T20:03:03.890342Z",
     "start_time": "2023-09-15T20:03:03.883356Z"
    }
   },
   "id": "1ba06fc15630f1da"
  },
  {
   "cell_type": "code",
   "execution_count": 15,
   "outputs": [
    {
     "data": {
      "text/plain": "537.871"
     },
     "execution_count": 15,
     "metadata": {},
     "output_type": "execute_result"
    }
   ],
   "source": [
    "df.total_bedrooms.mean().round(3)"
   ],
   "metadata": {
    "collapsed": false,
    "ExecuteTime": {
     "end_time": "2023-09-15T20:03:08.422160Z",
     "start_time": "2023-09-15T20:03:08.415782Z"
    }
   },
   "id": "213712274735d49f"
  },
  {
   "cell_type": "code",
   "execution_count": 16,
   "outputs": [
    {
     "name": "stdout",
     "output_type": "stream",
     "text": [
      "q6:NO\n"
     ]
    }
   ],
   "source": [
    "print('q6:NO')"
   ],
   "metadata": {
    "collapsed": false,
    "ExecuteTime": {
     "end_time": "2023-09-15T20:03:32.065825Z",
     "start_time": "2023-09-15T20:03:32.057819Z"
    }
   },
   "id": "55024e766202b0ab"
  },
  {
   "cell_type": "code",
   "execution_count": 18,
   "outputs": [
    {
     "data": {
      "text/plain": "array(['NEAR BAY', '<1H OCEAN', 'INLAND', 'NEAR OCEAN', 'ISLAND'],\n      dtype=object)"
     },
     "execution_count": 18,
     "metadata": {},
     "output_type": "execute_result"
    }
   ],
   "source": [
    "df.ocean_proximity.unique()"
   ],
   "metadata": {
    "collapsed": false,
    "ExecuteTime": {
     "end_time": "2023-09-15T20:05:29.281334Z",
     "start_time": "2023-09-15T20:05:29.276484Z"
    }
   },
   "id": "eb33ef0c540fe0a0"
  },
  {
   "cell_type": "code",
   "execution_count": 22,
   "outputs": [],
   "source": [
    "X = df[\n",
    "    df['ocean_proximity'] == 'ISLAND'\n",
    "][\n",
    "    ['housing_median_age', 'total_rooms', 'total_bedrooms']\n",
    "].values"
   ],
   "metadata": {
    "collapsed": false,
    "ExecuteTime": {
     "end_time": "2023-09-15T20:07:56.959233Z",
     "start_time": "2023-09-15T20:07:56.952467Z"
    }
   },
   "id": "668f5ad9a4b20121"
  },
  {
   "cell_type": "code",
   "execution_count": 28,
   "outputs": [],
   "source": [
    "XTX = np.dot(X.T, X)"
   ],
   "metadata": {
    "collapsed": false,
    "ExecuteTime": {
     "end_time": "2023-09-15T20:18:01.100065Z",
     "start_time": "2023-09-15T20:18:01.088784Z"
    }
   },
   "id": "5ea85718fc356f09"
  },
  {
   "cell_type": "code",
   "execution_count": 30,
   "outputs": [],
   "source": [
    "y = np.array([950, 1300, 800, 1000, 1300])"
   ],
   "metadata": {
    "collapsed": false,
    "ExecuteTime": {
     "end_time": "2023-09-15T20:18:44.764554Z",
     "start_time": "2023-09-15T20:18:44.754748Z"
    }
   },
   "id": "609442826077e98e"
  },
  {
   "cell_type": "code",
   "execution_count": 39,
   "outputs": [
    {
     "data": {
      "text/plain": "array([23.12330961, -1.48124183,  5.69922946])"
     },
     "execution_count": 39,
     "metadata": {},
     "output_type": "execute_result"
    }
   ],
   "source": [
    "w = np.linalg.inv(XTX).dot(X.T).dot(y)"
   ],
   "metadata": {
    "collapsed": false,
    "ExecuteTime": {
     "end_time": "2023-09-15T20:38:49.977574Z",
     "start_time": "2023-09-15T20:38:49.972449Z"
    }
   },
   "id": "87e9530d1e047fc1"
  },
  {
   "cell_type": "code",
   "execution_count": 40,
   "outputs": [
    {
     "name": "stdout",
     "output_type": "stream",
     "text": [
      "q7: 5.699229455065565\n"
     ]
    }
   ],
   "source": [
    "print('q7:', w[-1])"
   ],
   "metadata": {
    "collapsed": false,
    "ExecuteTime": {
     "end_time": "2023-09-15T20:39:32.274705Z",
     "start_time": "2023-09-15T20:39:32.267057Z"
    }
   },
   "id": "b01dbe3839fc5e21"
  }
 ],
 "metadata": {
  "kernelspec": {
   "display_name": "Python 3",
   "language": "python",
   "name": "python3"
  },
  "language_info": {
   "codemirror_mode": {
    "name": "ipython",
    "version": 2
   },
   "file_extension": ".py",
   "mimetype": "text/x-python",
   "name": "python",
   "nbconvert_exporter": "python",
   "pygments_lexer": "ipython2",
   "version": "2.7.6"
  }
 },
 "nbformat": 4,
 "nbformat_minor": 5
}
