{
 "cells": [
  {
   "cell_type": "code",
   "execution_count": 1,
   "id": "initial_id",
   "metadata": {
    "collapsed": true,
    "ExecuteTime": {
     "end_time": "2023-10-06T10:48:46.263908Z",
     "start_time": "2023-10-06T10:48:46.243570Z"
    }
   },
   "outputs": [],
   "source": [
    "import numpy as np\n",
    "import pandas as pd\n",
    "\n",
    "from matplotlib import pyplot as plt\n",
    "import seaborn as sns\n",
    "%matplotlib inline"
   ]
  },
  {
   "cell_type": "code",
   "execution_count": 2,
   "outputs": [],
   "source": [
    "import warnings\n",
    "\n",
    "warnings.filterwarnings('ignore')"
   ],
   "metadata": {
    "collapsed": false,
    "ExecuteTime": {
     "end_time": "2023-10-06T10:48:47.296063Z",
     "start_time": "2023-10-06T10:48:47.285803Z"
    }
   },
   "id": "bd9f194191808a2"
  },
  {
   "cell_type": "code",
   "execution_count": 3,
   "outputs": [],
   "source": [
    "df = pd.read_csv('../week3/data.csv')"
   ],
   "metadata": {
    "collapsed": false,
    "ExecuteTime": {
     "end_time": "2023-10-06T10:48:48.136046Z",
     "start_time": "2023-10-06T10:48:48.107524Z"
    }
   },
   "id": "f31da166c9d45aa7"
  },
  {
   "cell_type": "markdown",
   "source": [
    "# Data preparation"
   ],
   "metadata": {
    "collapsed": false
   },
   "id": "e4efd6e31ee5ac5c"
  },
  {
   "cell_type": "code",
   "execution_count": 4,
   "outputs": [],
   "source": [
    "from lib.data_preparation import sanitize_string_columns_and_values\n",
    "\n",
    "columns = ['Make', 'Model', 'Year', 'Engine HP', 'Engine Cylinders', 'Transmission Type', 'Vehicle Style',\n",
    "           'highway MPG', 'city mpg', 'MSRP']\n",
    "df = df[columns]\n",
    "sanitize_string_columns_and_values(df)\n",
    "df.fillna(0, inplace=True)\n",
    "df['above_average'] = df['msrp'] > df.msrp.mean()\n",
    "df.drop(columns=['msrp'], inplace=True)"
   ],
   "metadata": {
    "collapsed": false,
    "ExecuteTime": {
     "end_time": "2023-10-06T10:48:50.121876Z",
     "start_time": "2023-10-06T10:48:50.088590Z"
    }
   },
   "id": "ea13730cad9f0aec"
  },
  {
   "cell_type": "code",
   "execution_count": 7,
   "outputs": [],
   "source": [
    "def remove_y_from_data(df: pd.DataFrame, y_name: str):\n",
    "    y = df[y_name].values\n",
    "    df.drop(columns=[y_name], inplace=True)\n",
    "    return y"
   ],
   "metadata": {
    "collapsed": false,
    "ExecuteTime": {
     "end_time": "2023-10-06T10:49:21.692241Z",
     "start_time": "2023-10-06T10:49:21.672779Z"
    }
   },
   "id": "c7d866c8cb0da8c0"
  },
  {
   "cell_type": "code",
   "execution_count": 8,
   "outputs": [],
   "source": [
    "from sklearn.model_selection import train_test_split\n",
    "\n",
    "seed = 1\n",
    "\n",
    "df_train_full, df_test = train_test_split(df, test_size=0.2, random_state=seed)\n",
    "df_train, df_valid = train_test_split(df_train_full, test_size=0.25, random_state=seed)\n",
    "\n",
    "y_train = remove_y_from_data(df_train, 'above_average')\n",
    "y_valid = remove_y_from_data(df_valid, 'above_average')\n",
    "y_test = remove_y_from_data(df_test, 'above_average')"
   ],
   "metadata": {
    "collapsed": false,
    "ExecuteTime": {
     "end_time": "2023-10-06T10:49:22.399423Z",
     "start_time": "2023-10-06T10:49:22.382734Z"
    }
   },
   "id": "e85478147520afa1"
  },
  {
   "cell_type": "markdown",
   "source": [
    "# Question 1: ROC AUC feature importance"
   ],
   "metadata": {
    "collapsed": false
   },
   "id": "cc05e1bf08bfde8c"
  },
  {
   "cell_type": "code",
   "execution_count": 9,
   "outputs": [],
   "source": [
    "numerical_columns = ['year', 'engine_hp', 'engine_cylinders', 'highway_mpg', 'city_mpg']\n",
    "categorical_columns = ['make', 'model', 'transmission_type', 'vehicle_style']"
   ],
   "metadata": {
    "collapsed": false,
    "ExecuteTime": {
     "end_time": "2023-10-06T10:49:24.980422Z",
     "start_time": "2023-10-06T10:49:24.966872Z"
    }
   },
   "id": "bda7f5858cbe3f0"
  },
  {
   "cell_type": "code",
   "execution_count": 10,
   "outputs": [
    {
     "name": "stdout",
     "output_type": "stream",
     "text": [
      "year: 0.688\n",
      "engine_hp: 0.917\n",
      "engine_cylinders: 0.766\n",
      "highway_mpg: 0.633\n",
      "city_mpg: 0.673\n"
     ]
    }
   ],
   "source": [
    "from sklearn.metrics import roc_auc_score\n",
    "\n",
    "for numerical_column in numerical_columns:\n",
    "    auc = roc_auc_score(y_train, df_train[numerical_column].values)\n",
    "    if auc < 0.5:\n",
    "        auc = roc_auc_score(y_train, -df_train[numerical_column].values)\n",
    "    print(f'{numerical_column}: {round(auc, 3)}')"
   ],
   "metadata": {
    "collapsed": false,
    "ExecuteTime": {
     "end_time": "2023-10-06T10:49:25.716523Z",
     "start_time": "2023-10-06T10:49:25.692801Z"
    }
   },
   "id": "b235d715cc1333ac"
  },
  {
   "cell_type": "code",
   "execution_count": 11,
   "outputs": [
    {
     "name": "stdout",
     "output_type": "stream",
     "text": [
      "q1: engine_hp\n"
     ]
    }
   ],
   "source": [
    "print('q1: engine_hp')"
   ],
   "metadata": {
    "collapsed": false,
    "ExecuteTime": {
     "end_time": "2023-10-06T10:49:33.022672Z",
     "start_time": "2023-10-06T10:49:33.015874Z"
    }
   },
   "id": "3907dfcdc57dc531"
  },
  {
   "cell_type": "markdown",
   "source": [
    "# Question 2: Training the model"
   ],
   "metadata": {
    "collapsed": false
   },
   "id": "80b60688b7f35bcb"
  },
  {
   "cell_type": "code",
   "execution_count": 12,
   "outputs": [],
   "source": [
    "from sklearn.feature_extraction import DictVectorizer\n",
    "\n",
    "\n",
    "def get_encoder(df: pd.DataFrame) -> DictVectorizer:\n",
    "    copy = df.copy()\n",
    "    copy = copy.to_dict(orient='records')\n",
    "    encoder = DictVectorizer(sparse=False)\n",
    "    encoder.fit(copy)\n",
    "    return encoder\n",
    "\n",
    "\n",
    "def get_input(df: pd.DataFrame, encoder: DictVectorizer):\n",
    "    copy = df.copy()\n",
    "    copy = copy.to_dict(orient='records')\n",
    "    x = encoder.transform(copy)\n",
    "    return x"
   ],
   "metadata": {
    "collapsed": false,
    "ExecuteTime": {
     "end_time": "2023-10-06T10:49:34.749694Z",
     "start_time": "2023-10-06T10:49:34.734916Z"
    }
   },
   "id": "be08bea2ae255b05"
  },
  {
   "cell_type": "code",
   "execution_count": 33,
   "outputs": [],
   "source": [
    "from sklearn.linear_model import LogisticRegression\n",
    "\n",
    "\n",
    "def train(df, y, c=1) -> (LogisticRegression, DictVectorizer):\n",
    "    encoder = get_encoder(df)\n",
    "    x = get_input(df, encoder)\n",
    "    model = LogisticRegression(solver='liblinear', C=c, max_iter=1000)\n",
    "    model.fit(x, y)\n",
    "    return model, encoder\n",
    "\n",
    "\n",
    "def predict(df: pd.DataFrame, model: LogisticRegression, encoder: DictVectorizer):\n",
    "    x = get_input(df, encoder)\n",
    "    return model.predict_proba(x)[:, 1]"
   ],
   "metadata": {
    "collapsed": false,
    "ExecuteTime": {
     "end_time": "2023-10-06T10:58:46.954654Z",
     "start_time": "2023-10-06T10:58:46.937463Z"
    }
   },
   "id": "5dfe470b553ed6f7"
  },
  {
   "cell_type": "code",
   "execution_count": 14,
   "outputs": [
    {
     "name": "stdout",
     "output_type": "stream",
     "text": [
      "q2: 0.9798\n"
     ]
    }
   ],
   "source": [
    "model, encoder = train(df_train, y_train)\n",
    "y_pred = predict(df_valid, model, encoder)\n",
    "print('q2:', round(roc_auc_score(y_valid, y_pred), 4))"
   ],
   "metadata": {
    "collapsed": false,
    "ExecuteTime": {
     "end_time": "2023-10-06T10:49:40.472638Z",
     "start_time": "2023-10-06T10:49:40.316393Z"
    }
   },
   "id": "59ff1983fa9bead3"
  },
  {
   "cell_type": "markdown",
   "source": [
    "# Question 3: Precision and Recall"
   ],
   "metadata": {
    "collapsed": false
   },
   "id": "9a51de039c9dcff1"
  },
  {
   "cell_type": "code",
   "execution_count": 15,
   "outputs": [],
   "source": [
    "from sklearn.metrics import precision_score, recall_score\n",
    "\n",
    "precisions = []\n",
    "recalls = []\n",
    "my_precisions = []\n",
    "my_recalls = []\n",
    "thresholds = np.arange(0, 1, 0.01)\n",
    "\n",
    "for threshold in thresholds:\n",
    "    y_pred_flag = y_pred >= threshold\n",
    "\n",
    "    true_positive = ((y_valid == True) & (y_pred_flag == True)).sum()\n",
    "    true_negative = ((y_valid == False) & (y_pred_flag == False)).sum()\n",
    "    false_positive = ((y_valid == False) & (y_pred_flag == True)).sum()\n",
    "    false_negative = ((y_valid == True) & (y_pred_flag == False)).sum()\n",
    "\n",
    "    my_precision = true_positive / (true_positive + false_positive)\n",
    "    my_recall = true_positive / (true_positive + false_negative)\n",
    "    my_precisions.append(my_precision)\n",
    "    my_recalls.append(my_recall)\n",
    "\n",
    "    precision = precision_score(y_valid, y_pred_flag)\n",
    "    recall = recall_score(y_valid, y_pred_flag)\n",
    "    precisions.append(precision)\n",
    "    recalls.append(recall)"
   ],
   "metadata": {
    "collapsed": false,
    "ExecuteTime": {
     "end_time": "2023-10-06T10:49:43.256280Z",
     "start_time": "2023-10-06T10:49:43.080752Z"
    }
   },
   "id": "b6c00e7460569e35"
  },
  {
   "cell_type": "code",
   "execution_count": 16,
   "outputs": [
    {
     "data": {
      "text/plain": "<Figure size 640x480 with 1 Axes>",
      "image/png": "[encoded data removed]"
     },
     "metadata": {},
     "output_type": "display_data"
    }
   ],
   "source": [
    "# plot both lines\n",
    "plt.plot(thresholds, precisions, color='blue', label='precisions')\n",
    "plt.plot(thresholds, recalls, color='red', label='recall')\n",
    "\n",
    "# add legend and labels\n",
    "plt.legend()\n",
    "plt.xlabel('threshold')\n",
    "plt.title('precision and recall')\n",
    "plt.legend()\n",
    "\n",
    "# show the plot\n",
    "plt.show()"
   ],
   "metadata": {
    "collapsed": false,
    "ExecuteTime": {
     "end_time": "2023-10-06T10:49:44.207824Z",
     "start_time": "2023-10-06T10:49:44.083872Z"
    }
   },
   "id": "45b32a02378e1a51"
  },
  {
   "cell_type": "code",
   "execution_count": 17,
   "outputs": [
    {
     "data": {
      "text/plain": "    threshold  precisions    recall\n48       0.48    0.892142  0.885321",
      "text/html": "<div>\n<style scoped>\n    .dataframe tbody tr th:only-of-type {\n        vertical-align: middle;\n    }\n\n    .dataframe tbody tr th {\n        vertical-align: top;\n    }\n\n    .dataframe thead th {\n        text-align: right;\n    }\n</style>\n<table border=\"1\" class=\"dataframe\">\n  <thead>\n    <tr style=\"text-align: right;\">\n      <th></th>\n      <th>threshold</th>\n      <th>precisions</th>\n      <th>recall</th>\n    </tr>\n  </thead>\n  <tbody>\n    <tr>\n      <th>48</th>\n      <td>0.48</td>\n      <td>0.892142</td>\n      <td>0.885321</td>\n    </tr>\n  </tbody>\n</table>\n</div>"
     },
     "execution_count": 17,
     "metadata": {},
     "output_type": "execute_result"
    }
   ],
   "source": [
    "precision_vs_recall = pd.DataFrame({\n",
    "    'threshold': thresholds,\n",
    "    'precisions': precisions,\n",
    "    'recall': recalls\n",
    "})\n",
    "\n",
    "precision_vs_recall[precision_vs_recall['precisions'] > precision_vs_recall['recall']].head(1)"
   ],
   "metadata": {
    "collapsed": false,
    "ExecuteTime": {
     "end_time": "2023-10-06T10:49:45.270007Z",
     "start_time": "2023-10-06T10:49:45.262805Z"
    }
   },
   "id": "166d2d4e8c64e7f5"
  },
  {
   "cell_type": "code",
   "execution_count": 18,
   "outputs": [
    {
     "name": "stdout",
     "output_type": "stream",
     "text": [
      "q3: 0.48\n"
     ]
    }
   ],
   "source": [
    "print('q3: 0.48')"
   ],
   "metadata": {
    "collapsed": false,
    "ExecuteTime": {
     "end_time": "2023-10-06T10:49:46.218103Z",
     "start_time": "2023-10-06T10:49:46.208923Z"
    }
   },
   "id": "37321fb1d13aa3f4"
  },
  {
   "cell_type": "markdown",
   "source": [
    "# Question 4: F1 score"
   ],
   "metadata": {
    "collapsed": false
   },
   "id": "d8100761ed400c05"
  },
  {
   "cell_type": "code",
   "execution_count": 19,
   "outputs": [
    {
     "data": {
      "text/plain": "<Figure size 640x480 with 1 Axes>",
      "image/png": "[encoded data removed]"
     },
     "metadata": {},
     "output_type": "display_data"
    }
   ],
   "source": [
    "precision = np.array(precisions)\n",
    "recall = np.array(recalls)\n",
    "f1 = (2 * precision * recall) / (precision + recall)\n",
    "plt.plot(thresholds, f1.tolist())\n",
    "plt.show()"
   ],
   "metadata": {
    "collapsed": false,
    "ExecuteTime": {
     "end_time": "2023-10-06T10:49:47.933096Z",
     "start_time": "2023-10-06T10:49:47.861970Z"
    }
   },
   "id": "c6f7b27c73dfca31"
  },
  {
   "cell_type": "code",
   "execution_count": 20,
   "outputs": [
    {
     "data": {
      "text/plain": "threshold     0.480000\nprecisions    0.892142\nrecall        0.885321\nf1            0.888718\nName: 48, dtype: float64"
     },
     "execution_count": 20,
     "metadata": {},
     "output_type": "execute_result"
    }
   ],
   "source": [
    "precision_vs_recall['f1'] = f1\n",
    "precision_vs_recall.iloc[precision_vs_recall['f1'].idxmax()]"
   ],
   "metadata": {
    "collapsed": false,
    "ExecuteTime": {
     "end_time": "2023-10-06T10:49:50.738027Z",
     "start_time": "2023-10-06T10:49:50.731633Z"
    }
   },
   "id": "67bfe562f66a81e3"
  },
  {
   "cell_type": "code",
   "execution_count": 21,
   "outputs": [
    {
     "name": "stdout",
     "output_type": "stream",
     "text": [
      "q4: 0.48\n"
     ]
    }
   ],
   "source": [
    "print('q4: 0.48')"
   ],
   "metadata": {
    "collapsed": false,
    "ExecuteTime": {
     "end_time": "2023-10-06T10:49:52.150623Z",
     "start_time": "2023-10-06T10:49:52.141950Z"
    }
   },
   "id": "11a293585921239"
  },
  {
   "cell_type": "markdown",
   "source": [
    "# Question 5: 5-Fold CV"
   ],
   "metadata": {
    "collapsed": false
   },
   "id": "3fa3056323a363fe"
  },
  {
   "cell_type": "code",
   "execution_count": 36,
   "outputs": [],
   "source": [
    "from sklearn.model_selection import KFold\n",
    "\n",
    "\n",
    "def get_aucs_from_kfold(regularization_ratio: int = 1) -> list:\n",
    "    kfold = KFold(n_splits=5, shuffle=True, random_state=seed)\n",
    "    aucs = []\n",
    "    for train_idx, valid_inx in kfold.split(df_train_full):\n",
    "        df_train = df_train_full.iloc[train_idx]\n",
    "        df_valid = df_train_full.iloc[valid_inx]\n",
    "        y_train = remove_y_from_data(df_train, 'above_average')\n",
    "        y_valid = remove_y_from_data(df_valid, 'above_average')\n",
    "        model, encoder = train(df_train, y_train, regularization_ratio)\n",
    "        y_pred = predict(df_valid, model, encoder)\n",
    "        aucs.append(roc_auc_score(y_valid, y_pred))\n",
    "    return aucs"
   ],
   "metadata": {
    "collapsed": false,
    "ExecuteTime": {
     "end_time": "2023-10-06T10:59:25.166094Z",
     "start_time": "2023-10-06T10:59:25.151965Z"
    }
   },
   "id": "ec52cf2905f1ded"
  },
  {
   "cell_type": "code",
   "execution_count": 37,
   "outputs": [
    {
     "name": "stdout",
     "output_type": "stream",
     "text": [
      "q5: 0.001\n"
     ]
    }
   ],
   "source": [
    "aucs = get_aucs_from_kfold()\n",
    "print('q5:', round(np.std(aucs), 3))"
   ],
   "metadata": {
    "collapsed": false,
    "ExecuteTime": {
     "end_time": "2023-10-06T10:59:26.883052Z",
     "start_time": "2023-10-06T10:59:26.032213Z"
    }
   },
   "id": "20ac3712d5f22e3f"
  },
  {
   "cell_type": "markdown",
   "source": [
    "# Question 6: Hyperparemeter Tuning"
   ],
   "metadata": {
    "collapsed": false
   },
   "id": "8cea2006778801f7"
  },
  {
   "cell_type": "code",
   "execution_count": 39,
   "outputs": [
    {
     "name": "stdout",
     "output_type": "stream",
     "text": [
      "c=0.01 \t auc=0.952±0.002\n",
      "c=0.1 \t auc=0.972±0.002\n",
      "c=0.5 \t auc=0.979±0.002\n",
      "c=10 \t auc=0.981±0.003\n"
     ]
    }
   ],
   "source": [
    "for c in [0.01, 0.1, 0.5, 10]:\n",
    "    aucs = get_aucs_from_kfold(c)\n",
    "    print(f'c={c} \\t auc={round(np.mean(aucs), 3)}±{round(np.std(aucs), 3)}')"
   ],
   "metadata": {
    "collapsed": false,
    "ExecuteTime": {
     "end_time": "2023-10-06T11:01:39.577755Z",
     "start_time": "2023-10-06T11:01:36.209532Z"
    }
   },
   "id": "1fa775148630b07e"
  },
  {
   "cell_type": "code",
   "execution_count": 40,
   "outputs": [
    {
     "name": "stdout",
     "output_type": "stream",
     "text": [
      "q6: 10\n"
     ]
    }
   ],
   "source": [
    "print('q6: 10')"
   ],
   "metadata": {
    "collapsed": false,
    "ExecuteTime": {
     "end_time": "2023-10-06T11:02:19.544729Z",
     "start_time": "2023-10-06T11:02:19.514516Z"
    }
   },
   "id": "9296c6a150b4f6d9"
  }
 ],
 "metadata": {
  "kernelspec": {
   "display_name": "Python 3",
   "language": "python",
   "name": "python3"
  },
  "language_info": {
   "codemirror_mode": {
    "name": "ipython",
    "version": 2
   },
   "file_extension": ".py",
   "mimetype": "text/x-python",
   "name": "python",
   "nbconvert_exporter": "python",
   "pygments_lexer": "ipython2",
   "version": "2.7.6"
  }
 },
 "nbformat": 4,
 "nbformat_minor": 5
}
