{
 "cells": [
  {
   "cell_type": "code",
   "execution_count": 28,
   "id": "initial_id",
   "metadata": {
    "collapsed": true,
    "ExecuteTime": {
     "end_time": "2023-10-05T21:44:25.513346Z",
     "start_time": "2023-10-05T21:44:25.495064Z"
    }
   },
   "outputs": [],
   "source": [
    "import numpy as np\n",
    "import pandas as pd\n",
    "\n",
    "from matplotlib import pyplot as plt\n",
    "import seaborn as sns\n",
    "%matplotlib inline"
   ]
  },
  {
   "cell_type": "code",
   "execution_count": 66,
   "outputs": [],
   "source": [
    "import warnings\n",
    "\n",
    "warnings.filterwarnings('ignore')"
   ],
   "metadata": {
    "collapsed": false,
    "ExecuteTime": {
     "end_time": "2023-10-05T22:24:23.438709Z",
     "start_time": "2023-10-05T22:24:23.425660Z"
    }
   },
   "id": "bd9f194191808a2"
  },
  {
   "cell_type": "code",
   "execution_count": 29,
   "outputs": [],
   "source": [
    "df = pd.read_csv('../week3/data.csv')"
   ],
   "metadata": {
    "collapsed": false,
    "ExecuteTime": {
     "end_time": "2023-10-05T21:44:25.867691Z",
     "start_time": "2023-10-05T21:44:25.847579Z"
    }
   },
   "id": "f31da166c9d45aa7"
  },
  {
   "cell_type": "markdown",
   "source": [
    "# Data preparation"
   ],
   "metadata": {
    "collapsed": false
   },
   "id": "e4efd6e31ee5ac5c"
  },
  {
   "cell_type": "code",
   "execution_count": 30,
   "outputs": [],
   "source": [
    "from lib.data_preparation import sanitize_string_columns_and_values\n",
    "\n",
    "columns = ['Make', 'Model', 'Year', 'Engine HP', 'Engine Cylinders', 'Transmission Type', 'Vehicle Style',\n",
    "           'highway MPG', 'city mpg', 'MSRP']\n",
    "df = df[columns]\n",
    "sanitize_string_columns_and_values(df)\n",
    "df.fillna(0, inplace=True)\n",
    "df['above_average'] = df['msrp'] > df.msrp.mean()"
   ],
   "metadata": {
    "collapsed": false,
    "ExecuteTime": {
     "end_time": "2023-10-05T21:44:26.716894Z",
     "start_time": "2023-10-05T21:44:26.712248Z"
    }
   },
   "id": "ea13730cad9f0aec"
  },
  {
   "cell_type": "code",
   "execution_count": 31,
   "outputs": [],
   "source": [
    "from sklearn.model_selection import train_test_split\n",
    "\n",
    "seed = 1\n",
    "\n",
    "df_train_full, df_test = train_test_split(df, test_size=0.2, random_state=seed)\n",
    "df_train, df_valid = train_test_split(df_train_full, test_size=0.25, random_state=seed)\n",
    "\n",
    "y_train = df_train.above_average.values\n",
    "y_valid = df_valid.above_average.values\n",
    "y_test = df_test.above_average.values\n",
    "\n",
    "df_train.drop(columns=['above_average', 'msrp'], inplace=True)\n",
    "df_valid.drop(columns=['above_average', 'msrp'], inplace=True)\n",
    "df_test.drop(columns=['above_average', 'msrp'], inplace=True)"
   ],
   "metadata": {
    "collapsed": false,
    "ExecuteTime": {
     "end_time": "2023-10-05T21:44:27.336914Z",
     "start_time": "2023-10-05T21:44:27.318035Z"
    }
   },
   "id": "e85478147520afa1"
  },
  {
   "cell_type": "markdown",
   "source": [
    "# Question 1: ROC AUC feature importance"
   ],
   "metadata": {
    "collapsed": false
   },
   "id": "cc05e1bf08bfde8c"
  },
  {
   "cell_type": "code",
   "execution_count": 32,
   "outputs": [],
   "source": [
    "numerical_columns = ['year', 'engine_hp', 'engine_cylinders', 'highway_mpg', 'city_mpg']\n",
    "categorical_columns = ['make', 'model', 'transmission_type', 'vehicle_style']"
   ],
   "metadata": {
    "collapsed": false,
    "ExecuteTime": {
     "end_time": "2023-10-05T21:44:29.288203Z",
     "start_time": "2023-10-05T21:44:29.280526Z"
    }
   },
   "id": "bda7f5858cbe3f0"
  },
  {
   "cell_type": "code",
   "execution_count": 35,
   "outputs": [
    {
     "name": "stdout",
     "output_type": "stream",
     "text": [
      "year: 0.688\n",
      "engine_hp: 0.917\n",
      "engine_cylinders: 0.766\n",
      "highway_mpg: 0.633\n",
      "city_mpg: 0.673\n"
     ]
    }
   ],
   "source": [
    "from sklearn.metrics import roc_auc_score\n",
    "\n",
    "for numerical_column in numerical_columns:\n",
    "    auc = roc_auc_score(y_train, df_train[numerical_column].values)\n",
    "    if auc < 0.5:\n",
    "        auc = roc_auc_score(y_train, -df_train[numerical_column].values)\n",
    "    print(f'{numerical_column}: {round(auc, 3)}')"
   ],
   "metadata": {
    "collapsed": false,
    "ExecuteTime": {
     "end_time": "2023-10-05T21:48:37.187440Z",
     "start_time": "2023-10-05T21:48:37.162754Z"
    }
   },
   "id": "b235d715cc1333ac"
  },
  {
   "cell_type": "code",
   "execution_count": 36,
   "outputs": [
    {
     "name": "stdout",
     "output_type": "stream",
     "text": [
      "q1: engine_hp\n"
     ]
    }
   ],
   "source": [
    "print('q1: engine_hp')"
   ],
   "metadata": {
    "collapsed": false,
    "ExecuteTime": {
     "end_time": "2023-10-05T21:51:15.474194Z",
     "start_time": "2023-10-05T21:51:15.427771Z"
    }
   },
   "id": "3907dfcdc57dc531"
  },
  {
   "cell_type": "markdown",
   "source": [
    "# Question 2: Training the model"
   ],
   "metadata": {
    "collapsed": false
   },
   "id": "80b60688b7f35bcb"
  },
  {
   "cell_type": "code",
   "execution_count": 43,
   "outputs": [],
   "source": [
    "from sklearn.feature_extraction import DictVectorizer\n",
    "\n",
    "\n",
    "def get_encoder(df: pd.DataFrame) -> DictVectorizer:\n",
    "    copy = df.copy()\n",
    "    copy = copy.to_dict(orient='records')\n",
    "    encoder = DictVectorizer(sparse=False)\n",
    "    encoder.fit(copy)\n",
    "    return encoder\n",
    "\n",
    "\n",
    "def get_input(df: pd.DataFrame, encoder: DictVectorizer):\n",
    "    copy = df.copy()\n",
    "    copy = copy.to_dict(orient='records')\n",
    "    x = encoder.transform(copy)\n",
    "    return x"
   ],
   "metadata": {
    "collapsed": false,
    "ExecuteTime": {
     "end_time": "2023-10-05T22:04:07.587791Z",
     "start_time": "2023-10-05T22:04:07.574821Z"
    }
   },
   "id": "be08bea2ae255b05"
  },
  {
   "cell_type": "code",
   "execution_count": 44,
   "outputs": [],
   "source": [
    "from sklearn.linear_model import LogisticRegression\n",
    "\n",
    "\n",
    "def train(df, y) -> (LogisticRegression, DictVectorizer):\n",
    "    encoder = get_encoder(df)\n",
    "    x = get_input(df, encoder)\n",
    "    model = LogisticRegression(solver='liblinear', C=1.0, max_iter=1000)\n",
    "    model.fit(x, y)\n",
    "    return model, encoder\n",
    "\n",
    "\n",
    "def predict(df: pd.DataFrame, model: LogisticRegression, encoder: DictVectorizer):\n",
    "    x = get_input(df, encoder)\n",
    "    return model.predict_proba(x)[:, 1]"
   ],
   "metadata": {
    "collapsed": false,
    "ExecuteTime": {
     "end_time": "2023-10-05T22:04:08.050316Z",
     "start_time": "2023-10-05T22:04:08.043095Z"
    }
   },
   "id": "5dfe470b553ed6f7"
  },
  {
   "cell_type": "code",
   "execution_count": 48,
   "outputs": [
    {
     "name": "stdout",
     "output_type": "stream",
     "text": [
      "q2: 0.9798\n"
     ]
    }
   ],
   "source": [
    "model, encoder = train(df_train, y_train)\n",
    "y_pred = predict(df_valid, model, encoder)\n",
    "print('q2:', round(roc_auc_score(y_valid, y_pred), 4))"
   ],
   "metadata": {
    "collapsed": false,
    "ExecuteTime": {
     "end_time": "2023-10-05T22:04:26.671022Z",
     "start_time": "2023-10-05T22:04:26.512607Z"
    }
   },
   "id": "59ff1983fa9bead3"
  },
  {
   "cell_type": "markdown",
   "source": [
    "# Question 3: Precision and Recall"
   ],
   "metadata": {
    "collapsed": false
   },
   "id": "9a51de039c9dcff1"
  },
  {
   "cell_type": "code",
   "execution_count": 77,
   "outputs": [],
   "source": [
    "from sklearn.metrics import precision_score, recall_score\n",
    "\n",
    "precisions = []\n",
    "recalls = []\n",
    "my_precisions = []\n",
    "my_recalls = []\n",
    "thresholds = np.arange(0, 1, 0.01)\n",
    "\n",
    "for threshold in thresholds:\n",
    "    y_pred_flag = y_pred >= threshold\n",
    "\n",
    "    true_positive = ((y_valid == True) & (y_pred_flag == True)).sum()\n",
    "    true_negative = ((y_valid == False) & (y_pred_flag == False)).sum()\n",
    "    false_positive = ((y_valid == False) & (y_pred_flag == True)).sum()\n",
    "    false_negative = ((y_valid == True) & (y_pred_flag == False)).sum()\n",
    "\n",
    "    my_precision = true_positive / (true_positive + false_positive)\n",
    "    my_recall = true_positive / (true_positive + false_negative)\n",
    "    my_precisions.append(my_precision)\n",
    "    my_recalls.append(my_recall)\n",
    "\n",
    "    precision = precision_score(y_valid, y_pred_flag)\n",
    "    recall = recall_score(y_valid, y_pred_flag)\n",
    "    precisions.append(precision)\n",
    "    recalls.append(recall)"
   ],
   "metadata": {
    "collapsed": false,
    "ExecuteTime": {
     "end_time": "2023-10-05T22:28:23.532598Z",
     "start_time": "2023-10-05T22:28:23.369801Z"
    }
   },
   "id": "b6c00e7460569e35"
  },
  {
   "cell_type": "code",
   "execution_count": 78,
   "outputs": [
    {
     "data": {
      "text/plain": "<Figure size 640x480 with 1 Axes>",
      "image/png": "[encoded data removed]"
     },
     "metadata": {},
     "output_type": "display_data"
    }
   ],
   "source": [
    "# plot both lines\n",
    "plt.plot(thresholds, precisions, color='blue', label='precisions')\n",
    "plt.plot(thresholds, recalls, color='red', label='recall')\n",
    "\n",
    "# add legend and labels\n",
    "plt.legend()\n",
    "plt.xlabel('threshold')\n",
    "plt.title('precision and recall')\n",
    "plt.legend()\n",
    "\n",
    "# show the plot\n",
    "plt.show()"
   ],
   "metadata": {
    "collapsed": false,
    "ExecuteTime": {
     "end_time": "2023-10-05T22:28:24.057430Z",
     "start_time": "2023-10-05T22:28:23.970052Z"
    }
   },
   "id": "45b32a02378e1a51"
  },
  {
   "cell_type": "code",
   "execution_count": 86,
   "outputs": [
    {
     "data": {
      "text/plain": "    threshold  precisions    recall\n48       0.48    0.892142  0.885321",
      "text/html": "<div>\n<style scoped>\n    .dataframe tbody tr th:only-of-type {\n        vertical-align: middle;\n    }\n\n    .dataframe tbody tr th {\n        vertical-align: top;\n    }\n\n    .dataframe thead th {\n        text-align: right;\n    }\n</style>\n<table border=\"1\" class=\"dataframe\">\n  <thead>\n    <tr style=\"text-align: right;\">\n      <th></th>\n      <th>threshold</th>\n      <th>precisions</th>\n      <th>recall</th>\n    </tr>\n  </thead>\n  <tbody>\n    <tr>\n      <th>48</th>\n      <td>0.48</td>\n      <td>0.892142</td>\n      <td>0.885321</td>\n    </tr>\n  </tbody>\n</table>\n</div>"
     },
     "execution_count": 86,
     "metadata": {},
     "output_type": "execute_result"
    }
   ],
   "source": [
    "precision_vs_recall = pd.DataFrame({\n",
    "    'threshold': thresholds,\n",
    "    'precisions': precisions,\n",
    "    'recall': recalls\n",
    "})\n",
    "\n",
    "precision_vs_recall[precision_vs_recall['precisions'] > precision_vs_recall['recall']].head(1)"
   ],
   "metadata": {
    "collapsed": false,
    "ExecuteTime": {
     "end_time": "2023-10-05T22:32:20.768817Z",
     "start_time": "2023-10-05T22:32:20.757247Z"
    }
   },
   "id": "166d2d4e8c64e7f5"
  },
  {
   "cell_type": "code",
   "execution_count": 85,
   "outputs": [
    {
     "name": "stdout",
     "output_type": "stream",
     "text": [
      "q3: 0.48\n"
     ]
    }
   ],
   "source": [
    "print('q3: 0.48')"
   ],
   "metadata": {
    "collapsed": false,
    "ExecuteTime": {
     "end_time": "2023-10-05T22:32:12.464659Z",
     "start_time": "2023-10-05T22:32:12.429406Z"
    }
   },
   "id": "37321fb1d13aa3f4"
  },
  {
   "cell_type": "markdown",
   "source": [
    "# Question 4: F1 score"
   ],
   "metadata": {
    "collapsed": false
   },
   "id": "d8100761ed400c05"
  },
  {
   "cell_type": "code",
   "execution_count": null,
   "outputs": [],
   "source": [],
   "metadata": {
    "collapsed": false
   },
   "id": "f0e53793ce1f5385"
  }
 ],
 "metadata": {
  "kernelspec": {
   "display_name": "Python 3",
   "language": "python",
   "name": "python3"
  },
  "language_info": {
   "codemirror_mode": {
    "name": "ipython",
    "version": 2
   },
   "file_extension": ".py",
   "mimetype": "text/x-python",
   "name": "python",
   "nbconvert_exporter": "python",
   "pygments_lexer": "ipython2",
   "version": "2.7.6"
  }
 },
 "nbformat": 4,
 "nbformat_minor": 5
}
